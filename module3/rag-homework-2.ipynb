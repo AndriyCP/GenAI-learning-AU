{
 "cells": [
  {
   "cell_type": "markdown",
   "id": "edf86a47-b70a-498a-8dbc-de917d47fa84",
   "metadata": {},
   "source": [
    "### Retrival Augmentented Generation Day 2"
   ]
  },
  {
   "cell_type": "code",
   "execution_count": null,
   "id": "7347c523-adac-43c8-b651-acc6281afd81",
   "metadata": {},
   "outputs": [],
   "source": [
    "%pip install langchain_cohere -q\n",
    "%pip install spacy -q\n",
    "%pip install psycopg2 -q\n",
    "%pip install python-dotenv -q\n",
    "#ignore error"
   ]
  },
  {
   "cell_type": "code",
   "execution_count": null,
   "id": "a13d4086-c974-496a-99e1-2d5584e0755b",
   "metadata": {},
   "outputs": [],
   "source": [
    "# now you need to run this in a terminal window\n",
    "# python -m spacy download en_core_web_md\n",
    "# now restart your kernel"
   ]
  },
  {
   "cell_type": "markdown",
   "id": "5b4a4fed-79a7-4616-96b5-813c6f5bcc9a",
   "metadata": {},
   "source": [
    "Standard imports for the libraires we will be using in this notebook.  Try to keep your imports in the first cell so this can this code can more easliy be converted into a python program later"
   ]
  },
  {
   "cell_type": "code",
   "execution_count": null,
   "id": "1513731f-ab9f-4e74-9249-e8ff08dfd433",
   "metadata": {},
   "outputs": [],
   "source": [
    "import boto3\n",
    "import pandas as pd\n",
    "import json\n",
    "import time\n",
    "import os\n",
    "import numpy as np\n",
    "import pyarrow\n",
    "import traceback\n",
    "from langchain.embeddings import BedrockEmbeddings\n",
    "from langchain_core.prompts import ChatPromptTemplate\n",
    "from langchain_community.chat_models import BedrockChat\n",
    "from langchain_core.output_parsers import StrOutputParser\n",
    "from langchain.text_splitter import RecursiveCharacterTextSplitter\n",
    "from langchain.embeddings import BedrockEmbeddings\n",
    "import dbconnection\n",
    "import psycopg2\n",
    "from psycopg2 import OperationalError\n",
    "from dotenv import load_dotenv\n",
    "\n",
    "load_dotenv()\n",
    "# Create the AWS client for the Bedrock runtime with boto3\n",
    "aws_client = boto3.client(service_name=\"bedrock-runtime\")"
   ]
  },
  {
   "cell_type": "markdown",
   "id": "3ceec844-3eee-4ce4-993d-d72ab9dd8560",
   "metadata": {},
   "source": [
    "#### Lets define functions that will use various embedding models so we can generate vector embeddings\n",
    "Spacey"
   ]
  },
  {
   "cell_type": "code",
   "execution_count": null,
   "id": "dd1b6024-dda4-4dd3-836d-5830b472d8b6",
   "metadata": {},
   "outputs": [],
   "source": [
    "def generate_spacy_vector_embedding(text):\n",
    "    embedder = SpacyEmbeddings(model_name=\"en_core_web_md\")\n",
    "    query_embedding = embedder.embed_query(text)\n",
    "\n",
    "    return(np.array(query_embedding))"
   ]
  },
  {
   "cell_type": "markdown",
   "id": "35157a12-af69-4d79-8a9f-d7229eef4bec",
   "metadata": {},
   "source": [
    "Cohere"
   ]
  },
  {
   "cell_type": "code",
   "execution_count": null,
   "id": "a0667bf3-01ef-4493-8cbc-744413c0d457",
   "metadata": {},
   "outputs": [],
   "source": [
    "# send in an array size of one and only return the 0th element\n",
    "def generate_cohere_vector_embedding(text_data):\n",
    "    input_type = \"clustering\"\n",
    "    truncate = \"NONE\" # optional\n",
    "    model_id = \"cohere.embed-english-v3\" # or \"cohere.embed-multilingual-v3\"\n",
    "    \n",
    "    # Create the JSON payload for the request\n",
    "    json_params = {\n",
    "            'texts': [text_data],\n",
    "            'truncate': truncate, \n",
    "            \"input_type\": input_type\n",
    "        }\n",
    "    json_body = json.dumps(json_params)\n",
    "    params = {'body': json_body, 'modelId': model_id,}\n",
    "    \n",
    "    # Invoke the model and print the response\n",
    "    result = aws_client.invoke_model(**params)\n",
    "    response = json.loads(result['body'].read().decode())\n",
    "    return(np.array(response['embeddings'][0]))\n"
   ]
  },
  {
   "cell_type": "markdown",
   "id": "cef0f33d-429d-4636-9082-d7bbb9850790",
   "metadata": {},
   "source": [
    "Amazon Titan"
   ]
  },
  {
   "cell_type": "code",
   "execution_count": null,
   "id": "5794765f-0b32-451e-a145-6a7b4ce785e0",
   "metadata": {},
   "outputs": [],
   "source": [
    "# Let's generate a dense vector using Amazon Titan with LangChain\n",
    "def generate_titan_vector_embedding(text):\n",
    "    #create an Amazon Titan Text Embeddings client\n",
    "    embeddings_client = BedrockEmbeddings(region_name=\"us-west-2\") \n",
    "\n",
    "    #Invoke the model\n",
    "    embedding = embeddings_client.embed_query(text)\n",
    "    return(np.array(embedding))\n",
    "\n"
   ]
  },
  {
   "cell_type": "code",
   "execution_count": null,
   "id": "f08b3826-e751-4f03-b564-e2eb2d3ff00a",
   "metadata": {},
   "outputs": [],
   "source": [
    "# Let's generate a dense vector using Amazon Titan without using a np.array as a return value\n",
    "def generate_vector_embedding(text):\n",
    "    #create an Amazon Titan Text Embeddings client\n",
    "    embeddings_client = BedrockEmbeddings(region_name=\"us-west-2\") \n",
    "\n",
    "    #Invoke the model\n",
    "    embedding = embeddings_client.embed_query(text)\n",
    "    #Note pgvector does not want a np.array as out manual method\n",
    "    return(embedding)\n",
    "\n"
   ]
  },
  {
   "cell_type": "markdown",
   "id": "3ff40e7e-c880-4dd1-b7ad-70f8a12efe2a",
   "metadata": {},
   "source": [
    "This is the mathmatical formula to calcuate cosine similarity between 2 vectors"
   ]
  },
  {
   "cell_type": "code",
   "execution_count": null,
   "id": "5e8367a7-c786-41fc-ad05-d53b5633d044",
   "metadata": {},
   "outputs": [],
   "source": [
    "def cosine_similarity(vec1, vec2):\n",
    "    dot_product = np.dot(vec1, vec2)\n",
    "    norm_vec1 = np.linalg.norm(vec1)\n",
    "    norm_vec2 = np.linalg.norm(vec2)\n",
    "    similarity = dot_product / (norm_vec1 * norm_vec2)\n",
    "    return similarity\n",
    "\n"
   ]
  },
  {
   "cell_type": "code",
   "execution_count": null,
   "id": "6763ad27-f4b8-4f6a-8200-d067332ea4e7",
   "metadata": {},
   "outputs": [],
   "source": [
    "def clean_value(value):\n",
    "    value_str = str(value)\n",
    "    cleaned_value = ''.join(char for char in value_str if char.isalnum() or char.isspace())\n",
    "    return cleaned_value"
   ]
  },
  {
   "cell_type": "code",
   "execution_count": null,
   "id": "b14383a5-eec2-40e7-9c61-ccadb437d46d",
   "metadata": {},
   "outputs": [],
   "source": [
    "def limit_string_size(x, max_chars=2048):\n",
    "    # Check if the input is a string\n",
    "    if isinstance(x, str):\n",
    "        return x[:max_chars]\n",
    "    else:\n",
    "        return x"
   ]
  },
  {
   "cell_type": "code",
   "execution_count": null,
   "id": "c7c74692-d25d-48ae-8fde-04ba53188a57",
   "metadata": {},
   "outputs": [],
   "source": [
    "def print_top_values(list_stuff: list, num_items: int) -> None:\n",
    "    i=0\n",
    "    for item in list_stuff:\n",
    "        i=i+1\n",
    "        if i>num_items:\n",
    "            return None\n",
    "        print(item)"
   ]
  },
  {
   "cell_type": "code",
   "execution_count": null,
   "id": "5d11db83-cffa-4ebc-8f41-5392bb92cc56",
   "metadata": {},
   "outputs": [],
   "source": [
    "# clean abstract text\n",
    "#df = pd.read_csv('data/latest_research_articles.csv')\n",
    "#df['abstract'] = df['abstract'].apply(clean_value)\n",
    "\n",
    "#df\n",
    "dft = pd.read_pickle('data/embedded_df.pkl')"
   ]
  },
  {
   "cell_type": "code",
   "execution_count": null,
   "id": "f48e81ca-c394-49ab-b5f0-cbaab5f7aeef",
   "metadata": {},
   "outputs": [],
   "source": [
    "# Generate HyDE context\n",
    "\n",
    "def generate_hyde_response(query_phrase):\n",
    "    model_id = \"anthropic.claude-3-sonnet-20240229-v1:0\"\n",
    "    # Each model will named parameters which will likely be different depending on the providor\n",
    "    model_kwargs =  { \n",
    "        \"max_tokens\": 400, # This is the maximum output tokens you want the model to use\n",
    "        \"temperature\": 1,  # Temperature controls the randomness and creativity of the generated text.\n",
    "        \"top_k\": 250,      # Top-k parameter determines the number of highest probability next word choices the model should conside\n",
    "        \"top_p\": 0.9,      # Top-p sampling considers the cumulative probability distribution of the next word choices and sets a probability threshold\n",
    "        \"stop_sequences\": [\"\\n\\nHuman\"],\n",
    "    }\n",
    "    # LangChain tooling\n",
    "    model = BedrockChat(\n",
    "        client=aws_client,\n",
    "        model_id=model_id,\n",
    "        model_kwargs=model_kwargs,\n",
    "    )\n",
    "    \n",
    "    human_prompt = \"Given the following question \\n {query} can you please generate a paragraph of text that answers the question. Be sure to use scientific \\\n",
    "                    medical terminology. Please just include the paragraph in your response.\"\n",
    "    # Uses the messaging method which is required for all Claude 3 calls\n",
    "    messages = [\n",
    "        (\"system\", \"You are a helpful assistant\"),\n",
    "        (\"human\", human_prompt),\n",
    "    ]\n",
    "    try:\n",
    "        prompt = ChatPromptTemplate.from_messages(messages)\n",
    "        # LangChain at work\n",
    "        chain = prompt | model | StrOutputParser()\n",
    "\n",
    "\n",
    "        # Send the message content to Claude using Bedrock and get the response\n",
    "        start_time = time.time()  # Start timing\n",
    "        # Call Bedrock\n",
    "        response = chain.invoke({\"query\": query_phrase})\n",
    "        end_time = time.time()  # End timing\n",
    "        print(\"Claude call took :\", end_time - start_time)  # Calculate execution time\n",
    "\n",
    "        return(response)\n",
    "    except Exception as e:\n",
    "        exc_type, exc_value, exc_traceback = traceback.sys.exc_info()\n",
    "        line_number = exc_traceback.tb_lineno\n",
    "        print(f\"Errort: {exc_type}{exc_value}{exc_traceback} on {line_number}\")"
   ]
  },
  {
   "cell_type": "code",
   "execution_count": null,
   "id": "05f073f8-9e1d-4222-9e68-dc5ea4800b78",
   "metadata": {},
   "outputs": [],
   "source": [
    "def calculate_zscores(cosine_scores):\n",
    "    zscores = []\n",
    "    # Calculate the mean of the sample points\n",
    "    mean = np.mean(cosine_scores)\n",
    "    # Calculate the standard deviation of the sample points\n",
    "    std_deviation = np.std(cosine_scores, ddof=1)  # ddof=1 for sample standard deviation\n",
    "    # Calculate the z-scores for each sample point\n",
    "    z_scores = [(x - mean) / std_deviation for x in cosine_scores]\n",
    "\n",
    "    return z_scores"
   ]
  },
  {
   "cell_type": "code",
   "execution_count": null,
   "id": "f268e1a0-5ac3-4f96-b838-a816980344e0",
   "metadata": {},
   "outputs": [],
   "source": [
    "# Now let's take the records that are greater that 1/2 the top Z-score and send those to the LLM for an answer\n",
    "def best_answer(data, question):\n",
    "    model_id = \"anthropic.claude-3-sonnet-20240229-v1:0\"\n",
    "\n",
    "    model_kwargs =  { \n",
    "        \"max_tokens\": 2048,\n",
    "        \"temperature\": 0.0,\n",
    "        \"top_k\": 250,\n",
    "        \"top_p\": 0.9,\n",
    "        \"stop_sequences\": [\"\\n\\nHuman\"],\n",
    "    }\n",
    "\n",
    "    model = BedrockChat(\n",
    "        client=aws_client,\n",
    "        model_id=model_id,\n",
    "        model_kwargs=model_kwargs,\n",
    "    )\n",
    "\n",
    "    human_prompt = \"You are to answer the question using the data in the following information.  Do not make up your answer, only use \\\n",
    "                    supporting data from the article, If you don't have enough data simply respond, I don't have enough information to answer that question. \\\n",
    "                    given the following article data {data} can you please give a concise answer to the following question. {question}\"\n",
    "    messages = [\n",
    "        (\"system\", \"You are a helpful assistant that can answer quesitons based on news articles you have been given.\"),\n",
    "        (\"human\", human_prompt),\n",
    "    ]\n",
    "    try:\n",
    "        prompt = ChatPromptTemplate.from_messages(messages)\n",
    "\n",
    "        chain = prompt | model | StrOutputParser()\n",
    "\n",
    "        # Chain Invoke\n",
    "        \n",
    "    \n",
    "        # Send the message content to Claude using Bedrock and get the response\n",
    "        start_time = time.time()  # Start timing\n",
    "        # Call Bedrock\n",
    "        response = chain.invoke({\"data\": data,\"question\": question})\n",
    "        end_time = time.time()  # End timing\n",
    "        #print(\"Claude call took :\", end_time - start_time)  # Calculate execution time\n",
    "\n",
    "        return(response)\n",
    "    except Exception as e:\n",
    "        exc_type, exc_value, exc_traceback = traceback.sys.exc_info()\n",
    "        line_number = exc_traceback.tb_lineno\n",
    "\n",
    "        return f\"ERROR generating good answer: {exc_type}{exc_value}{exc_traceback} on {line_number}\"\n"
   ]
  },
  {
   "cell_type": "code",
   "execution_count": null,
   "id": "6460fbcf-1129-4eec-88ba-c6f5abd5bb7f",
   "metadata": {},
   "outputs": [],
   "source": [
    "from requests import get\n",
    "\n",
    "ip = get('https://api.ipify.org').content.decode('utf8')\n",
    "print('My public IP address is: {}'.format(ip))\n"
   ]
  },
  {
   "cell_type": "code",
   "execution_count": null,
   "id": "c91e402b-c8d5-43ec-af35-849c40529366",
   "metadata": {},
   "outputs": [],
   "source": [
    "# Fill in your username so yoru database entry will be unique to you\n",
    "#MY_USERNAME = \"dkraker@calpoly.edu\"\n",
    "MY_USERNAME = \"YOUR USERNAME HERE\""
   ]
  },
  {
   "cell_type": "markdown",
   "id": "8cb0e149-5e0e-41e5-bba5-7d9d2f91df37",
   "metadata": {},
   "source": [
    "Let's define a function that will put data into our vector DB"
   ]
  },
  {
   "cell_type": "code",
   "execution_count": null,
   "id": "32415403-8b26-460b-9128-9a67b05b4740",
   "metadata": {},
   "outputs": [],
   "source": [
    "def insert_record_into_db(table_name, record, conn):\n",
    "\n",
    "    # Dynamically generates and executes an INSERT SQL statement for PostgreSQL, handling\n",
    "    # special data types like datetime objects and arrays directly.\n",
    "    \n",
    "    # Args:\n",
    "    # - table_name (str): The name of the table into which the record will be inserted.\n",
    "    # - data (dict): A dictionary representing the record to be inserted, where keys are column names\n",
    "    #                  and values can include native PostgreSQL types like datetime and arrays.\n",
    "    # - conn (psycopg2.connection): A psycopg2 connection object.\n",
    "    \n",
    "    # Generate column names and placeholders\n",
    "    columns = ', '.join(record.keys())\n",
    "    placeholders = ', '.join(['%s'] * len(record))  # PostgreSQL uses %s as placeholder\n",
    "\n",
    "    # Create the INSERT INTO statement\n",
    "    sql = f'INSERT INTO {table_name} ({columns}) VALUES ({placeholders})'\n",
    "    #print(\"columns=\", columns)\n",
    "    #print(\"placeholders=\", placeholders)\n",
    "    #print(sql)\n",
    "    try:\n",
    "        cur = conn.cursor()\n",
    "        \n",
    "        cur.execute(sql, tuple(record.values()))\n",
    "        conn.commit()\n",
    "        print(\"Record inserted successfully.\")\n",
    "    except psycopg2.Error as e:\n",
    "        print(\"An error occurred:\", e)\n"
   ]
  },
  {
   "cell_type": "code",
   "execution_count": null,
   "id": "2e6ee978-95da-4158-a760-0c8658f136c3",
   "metadata": {},
   "outputs": [],
   "source": [
    "# Load your large text document\n",
    "with open(\"data/staff-report.txt\", \"r\") as file:\n",
    "    text = file.read()\n",
    "\n",
    "# Create a text splitter\n",
    "text_splitter = RecursiveCharacterTextSplitter(\n",
    "    chunk_size=1024,  # Adjust the chunk size as needed\n",
    "    chunk_overlap=512,  # Adjust the overlap between chunks as needed\n",
    ")\n",
    "\n",
    "# Split the text into chunks\n",
    "chunks = text_splitter.split_text(text)\n",
    "\n",
    "conn = dbconnection.open_connection_to_db()\n",
    "try:\n",
    "    # create a dataframe with new chunk raw text\n",
    "    for chunk in chunks:\n",
    "        data_record = {}\n",
    "        v_embed = generate_vector_embedding(chunk)\n",
    "        data_record[\"username\"] = MY_USERNAME\n",
    "        data_record[\"textattribute1\"] = chunk\n",
    "        data_record[\"textattribute2\"] = \"\"\n",
    "        data_record[\"textattribute3\"] = \"\"\n",
    "        data_record[\"textattribute4\"] = \"\"\n",
    "        data_record[\"textattribute5\"] = \"\"\n",
    "        data_record[\"textembedding1\"] = v_embed\n",
    "        insert_record_into_db(\"rag\", data_record, conn)        \n",
    "        \n",
    "except Exception as e:\n",
    "    print(f\"An error occurred: {e}\")\n",
    "finally:\n",
    "    if conn:\n",
    "        conn.close()"
   ]
  },
  {
   "cell_type": "markdown",
   "id": "c47fc908-102b-4a6d-8e1a-7cc3e294d999",
   "metadata": {},
   "source": [
    "Now let's use the database as a way to find the best match. Notice the 2 different commented SQL syntax differences.  We can easily compute Euclidean distance as well"
   ]
  },
  {
   "cell_type": "code",
   "execution_count": null,
   "id": "c1b8f77b-af42-40f8-88a6-7ce83ff14fae",
   "metadata": {},
   "outputs": [],
   "source": [
    "def run_similarity_search_pgvector(question, embedded_text, conn):\n",
    "    # Cosine similarity\n",
    "    #1-(textembedding1 <=> ('{embedded_text}')) as cosine_similar  \\\n",
    "    # Euclidean distance\n",
    "    #textembedding1 <-> ('{embedded_text}') as euclidean_distance  \\\n",
    "    sql = f\"SELECT textattribute1, textattribute2, textattribute3, textattribute4, textattribute5, \\\n",
    "                1-(textembedding1 <=> ('{embedded_text}')) as cosine_similar  \\\n",
    "                FROM public.rag \\\n",
    "                WHERE username = '{MY_USERNAME}' \\\n",
    "                ORDER BY cosine_similar DESC \\\n",
    "                LIMIT 50\"\n",
    "    #print(sql)\n",
    "    cosine_scores = []\n",
    "    try:\n",
    "        article_text = \"\"\n",
    "        cur = conn.cursor()\n",
    "        cur.execute(sql)\n",
    "        rows = cur.fetchall()\n",
    "\n",
    "        # grab the cosine scores so we can compute Z score for narrow article selection\n",
    "        # need all scores so we can calc Z\n",
    "        for row in rows:\n",
    "            #print(row[5])\n",
    "            cosine_scores.append(row[5])\n",
    "            \n",
    "        z_scores = calculate_zscores(cosine_scores)\n",
    "        answer = \"Unknown\"\n",
    "        article_text = \"\"\n",
    "        zscore_index = 0\n",
    "        first_z_score = z_scores[0]\n",
    "        for row in rows:\n",
    "            if(first_z_score/2)<z_scores[zscore_index]:\n",
    "                print(f\"Using chunk with a cosine match of: {row[5]} and Z-score of: {z_scores[zscore_index]}\")\n",
    "                article_text = article_text + row[0] + \"\\n\"\n",
    "            zscore_index += 1\n",
    "        #print(article_text)\n",
    "        answer = best_answer(article_text, question)\n",
    "        #Close cursor and connection\n",
    "        cur.close()\n",
    "        return answer\n",
    "        \n",
    "    except psycopg2.Error as e:\n",
    "            print(\"An error occurred:\", e)\n",
    "    finally:\n",
    "        if conn:\n",
    "            conn.close()\n",
    "        \n",
    "  "
   ]
  },
  {
   "cell_type": "code",
   "execution_count": null,
   "id": "a1d8562e-d5b3-4a54-b1fc-4448c33608a5",
   "metadata": {},
   "outputs": [],
   "source": [
    "def view_my_data(conn):\n",
    "    try:\n",
    "        cur = conn.cursor()\n",
    "\n",
    "        # SQL statement to delete rows where username is 'bob'\n",
    "        sql = f\"SELECT textattribute1, textattribute2, textattribute3, textattribute4, textattribute5 FROM public.rag WHERE username = '{MY_USERNAME}'\"\n",
    "    \n",
    "        # Execute the SQL statement\n",
    "        cur.execute(sql)\n",
    "        rows = cur.fetchall()\n",
    "\n",
    "        # grab the cosine scores so we can compute Z score for narrow article selection\n",
    "        for row in rows:\n",
    "            print(row[0], row[1], row[2], row[3], row[4])\n",
    "    \n",
    "        \n",
    "\n",
    "        \n",
    "    except psycopg2.Error as e:\n",
    "            print(\"An error occurred:\", e)\n",
    "    finally:\n",
    "        if conn:\n",
    "            conn.close()\n",
    "    "
   ]
  },
  {
   "cell_type": "code",
   "execution_count": null,
   "id": "2d5021db-398f-437b-855a-d4c8ad4d3eba",
   "metadata": {},
   "outputs": [],
   "source": [
    "conn = dbconnection.open_connection_to_db()\n",
    "view_my_data(conn)"
   ]
  },
  {
   "cell_type": "code",
   "execution_count": null,
   "id": "74a487bd-e287-4fd4-b9b3-c19efbb7c1dc",
   "metadata": {},
   "outputs": [],
   "source": [
    "def purge_my_data(conn):\n",
    "    \n",
    "    try:\n",
    "        cur = conn.cursor()\n",
    "\n",
    "        # SQL statement to delete rows where username is 'bob'\n",
    "        sql = f\"DELETE FROM public.rag WHERE username = '{MY_USERNAME}'\"\n",
    "    \n",
    "        # Execute the SQL statement\n",
    "        cur.execute(sql)\n",
    "    \n",
    "        # Commit the changes to the database\n",
    "        conn.commit()\n",
    "    \n",
    "        # Get the number of affected rows\n",
    "        deleted_rows = cur.rowcount\n",
    "        print(f\"{deleted_rows} row(s) deleted.\")\n",
    "\n",
    "        \n",
    "    except psycopg2.Error as e:\n",
    "            print(\"An error occurred:\", e)\n",
    "    finally:\n",
    "        if conn:\n",
    "            conn.close()"
   ]
  },
  {
   "cell_type": "code",
   "execution_count": null,
   "id": "d53dba01-eb07-43fa-a617-8de799704356",
   "metadata": {},
   "outputs": [],
   "source": [
    "conn = dbconnection.open_connection_to_db()\n",
    "purge_my_data(conn)"
   ]
  },
  {
   "cell_type": "markdown",
   "id": "b76865d1-590d-4571-8fab-cc3c1644b5c9",
   "metadata": {},
   "source": [
    "### RAG Homework 2\n",
    "Now that you've seen the power of RAG you need to design and build a small application of your own using all the techniques you've learned to answer interesting questions that only your dataset can answer\n",
    "\n",
    "1) Find a interesting set of information data that is NOT present in Claude 3 or simililar and prep / clean the data for ingestion"
   ]
  },
  {
   "cell_type": "code",
   "execution_count": 1,
   "id": "5cecd3cf-204c-4d0c-a3ba-d9fcde15a189",
   "metadata": {},
   "outputs": [],
   "source": [
    "# Describe your dataset here and explain or validate why this data isn't in Claude 3 or similar"
   ]
  },
  {
   "cell_type": "markdown",
   "id": "9cf81bda-5eb7-4c02-bbeb-b9df429aa062",
   "metadata": {},
   "source": [
    "2) Ingest this data into a data store for later retrieval.  1 extra credit point if you choose to use the class vector DB provided"
   ]
  },
  {
   "cell_type": "code",
   "execution_count": 4,
   "id": "35af064b-b4c4-4e84-8636-caf214b6b683",
   "metadata": {},
   "outputs": [],
   "source": [
    "# your code here"
   ]
  },
  {
   "cell_type": "markdown",
   "id": "b3bb7b7e-7d48-41e9-a954-2ed271abb54e",
   "metadata": {},
   "source": [
    "3. Choose a retrieval method to respond to input queries and using either an approach demonstrated in class or one of your own that reduces the retrieval context length "
   ]
  },
  {
   "cell_type": "code",
   "execution_count": 3,
   "id": "674d0f67-7bf5-486d-8279-785321bd8e71",
   "metadata": {},
   "outputs": [],
   "source": [
    "# your code here"
   ]
  },
  {
   "cell_type": "markdown",
   "id": "2aaeb2c0-3acf-4fab-803b-a4ad9b769650",
   "metadata": {},
   "source": [
    "4) Use an LLM of your choosing to provide a concise answer to the question asked.  Ensure the information provided can be referenced in your original source data"
   ]
  },
  {
   "cell_type": "code",
   "execution_count": 5,
   "id": "d6cad618-e0ae-4198-a70c-5d0e910e21a5",
   "metadata": {},
   "outputs": [],
   "source": [
    "# your code here"
   ]
  }
 ],
 "metadata": {
  "kernelspec": {
   "display_name": "Python 3 (ipykernel)",
   "language": "python",
   "name": "python3"
  },
  "language_info": {
   "codemirror_mode": {
    "name": "ipython",
    "version": 3
   },
   "file_extension": ".py",
   "mimetype": "text/x-python",
   "name": "python",
   "nbconvert_exporter": "python",
   "pygments_lexer": "ipython3",
   "version": "3.10.14"
  }
 },
 "nbformat": 4,
 "nbformat_minor": 5
}
