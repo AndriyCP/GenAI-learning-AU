{
 "cells": [
  {
   "cell_type": "markdown",
   "id": "ce82e001-1cda-4b3f-856a-08199ed3b4da",
   "metadata": {},
   "source": [
    "## Still under development, not ready for student use"
   ]
  },
  {
   "cell_type": "code",
   "execution_count": null,
   "id": "77b36f70-fa77-410e-b0b6-2d1eb2b23391",
   "metadata": {},
   "outputs": [],
   "source": [
    "# See install in M2-8a"
   ]
  },
  {
   "cell_type": "code",
   "execution_count": 1,
   "id": "55ef21b8-a62d-42a1-8494-443c3f6a9e9e",
   "metadata": {},
   "outputs": [],
   "source": [
    "from dotenv import load_dotenv\n",
    "import os\n",
    "# Load environment variables from .env file\n",
    "load_dotenv()\n",
    "# Now you can access the environment variables\n",
    "anthropic_api_key = os.getenv('ANTHROPIC_API_KEY')\n",
    "openai_api_key = os.getenv('OPENAI_API_KEY')\n",
    "langchain_api_key = os.getenv('LANGCHAIN_API_KEY')"
   ]
  },
  {
   "cell_type": "code",
   "execution_count": null,
   "id": "fc56d7db-d890-462a-94f6-a8a4b79f57d9",
   "metadata": {},
   "outputs": [],
   "source": [
    "#from langchain_core.prompts import ChatPromptTemplate"
   ]
  },
  {
   "cell_type": "code",
   "execution_count": 3,
   "id": "196711ca-5540-422c-925b-619a37187f8c",
   "metadata": {},
   "outputs": [
    {
     "name": "stdout",
     "output_type": "stream",
     "text": [
      "62\n"
     ]
    }
   ],
   "source": [
    "from langchain_community.document_loaders import WebBaseLoader\n",
    "url = \"https://en.wikipedia.org/wiki/Elon_Musk\"\n",
    "loader = WebBaseLoader(url)\n",
    "# Download the webpage into a variable\n",
    "documents = loader.load()\n",
    "# Text Splitter\n",
    "from langchain_text_splitters import RecursiveCharacterTextSplitter\n",
    "# Create the text splitter\n",
    "text_splitter = RecursiveCharacterTextSplitter()\n",
    "docs = text_splitter.split_documents(documents)\n",
    "# Create embeddings\n",
    "from langchain_openai import OpenAIEmbeddings\n",
    "embeddings = OpenAIEmbeddings(api_key=openai_api_key)\n",
    "# Vector db\n",
    "from langchain_community.vectorstores import FAISS\n",
    "vector_db = FAISS.from_documents(docs, embeddings)\n",
    "print(vector_db.index.ntotal)"
   ]
  },
  {
   "cell_type": "code",
   "execution_count": 8,
   "id": "5faf1b8a-c0eb-4675-a945-8dece0a1c94a",
   "metadata": {},
   "outputs": [],
   "source": [
    "retriever = vector_db.as_retriever()"
   ]
  },
  {
   "cell_type": "code",
   "execution_count": 9,
   "id": "695e0a0f-8391-4d77-b250-c35648537d0f",
   "metadata": {},
   "outputs": [],
   "source": [
    "# Model\n",
    "from langchain_openai import ChatOpenAI\n",
    "\n",
    "openai_llm = ChatOpenAI(api_key=openai_api_key)"
   ]
  },
  {
   "cell_type": "code",
   "execution_count": 17,
   "id": "b0feff96-4617-4da7-b482-f34350a002ee",
   "metadata": {},
   "outputs": [],
   "source": [
    "from langchain_core.output_parsers import StrOutputParser\n",
    "\n",
    "# This parser takes the AIMessage reutrned form the LLM and converts it to a string\n",
    "output_parser = StrOutputParser()"
   ]
  },
  {
   "cell_type": "code",
   "execution_count": 18,
   "id": "f0d18ca5-677a-477f-87b2-93292d2720f8",
   "metadata": {},
   "outputs": [],
   "source": [
    "from langchain_core.prompts import ChatPromptTemplate\n",
    "\n",
    "template = \"\"\"Answer the question based only on the following context:\n",
    "\n",
    "{context}\n",
    "\n",
    "Question: {question}\n",
    "\"\"\"\n",
    "my_prompt = ChatPromptTemplate.from_template(template)"
   ]
  },
  {
   "cell_type": "code",
   "execution_count": 19,
   "id": "2e4c2b2c-6257-433e-9273-b4e4e109458d",
   "metadata": {},
   "outputs": [],
   "source": [
    "def format_docs(docs):\n",
    "    return \"\\n\\n\".join([d.page_content for d in docs])"
   ]
  },
  {
   "cell_type": "code",
   "execution_count": 14,
   "id": "c0a625be-1296-4feb-bbdf-d9fb23d56d4a",
   "metadata": {},
   "outputs": [],
   "source": [
    "#format_docs(docs)"
   ]
  },
  {
   "cell_type": "code",
   "execution_count": 21,
   "id": "26d02d39-13f3-43c1-a637-3fde64e8ae76",
   "metadata": {},
   "outputs": [],
   "source": [
    "from langchain_core.runnables import RunnablePassthrough\n",
    "chain = (\n",
    "    {\"context\": retriever | format_docs, \"question\": RunnablePassthrough()}\n",
    "    | my_prompt\n",
    "    | openai_llm\n",
    "    | StrOutputParser()\n",
    ")"
   ]
  },
  {
   "cell_type": "code",
   "execution_count": 23,
   "id": "e88c0649-453a-4a67-ad7e-850a04d0621f",
   "metadata": {},
   "outputs": [
    {
     "data": {
      "text/plain": [
       "'Elon Musk is controversial due to his outspoken views on various issues such as artificial intelligence, climate change, politics, and technology. His statements and actions, including his use of social media, have sparked controversy and criticism from various groups and individuals.'"
      ]
     },
     "execution_count": 23,
     "metadata": {},
     "output_type": "execute_result"
    }
   ],
   "source": [
    "chain.invoke(\"Why is Elon so contriversal?\")"
   ]
  },
  {
   "cell_type": "code",
   "execution_count": null,
   "id": "4e65fd8a-25a4-4e2a-b95d-c753b630272d",
   "metadata": {},
   "outputs": [],
   "source": []
  },
  {
   "cell_type": "code",
   "execution_count": null,
   "id": "bdcb72ff-99b8-406e-8747-4600a8347292",
   "metadata": {},
   "outputs": [],
   "source": []
  },
  {
   "cell_type": "code",
   "execution_count": null,
   "id": "217bc2ce-44fa-4b04-b645-9ab438eceb3a",
   "metadata": {},
   "outputs": [],
   "source": [
    "query = \"Where was Elon born?\"\n",
    "docs = vector_db.similarity_search(query)"
   ]
  },
  {
   "cell_type": "code",
   "execution_count": null,
   "id": "cad8add0-5b96-491f-9eb5-70fb2f4c21a6",
   "metadata": {},
   "outputs": [],
   "source": [
    "#print(docs[0].page_content)"
   ]
  },
  {
   "cell_type": "code",
   "execution_count": null,
   "id": "e83a8ceb-957d-48b8-97da-3d0148afa35c",
   "metadata": {},
   "outputs": [],
   "source": [
    "retriever = vector_db.as_retriever()\n",
    "docs = retriever.invoke(query)"
   ]
  },
  {
   "cell_type": "code",
   "execution_count": null,
   "id": "79e965a8-a6ed-45f9-bdd7-4215c47fd601",
   "metadata": {},
   "outputs": [],
   "source": [
    "print(docs[0].page_content)"
   ]
  },
  {
   "cell_type": "code",
   "execution_count": null,
   "id": "c38ca152-26a6-40fe-a95d-c482b4a40fdc",
   "metadata": {},
   "outputs": [],
   "source": []
  },
  {
   "cell_type": "code",
   "execution_count": null,
   "id": "253efbff-7eac-4abe-b9e3-091a85434df1",
   "metadata": {},
   "outputs": [],
   "source": []
  },
  {
   "cell_type": "code",
   "execution_count": null,
   "id": "50f6516d-8ce3-4f1f-8626-a68258520133",
   "metadata": {},
   "outputs": [],
   "source": []
  },
  {
   "cell_type": "code",
   "execution_count": null,
   "id": "036a27f0-34fd-4ef2-840d-853fc55b40e5",
   "metadata": {},
   "outputs": [],
   "source": [
    "# Retrive source material\n",
    "#\n",
    "from langchain_community.document_loaders import WebBaseLoader\n",
    "\n",
    "#loader = WebBaseLoader(\"https://docs.smith.langchain.com/user_guide\")\n",
    "\n",
    "url = \"https://en.wikipedia.org/wiki/Elon_Musk\"\n",
    "\n",
    "loader = WebBaseLoader(url)\n",
    "# Download the webpage into a variable\n",
    "webpage_source = loader.load()"
   ]
  },
  {
   "cell_type": "code",
   "execution_count": null,
   "id": "b25a3ce0-f3d7-4cbf-9838-b6ee69293b86",
   "metadata": {},
   "outputs": [],
   "source": [
    "type(webpage_source)\n",
    "# Dump the string\n",
    "#len(webpage_source[0].page_content)\n",
    "word_count = len(webpage_source[0].page_content.split())\n",
    "print(word_count)"
   ]
  },
  {
   "cell_type": "code",
   "execution_count": null,
   "id": "5f4509d3-790d-425c-a7d9-c3543c774d65",
   "metadata": {},
   "outputs": [],
   "source": [
    "#%pip install langchain_openai\n",
    "#%pip show langchain_openai\n",
    "#%pip show typing-extensions"
   ]
  },
  {
   "cell_type": "code",
   "execution_count": null,
   "id": "0c2357eb-1938-48af-b1f9-ba162eac8246",
   "metadata": {},
   "outputs": [],
   "source": [
    "# %pip uninstall typing_extensions -y\n",
    "# %pip install typing_extensions\n",
    "#%pip install --force-reinstall typing-extensions==4.5\n",
    "#pip install --force-reinstall openai==1.8"
   ]
  },
  {
   "cell_type": "code",
   "execution_count": null,
   "id": "3637f7a9-dbb1-45fb-9c2c-d83cd449dd3c",
   "metadata": {},
   "outputs": [],
   "source": [
    "# from langchain_openai import ChatOpenAI\n",
    "# openai_llm = ChatOpenAI(api_key=openai_api_key)"
   ]
  },
  {
   "cell_type": "code",
   "execution_count": null,
   "id": "137a1801-c08a-4ada-97e7-d90ef61cc33d",
   "metadata": {},
   "outputs": [],
   "source": []
  },
  {
   "cell_type": "code",
   "execution_count": null,
   "id": "3e816b77-164c-4b99-81da-86f9ec8cc289",
   "metadata": {},
   "outputs": [],
   "source": [
    "# Vector store\n",
    "#%pip install faiss-cpu\n",
    "#%pip show faiss-cpu"
   ]
  },
  {
   "cell_type": "code",
   "execution_count": null,
   "id": "f4ce8971-04e4-4a09-8561-b46826fdb803",
   "metadata": {},
   "outputs": [],
   "source": [
    "#from langchain_community.vectorstores import FAISS"
   ]
  },
  {
   "cell_type": "code",
   "execution_count": null,
   "id": "896dd857-64d7-41eb-97a0-f7bb4fd7f5d4",
   "metadata": {},
   "outputs": [],
   "source": [
    "# Split the webpage_source into chunks\n",
    "#\n",
    "from langchain_text_splitters import RecursiveCharacterTextSplitter\n",
    "# Create the text splitter\n",
    "text_splitter = RecursiveCharacterTextSplitter()\n",
    "#dir(text_splitter)\n",
    "text_splitter.__dict__\n",
    "# Split the webpage_source into LangChain document\n",
    "\n",
    "split_docs = text_splitter.split_documents(webpage_source)\n",
    "#docs[0].to_json()"
   ]
  },
  {
   "cell_type": "code",
   "execution_count": null,
   "id": "d1a70111-677f-4f9e-9f49-a50a574deb21",
   "metadata": {},
   "outputs": [],
   "source": []
  },
  {
   "cell_type": "code",
   "execution_count": null,
   "id": "9515eff2-4388-49ee-adce-03c12c5160b7",
   "metadata": {},
   "outputs": [],
   "source": [
    "type(docs[0])\n",
    "#docs)"
   ]
  },
  {
   "cell_type": "code",
   "execution_count": null,
   "id": "8ef3c224-8d25-48f5-aa35-e3617f9b1c57",
   "metadata": {},
   "outputs": [],
   "source": [
    "# Create an 'embeddings' model\n",
    "from langchain_openai import OpenAIEmbeddings\n",
    "embedding_model = OpenAIEmbeddings(api_key=openai_api_key)\n",
    "#\n",
    "#embedded_docs = embedding_model.embed_documents(split_docs)\n",
    "\n",
    "#type(embedded_docs)"
   ]
  },
  {
   "cell_type": "code",
   "execution_count": null,
   "id": "e6c882f4-61b0-4cd1-946c-a092589b042d",
   "metadata": {},
   "outputs": [],
   "source": [
    "# Create a local vector store\n",
    "from langchain_community.vectorstores import FAISS\n",
    "vector = FAISS.from_documents(split_docs, embedding_model)\n",
    "type(vector)"
   ]
  },
  {
   "cell_type": "code",
   "execution_count": null,
   "id": "b0f9e1a1-bd3d-4d01-ad82-eed19a0c83e6",
   "metadata": {},
   "outputs": [],
   "source": [
    "# # Create a model\n",
    "# from langchain_openai import ChatOpenAI\n",
    "# print(openai_api_key)\n",
    "# llm = ChatOpenAI(api_key=\"openai_api_key\")\n",
    "# llm.invoke(\"how can langsmith help with testing?\")"
   ]
  },
  {
   "cell_type": "code",
   "execution_count": null,
   "id": "e0767774-410c-43d3-8e16-b5febede49a3",
   "metadata": {},
   "outputs": [],
   "source": [
    "from langchain.chains.combine_documents import create_stuff_documents_chain\n",
    "#from langchain_core.prompts import ChatPromptTemplate\n",
    "\n",
    "prompt = ChatPromptTemplate.from_template(\"\"\"Answer the following question based only on the provided context:\n",
    "\n",
    "<context>\n",
    "{context}\n",
    "</context>\n",
    "\n",
    "Question: {input}\"\"\")\n",
    "\n",
    "document_chain = create_stuff_documents_chain(llm, prompt)"
   ]
  },
  {
   "cell_type": "code",
   "execution_count": null,
   "id": "2f5ee624-434b-4a34-a10d-a282c0661949",
   "metadata": {},
   "outputs": [],
   "source": [
    "# Just local context\n",
    "from langchain_core.documents import Document\n",
    "\n",
    "document_chain.invoke({\n",
    "    \"input\": \"how can langsmith help with testing?\",\n",
    "    \"context\": [Document(page_content=\"langsmith can let you visualize test results\")]\n",
    "})"
   ]
  },
  {
   "cell_type": "code",
   "execution_count": null,
   "id": "293333e0-8912-4add-acf8-db269892f110",
   "metadata": {},
   "outputs": [],
   "source": [
    "from langchain.chains import create_retrieval_chain\n",
    "\n",
    "retriever = vector.as_retriever()\n",
    "retrieval_chain = create_retrieval_chain(retriever, document_chain)"
   ]
  },
  {
   "cell_type": "code",
   "execution_count": null,
   "id": "5d82b7a9-7908-4963-b470-a683d1c29da5",
   "metadata": {},
   "outputs": [],
   "source": [
    "response = retrieval_chain.invoke({\"input\": \"how can langsmith help with testing?\"})\n",
    "print(response[\"answer\"])\n",
    "\n",
    "# LangSmith offers several features that can help with testing:..."
   ]
  },
  {
   "cell_type": "code",
   "execution_count": null,
   "id": "e9826e7a-0779-4431-b8ec-882bc6cc180c",
   "metadata": {},
   "outputs": [],
   "source": []
  }
 ],
 "metadata": {
  "kernelspec": {
   "display_name": "Python 3 (ipykernel)",
   "language": "python",
   "name": "python3"
  },
  "language_info": {
   "codemirror_mode": {
    "name": "ipython",
    "version": 3
   },
   "file_extension": ".py",
   "mimetype": "text/x-python",
   "name": "python",
   "nbconvert_exporter": "python",
   "pygments_lexer": "ipython3",
   "version": "3.10.14"
  }
 },
 "nbformat": 4,
 "nbformat_minor": 5
}
