{
 "cells": [
  {
   "cell_type": "code",
   "execution_count": 1,
   "id": "dc5204f1-5260-4c84-9ff5-8c9b580d6a68",
   "metadata": {},
   "outputs": [],
   "source": [
    "import boto3"
   ]
  },
  {
   "cell_type": "code",
   "execution_count": 2,
   "id": "a14b045a-9b73-4ba2-84b7-d99b3b178bf0",
   "metadata": {},
   "outputs": [
    {
     "data": {
      "text/plain": [
       "'arn:aws:sts::460996044744:assumed-role/SageMaker-ExecutionRole-20240226T172032/SageMaker'"
      ]
     },
     "execution_count": 2,
     "metadata": {},
     "output_type": "execute_result"
    }
   ],
   "source": [
    "# Create Session\n",
    "session = boto3.Session()\n",
    "# Validate my credentials\n",
    "sts = session.client('sts')\n",
    "response = sts.get_caller_identity()\n",
    "response['Arn']"
   ]
  },
  {
   "cell_type": "code",
   "execution_count": 3,
   "id": "8d3e0c6b-218b-45b4-9c2e-8bd53b154ae7",
   "metadata": {},
   "outputs": [],
   "source": [
    "sm = session.client('sagemaker')"
   ]
  },
  {
   "cell_type": "code",
   "execution_count": 4,
   "id": "ff131377-9979-4771-aec7-8d6f237fd615",
   "metadata": {},
   "outputs": [
    {
     "data": {
      "text/plain": [
       "{'Images': [],\n",
       " 'ResponseMetadata': {'RequestId': '62b06601-b656-4bd3-9c92-9e710363b3c7',\n",
       "  'HTTPStatusCode': 200,\n",
       "  'HTTPHeaders': {'x-amzn-requestid': '62b06601-b656-4bd3-9c92-9e710363b3c7',\n",
       "   'content-type': 'application/x-amz-json-1.1',\n",
       "   'content-length': '13',\n",
       "   'date': 'Sat, 13 Apr 2024 16:14:35 GMT'},\n",
       "  'RetryAttempts': 0}}"
      ]
     },
     "execution_count": 4,
     "metadata": {},
     "output_type": "execute_result"
    }
   ],
   "source": [
    "sm.list_images()"
   ]
  },
  {
   "cell_type": "code",
   "execution_count": null,
   "id": "f8bf1361-9642-4917-8c60-cb7b74b59659",
   "metadata": {},
   "outputs": [],
   "source": []
  }
 ],
 "metadata": {
  "kernelspec": {
   "display_name": "Python 3 (ipykernel)",
   "language": "python",
   "name": "python3"
  },
  "language_info": {
   "codemirror_mode": {
    "name": "ipython",
    "version": 3
   },
   "file_extension": ".py",
   "mimetype": "text/x-python",
   "name": "python",
   "nbconvert_exporter": "python",
   "pygments_lexer": "ipython3",
   "version": "3.10.14"
  }
 },
 "nbformat": 4,
 "nbformat_minor": 5
}
