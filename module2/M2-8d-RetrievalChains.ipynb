{
 "cells": [
  {
   "cell_type": "markdown",
   "id": "ce82e001-1cda-4b3f-856a-08199ed3b4da",
   "metadata": {},
   "source": [
    "## Still under development"
   ]
  },
  {
   "cell_type": "code",
   "execution_count": 11,
   "id": "77b36f70-fa77-410e-b0b6-2d1eb2b23391",
   "metadata": {},
   "outputs": [],
   "source": [
    "# See install in M2-8a"
   ]
  },
  {
   "cell_type": "code",
   "execution_count": 1,
   "id": "55ef21b8-a62d-42a1-8494-443c3f6a9e9e",
   "metadata": {},
   "outputs": [],
   "source": [
    "from dotenv import load_dotenv\n",
    "import os\n",
    "# Load environment variables from .env file\n",
    "load_dotenv()\n",
    "# Now you can access the environment variables\n",
    "anthropic_api_key = os.getenv('ANTHROPIC_API_KEY')\n",
    "openai_api_key = os.getenv('OPENAI_API_KEY')\n",
    "langchain_api_key = os.getenv('LANGCHAIN_API_KEY')"
   ]
  },
  {
   "cell_type": "code",
   "execution_count": 2,
   "id": "fc56d7db-d890-462a-94f6-a8a4b79f57d9",
   "metadata": {},
   "outputs": [],
   "source": [
    "from langchain_core.prompts import ChatPromptTemplate"
   ]
  },
  {
   "cell_type": "code",
   "execution_count": 3,
   "id": "036a27f0-34fd-4ef2-840d-853fc55b40e5",
   "metadata": {},
   "outputs": [],
   "source": [
    "from langchain_community.document_loaders import WebBaseLoader\n",
    "loader = WebBaseLoader(\"https://docs.smith.langchain.com/user_guide\")\n",
    "\n",
    "docs = loader.load()"
   ]
  },
  {
   "cell_type": "code",
   "execution_count": 23,
   "id": "5f4509d3-790d-425c-a7d9-c3543c774d65",
   "metadata": {},
   "outputs": [
    {
     "name": "stdout",
     "output_type": "stream",
     "text": [
      "Name: langchain-openai\n",
      "Version: 0.1.3\n",
      "Summary: An integration package connecting OpenAI and LangChain\n",
      "Home-page: https://github.com/langchain-ai/langchain\n",
      "Author: \n",
      "Author-email: \n",
      "License: MIT\n",
      "Location: /opt/conda/lib/python3.10/site-packages\n",
      "Requires: langchain-core, openai, tiktoken\n",
      "Required-by: \n",
      "Note: you may need to restart the kernel to use updated packages.\n"
     ]
    }
   ],
   "source": [
    "#%pip install langchain_openai\n",
    "#%pip show langchain_openai\n",
    "#%pip show typing-extensions"
   ]
  },
  {
   "cell_type": "code",
   "execution_count": 4,
   "id": "0c2357eb-1938-48af-b1f9-ba162eac8246",
   "metadata": {},
   "outputs": [],
   "source": [
    "# %pip uninstall typing_extensions -y\n",
    "# %pip install typing_extensions\n",
    "#%pip install --force-reinstall typing-extensions==4.5\n",
    "#pip install --force-reinstall openai==1.8"
   ]
  },
  {
   "cell_type": "code",
   "execution_count": 9,
   "id": "3637f7a9-dbb1-45fb-9c2c-d83cd449dd3c",
   "metadata": {},
   "outputs": [],
   "source": [
    "\n",
    "from langchain_openai import ChatOpenAI\n",
    "\n",
    "llm = ChatOpenAI(api_key=openai_api_key)"
   ]
  },
  {
   "cell_type": "code",
   "execution_count": 4,
   "id": "137a1801-c08a-4ada-97e7-d90ef61cc33d",
   "metadata": {},
   "outputs": [],
   "source": [
    "from langchain_openai import OpenAIEmbeddings\n",
    "\n",
    "embeddings = OpenAIEmbeddings(api_key=openai_api_key)"
   ]
  },
  {
   "cell_type": "code",
   "execution_count": 5,
   "id": "3e816b77-164c-4b99-81da-86f9ec8cc289",
   "metadata": {},
   "outputs": [],
   "source": [
    "# Vector store\n",
    "#%pip install faiss-cpu"
   ]
  },
  {
   "cell_type": "code",
   "execution_count": 6,
   "id": "f4ce8971-04e4-4a09-8561-b46826fdb803",
   "metadata": {},
   "outputs": [],
   "source": [
    "from langchain_community.vectorstores import FAISS\n",
    "from langchain_text_splitters import RecursiveCharacterTextSplitter"
   ]
  },
  {
   "cell_type": "code",
   "execution_count": 7,
   "id": "d1a70111-677f-4f9e-9f49-a50a574deb21",
   "metadata": {},
   "outputs": [],
   "source": [
    "text_splitter = RecursiveCharacterTextSplitter()\n",
    "documents = text_splitter.split_documents(docs)\n",
    "vector = FAISS.from_documents(documents, embeddings)"
   ]
  },
  {
   "cell_type": "code",
   "execution_count": 21,
   "id": "b0f9e1a1-bd3d-4d01-ad82-eed19a0c83e6",
   "metadata": {},
   "outputs": [],
   "source": [
    "# # Create a model\n",
    "# from langchain_openai import ChatOpenAI\n",
    "# print(openai_api_key)\n",
    "# llm = ChatOpenAI(api_key=\"openai_api_key\")\n",
    "# llm.invoke(\"how can langsmith help with testing?\")"
   ]
  },
  {
   "cell_type": "code",
   "execution_count": 10,
   "id": "e0767774-410c-43d3-8e16-b5febede49a3",
   "metadata": {},
   "outputs": [],
   "source": [
    "from langchain.chains.combine_documents import create_stuff_documents_chain\n",
    "#from langchain_core.prompts import ChatPromptTemplate\n",
    "\n",
    "prompt = ChatPromptTemplate.from_template(\"\"\"Answer the following question based only on the provided context:\n",
    "\n",
    "<context>\n",
    "{context}\n",
    "</context>\n",
    "\n",
    "Question: {input}\"\"\")\n",
    "\n",
    "document_chain = create_stuff_documents_chain(llm, prompt)"
   ]
  },
  {
   "cell_type": "code",
   "execution_count": 11,
   "id": "2f5ee624-434b-4a34-a10d-a282c0661949",
   "metadata": {},
   "outputs": [
    {
     "data": {
      "text/plain": [
       "'Langsmith can help with testing by allowing users to visualize test results.'"
      ]
     },
     "execution_count": 11,
     "metadata": {},
     "output_type": "execute_result"
    }
   ],
   "source": [
    "# Just local context\n",
    "from langchain_core.documents import Document\n",
    "\n",
    "document_chain.invoke({\n",
    "    \"input\": \"how can langsmith help with testing?\",\n",
    "    \"context\": [Document(page_content=\"langsmith can let you visualize test results\")]\n",
    "})"
   ]
  },
  {
   "cell_type": "code",
   "execution_count": 12,
   "id": "293333e0-8912-4add-acf8-db269892f110",
   "metadata": {},
   "outputs": [],
   "source": [
    "from langchain.chains import create_retrieval_chain\n",
    "\n",
    "retriever = vector.as_retriever()\n",
    "retrieval_chain = create_retrieval_chain(retriever, document_chain)"
   ]
  },
  {
   "cell_type": "code",
   "execution_count": 13,
   "id": "5d82b7a9-7908-4963-b470-a683d1c29da5",
   "metadata": {},
   "outputs": [
    {
     "name": "stdout",
     "output_type": "stream",
     "text": [
      "LangSmith can help with testing by enabling developers to create datasets, run tests on LLM applications, upload test cases, run custom evaluations, compare different versions of applications, use a playground environment for rapid iteration, beta test to collect real-world performance data, capture feedback from users, annotate traces for evaluation criteria, add runs to datasets for refining performance, monitor key metrics over time, conduct A/B testing, set up automations for processing traces in real-time, and track performance across multiple turns in multi-turn applications.\n"
     ]
    }
   ],
   "source": [
    "response = retrieval_chain.invoke({\"input\": \"how can langsmith help with testing?\"})\n",
    "print(response[\"answer\"])\n",
    "\n",
    "# LangSmith offers several features that can help with testing:..."
   ]
  },
  {
   "cell_type": "code",
   "execution_count": null,
   "id": "e9826e7a-0779-4431-b8ec-882bc6cc180c",
   "metadata": {},
   "outputs": [],
   "source": []
  }
 ],
 "metadata": {
  "kernelspec": {
   "display_name": "Python 3 (ipykernel)",
   "language": "python",
   "name": "python3"
  },
  "language_info": {
   "codemirror_mode": {
    "name": "ipython",
    "version": 3
   },
   "file_extension": ".py",
   "mimetype": "text/x-python",
   "name": "python",
   "nbconvert_exporter": "python",
   "pygments_lexer": "ipython3",
   "version": "3.10.14"
  }
 },
 "nbformat": 4,
 "nbformat_minor": 5
}
