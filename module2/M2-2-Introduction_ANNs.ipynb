{
 "cells": [
  {
   "cell_type": "markdown",
   "metadata": {
    "colab_type": "text",
    "id": "Ee4B4v5tAp1C"
   },
   "source": [
    "## A Simple Artificial Neural Network from Scratch with PyTorch"
   ]
  },
  {
   "cell_type": "markdown",
   "metadata": {},
   "source": [
    "In my opinion, understanding artificial neural networks (ANNs) is pivotal for business analytics students to grasp the fundamentals of large language models and AI systems. Neural networks, which are computational models inspired by biological neural networks, form the backbone of these technologies. <BR>\n",
    "\n",
    "Understanding how neural networks learn by adjusting connection weights, interpreting their outputs based on neuron interactions, fine-tuning performance, recognizing limitations like data needs and biases, and staying up-to-date with advancements are crucial reasons to study them. This knowledge allows students to use AI tools properly, make informed choices, ensure responsible AI use, and keep pace with the rapidly evolving technology.<BR>\n",
    "\n",
    "All large language models are built using deep neural network architectures, typically transformer-based models with millions or billions of weights that get tuned on massive text datasets. The core principles of interconnected neuron layers, weight updates, and flexible model architectures from neural networks are applied at a grand scale to language tasks. Fundamentally, these large language models are a scaled-up application of neural network methods to the text domain."
   ]
  },
  {
   "cell_type": "markdown",
   "metadata": {
    "colab_type": "text",
    "id": "w4cEhtf_Ap1E"
   },
   "source": [
    "In this tutorial we will implement a simple neural network from scratch using PyTorch. The idea of the tutorial is to teach you the basics of PyTorch and how it can be used to implement a neural network from scratch. I will go over some of the basic functionalities and concepts available in PyTorch that will allow you to build your own neural networks. \n",
    "\n",
    "This tutorial assumes you have prior knowledge of how a neural network works (maybe just from a YouTube video?). Even if you are not so sure, you will be okay. \n",
    "\n",
    "This tutorial was adapted from Elvis's post here:<BR>\n",
    "https://medium.com/dair-ai/a-simple-neural-network-from-scratch-with-pytorch-and-google-colab-c7f3830618e0"
   ]
  },
  {
   "cell_type": "markdown",
   "metadata": {
    "colab_type": "text",
    "id": "MP9ewMSlC7JU"
   },
   "source": [
    "\n",
    "The `torch` module provides all the necessary **tensor** operators you will need to implement your first neural network from scratch in PyTorch. That's right! In PyTorch everything is a Tensor, so this is the first thing you will need to get used to."
   ]
  },
  {
   "cell_type": "code",
   "execution_count": 1,
   "metadata": {
    "colab": {},
    "colab_type": "code",
    "id": "bKmXKSQnAp1G"
   },
   "outputs": [
    {
     "name": "stdout",
     "output_type": "stream",
     "text": [
      "Name: torch\n",
      "Version: 2.0.0.post101\n",
      "Summary: Tensors and Dynamic neural networks in Python with strong GPU acceleration\n",
      "Home-page: https://pytorch.org/\n",
      "Author: PyTorch Team\n",
      "Author-email: packages@pytorch.org\n",
      "License: BSD-3\n",
      "Location: /opt/conda/lib/python3.10/site-packages\n",
      "Requires: filelock, jinja2, networkx, sympy, typing-extensions\n",
      "Required-by: accelerate, autogluon.multimodal, autogluon.timeseries, fastai, pytorch-lightning, pytorch-metric-learning, timm, torchmetrics, torchvision\n",
      "Note: you may need to restart the kernel to use updated packages.\n"
     ]
    }
   ],
   "source": [
    "# The torch module provides all the necessary tensor operators you will need to implement your first neural network from scratch.\n",
    "import matplotlib.pyplot as plt\n",
    "import torch\n",
    "import torch.nn as nn\n",
    "# Display info about the Pytorch package\n",
    "%pip show torch"
   ]
  },
  {
   "cell_type": "code",
   "execution_count": 2,
   "metadata": {},
   "outputs": [
    {
     "name": "stdout",
     "output_type": "stream",
     "text": [
      "0D tensor: tensor([5])\n",
      "1D tensor: tensor([1, 2, 3, 4, 5])\n",
      "2D tensor:\n",
      " tensor([[1, 2],\n",
      "        [3, 4],\n",
      "        [5, 6]])\n"
     ]
    }
   ],
   "source": [
    "# Tensors are just multi-dimensional array or matrix of numbers\n",
    "# 0D tensor (scaler)\n",
    "print('0D tensor:', torch.tensor([5]))\n",
    "# Print 1D tensor\n",
    "print('1D tensor:', torch.tensor([1, 2, 3, 4, 5]))\n",
    "# Print a 3 rows by 2 column (2D) tensor\n",
    "print('2D tensor:\\n', torch.tensor([[1, 2], [3,4], [5,6]]))"
   ]
  },
  {
   "cell_type": "markdown",
   "metadata": {
    "colab_type": "text",
    "id": "1EWBBl1nAp1M"
   },
   "source": [
    "## Create an ANN to predict a student's grade based on hours studied and hours slept\n",
    "Data:<BR>\n",
    "Let's start by creating some sample data using the `torch.tensor` command.  We define types in PyTorch using the `dtype=torch.xxx` command. We'll use floats.\n",
    "\n",
    "`X(a,b)` represents the amount of hours studied and how much time students spent sleeping.<BR>\n",
    "`y` represent grades (0-100)."
   ]
  },
  {
   "cell_type": "code",
   "execution_count": 3,
   "metadata": {
    "colab": {},
    "colab_type": "code",
    "id": "fsAVbHnjAp1P"
   },
   "outputs": [
    {
     "name": "stdout",
     "output_type": "stream",
     "text": [
      "tensor([[2., 9.],\n",
      "        [1., 5.],\n",
      "        [3., 6.]])\n",
      "tensor([[ 92.],\n",
      "        [100.],\n",
      "        [ 89.]])\n"
     ]
    }
   ],
   "source": [
    "# Data: hours [studied,slept]\n",
    "X = torch.tensor(([2, 9], [1, 5], [3, 6]), dtype=torch.float) # 3 X 2 tensor\n",
    "print(X)\n",
    "# labels: grade earned (0-100 scale)\n",
    "y = torch.tensor(([92], [100], [89]), dtype=torch.float) # 3 X 1 tensor\n",
    "print(y)"
   ]
  },
  {
   "cell_type": "code",
   "execution_count": 4,
   "metadata": {
    "colab": {
     "base_uri": "https://localhost:8080/",
     "height": 51
    },
    "colab_type": "code",
    "id": "sfC-B1BEAp1W",
    "outputId": "d2ec7994-41ad-41fa-a69c-c0b7123ef7cd"
   },
   "outputs": [
    {
     "name": "stdout",
     "output_type": "stream",
     "text": [
      "Info about 'X': dimensions: 2 size: torch.Size([3, 2])\n",
      "Info about 'y': dimensions: 2 size: torch.Size([3, 1])\n"
     ]
    }
   ],
   "source": [
    "# You can check the dimensions and size of the tensors\n",
    "print(\"Info about 'X': dimensions:\", X.dim(), \"size:\", X.size())\n",
    "print(\"Info about 'y': dimensions:\", y.dim(), \"size:\", y.size())"
   ]
  },
  {
   "cell_type": "markdown",
   "metadata": {
    "colab_type": "text",
    "id": "zrND9MS9Ap1f"
   },
   "source": [
    "## Scaling\n",
    "\n",
    "As you likely know, scaling both the inputs and outputs can really help the performance of models. Below we are simply normalizing (scaling the data into (0-1) scale) the sample data. Notice that the `max` function returns both a tensor and the corresponding indices. So we use `_` as a throw-away variable to capture the indices which we won't use here.Our data is now in a very nice format our neural network will appreciate later on. "
   ]
  },
  {
   "cell_type": "code",
   "execution_count": 5,
   "metadata": {
    "colab": {
     "base_uri": "https://localhost:8080/",
     "height": 34
    },
    "colab_type": "code",
    "id": "hlBvtfAmAp1i",
    "outputId": "23e1d24b-fa29-4173-f884-f44bc8a48cea"
   },
   "outputs": [
    {
     "name": "stdout",
     "output_type": "stream",
     "text": [
      "Max Tensor from the data: tensor([3., 9.])\n",
      "Scaled X: tensor([[0.6667, 1.0000],\n",
      "        [0.3333, 0.5556],\n",
      "        [1.0000, 0.6667]])\n",
      "Scaled y: tensor([[0.9200],\n",
      "        [1.0000],\n",
      "        [0.8900]])\n"
     ]
    }
   ],
   "source": [
    "# scale units: Normalize or min-max-scaling: everything to [0,1] interval\n",
    "X_max, _ = torch.max(X, 0) # Get the max of both hours studied and slept\n",
    "print(\"Max Tensor from the data:\", X_max)\n",
    "X = torch.div(X, X_max) # Scale by dividing tensor by max values possible\n",
    "print('Scaled X:', X)\n",
    "y = y / 100  # max test score is 100\n",
    "print('Scaled y:', y)"
   ]
  },
  {
   "attachments": {},
   "cell_type": "markdown",
   "metadata": {
    "colab_type": "text",
    "id": "xRvMSpEFAp1n"
   },
   "source": [
    "## Model (Computation Graph)\n",
    "Once the data has been prepared, all you need to do now is to define your model. At the end of the day we are constructing a computation graph, which is used to dictate how data should flow and what type of operations are performed on this information. \n",
    "\n",
    "For illustration purposes, we are building the following neural network or computation graph:\n",
    "\n",
    "![alt text](images/fig1.jpg)"
   ]
  },
  {
   "cell_type": "code",
   "execution_count": 6,
   "metadata": {
    "colab": {},
    "colab_type": "code",
    "id": "C7pDC5SfAp1p"
   },
   "outputs": [],
   "source": [
    "# Define a class with shape of the NN and its functions\n",
    "class Neural_Network(nn.Module):\n",
    "    def __init__(self, ):\n",
    "        super(Neural_Network, self).__init__()\n",
    "        # Define the shape of the model: \n",
    "        self.inputSize = 2 # Number of input layers\n",
    "        self.outputSize = 1 # Number of output layers\n",
    "        self.hiddenSize = 3 # Number of hidden layers\n",
    "        \n",
    "        # Initialize the weights with random numbers\n",
    "        self.W1 = torch.randn(self.inputSize, self.hiddenSize) # 3 X 2 tensor\n",
    "        self.W2 = torch.randn(self.hiddenSize, self.outputSize) # 3 X 1 tensor\n",
    "    # Feed forward function\n",
    "    def forward(self, X):\n",
    "        self.z = torch.matmul(X, self.W1) # 3 X 3 \".dot\" does not broadcast in PyTorch\n",
    "        self.z2 = self.sigmoid(self.z) # activation function\n",
    "        self.z3 = torch.matmul(self.z2, self.W2)\n",
    "        o = self.sigmoid(self.z3) # final activation function\n",
    "        return o\n",
    "    # Activation function        \n",
    "    def sigmoid(self, s):\n",
    "        return 1 / (1 + torch.exp(-s))\n",
    "    # Derivative of the activation function\n",
    "    def sigmoidPrime(self, s):\n",
    "        # derivative of sigmoid\n",
    "        return s * (1 - s)\n",
    "    # Backward feed function\n",
    "    def backward(self, X, y, o):\n",
    "        self.o_error = y - o # error in output\n",
    "        self.o_delta = self.o_error * self.sigmoidPrime(o) # derivative of sig to error\n",
    "        self.z2_error = torch.matmul(self.o_delta, torch.t(self.W2))\n",
    "        self.z2_delta = self.z2_error * self.sigmoidPrime(self.z2)\n",
    "        self.W1 += torch.matmul(torch.t(X), self.z2_delta)\n",
    "        self.W2 += torch.matmul(torch.t(self.z2), self.o_delta)\n",
    "    # Training function        \n",
    "    def train(self, X, y):\n",
    "        # forward + backward pass for training\n",
    "        o = self.forward(X)\n",
    "        self.backward(X, y, o)\n",
    "    # Save the weights    \n",
    "    def saveWeights(self, model):\n",
    "        # we will use the PyTorch internal storage functions\n",
    "        torch.save(model, \"NN\")\n",
    "        # you can reload model with all the weights and so forth with:\n",
    "        # torch.load(\"NN\")"
   ]
  },
  {
   "cell_type": "markdown",
   "metadata": {
    "colab_type": "text",
    "id": "qm5gimnyAp1s"
   },
   "source": [
    "For the purpose of this tutorial, we are not going to be talking the details of ANN implementation. Mostly, I just want you to get a gist of what it takes to build a neural network from scratch using PyTorch. Let's break down the model which was declared via the class above. \n",
    "\n",
    "### Class Header\n",
    "First, we defined our model via a class because that is the recommended way to build the computation graph. The class header contains the name of the class `Neural Network` and the parameter `nn.Module` which basically indicates that we are defining our own neural network. \n",
    "\n",
    "```python\n",
    "class Neural_Network(nn.Module):\n",
    "```\n",
    "\n",
    "### Initialization\n",
    "The next step is to define the initializations ( `def __init__(self,)`) that will be performed upon creating an instance of the customized neural network. You can declare the parameters of your model here, but typically, you would declare the structure of your network in this section -- the size of the hidden layers and so forth. Since we are building the neural network from scratch, we explicitly declared the size of the weights matrices: one that stores the parameters from the input to hidden layer; and one that stores the parameter from the hidden to output layer. Both weight matrices are initialized with values randomly chosen from a normal distribution via `torch.randn(...)`. Note that we are not using bias just to keep things as simple as possible.  \n",
    "\n",
    "```python\n",
    "def __init__(self, ):\n",
    "    super(Neural_Network, self).__init__()\n",
    "    # Define the shape of the model: \n",
    "    self.inputSize = 2\n",
    "    self.outputSize = 1\n",
    "    self.hiddenSize = 3\n",
    "\n",
    "    # weights\n",
    "    self.W1 = torch.randn(self.inputSize, self.hiddenSize) # 3 X 2 tensor\n",
    "    self.W2 = torch.randn(self.hiddenSize, self.outputSize) # 3 X 1 tensor\n",
    "```\n",
    "\n",
    "### The Forward Function\n",
    "The `forward` function is where all the magic happens (see below). This is where the data enters and is fed into the computation graph (i.e., the neural network structure we have built). Since we are building a simple neural network with one hidden layer, our forward function looks very simple:\n",
    "\n",
    "```python\n",
    "def forward(self, X):\n",
    "    self.z = torch.matmul(X, self.W1) \n",
    "    self.z2 = self.sigmoid(self.z) # activation function\n",
    "    self.z3 = torch.matmul(self.z2, self.W2)\n",
    "    o = self.sigmoid(self.z3) # final activation function\n",
    "    return o\n",
    "```\n",
    "\n",
    "The `forward` function above takes the input `X`and then performs a matrix multiplication (`torch.matmul(...)`) with the first weight matrix `self.W1`. Then the result is applied an activation function, `sigmoid`. The resulting matrix of the activation is then multiplied with the second weight matrix `self.W2`. Then another activation if performed, which renders the output of the neural network or computation graph. The process I described above is simply what's known as a `feedforward pass`. In order for the weights to optimize when training, we need a backpropagation algorithm. \n",
    "\n",
    "### The Backward Function\n",
    "The `backward` function contains the backpropagation algorithm, where the goal is to essentially minimize the loss with respect to our weights. In other words, the weights need to be updated in such  a way that the loss decreases while the neural network is training (well, that is what we hope for). All this magic is possible with the gradient descent algorithm which is declared in the `backward` function. Take a minute or two to inspect what is happening in the code below:\n",
    "\n",
    "```python\n",
    "def backward(self, X, y, o):\n",
    "    self.o_error = y - o # error in output\n",
    "    self.o_delta = self.o_error * self.sigmoidPrime(o) \n",
    "    self.z2_error = torch.matmul(self.o_delta, torch.t(self.W2))\n",
    "    self.z2_delta = self.z2_error * self.sigmoidPrime(self.z2)\n",
    "    self.W1 += torch.matmul(torch.t(X), self.z2_delta)\n",
    "    self.W2 += torch.matmul(torch.t(self.z2), self.o_delta)\n",
    "```\n",
    "\n",
    "Notice that we are performing a lot of matrix multiplications along with the transpose operations via the `torch.matmul(...)` and `torch.t(...)` operations, respectively. The rest is simply gradient descent -- there is nothing to it."
   ]
  },
  {
   "cell_type": "markdown",
   "metadata": {
    "colab_type": "text",
    "id": "9t26Dr5zAp1u"
   },
   "source": [
    "## Training\n",
    "All that is left now is to train the neural network. First we create an instance of the computation graph we have just built:\n",
    "\n",
    "```python\n",
    "NN = Neural_Network()\n",
    "```\n",
    "\n",
    "Then we train the model for `1000` rounds. Notice that in PyTorch `NN(X)` automatically calls the `forward` function so there is no need to explicitly call `NN.forward(X)`. \n",
    "\n",
    "After we have obtained the predicted output for every round of training, we compute the loss, with the following code:\n",
    "\n",
    "```python\n",
    "torch.mean((y - NN(X))**2).detach().item()\n",
    "```\n",
    "\n",
    "The next step is to start the training (foward + backward) via `NN.train(X, y)`. After we have trained the neural network, we can store the model and output the predicted value of the single instance we declared in the beginning, `xPredicted`.  \n",
    "\n",
    "Let's train!"
   ]
  },
  {
   "cell_type": "code",
   "execution_count": 7,
   "metadata": {
    "colab": {
     "base_uri": "https://localhost:8080/",
     "height": 17156
    },
    "colab_type": "code",
    "id": "9sTddOpLAp1w",
    "outputId": "a02d2b93-34da-4068-f1f2-843f1e30abf8"
   },
   "outputs": [
    {
     "name": "stdout",
     "output_type": "stream",
     "text": [
      "#0 Loss: 0.35604265332221985\n",
      "#999 Loss: 0.00278665404766798\n"
     ]
    },
    {
     "data": {
      "image/png": "[encoded data removed]",
      "text/plain": [
       "<Figure size 640x480 with 1 Axes>"
      ]
     },
     "metadata": {},
     "output_type": "display_data"
    }
   ],
   "source": [
    "# Create an instance of the class we defined above\n",
    "NN = Neural_Network()\n",
    "# Train using a loop\n",
    "loss_values = [] # keep track of loss function values each loop\n",
    "for i in range(1000):  # trains the NN 1,000 times\n",
    "    loss = torch.mean((y - NN(X))**2).detach().item() # Compute the mean sum squared loss value\n",
    "    loss_values.append(loss)  # Store the loss value\n",
    "    # Uncomment the next line if you want to see the loss function decrease as it learns\n",
    "    #print(\"#\" + str(i) + \" Loss: \" + str(loss))\n",
    "    # Just print the first and last values of the loss \n",
    "    if i == 0 or i == 999:\n",
    "        print (\"#\" + str(i) + \" Loss: \" + str(loss))\n",
    "    NN.train(X, y)\n",
    "# After training, plot the loss values as they improve\n",
    "plt.plot(loss_values)\n",
    "plt.title('Loss values')\n",
    "plt.xlabel('Iteration')\n",
    "plt.ylabel('Loss')\n",
    "plt.show()\n",
    "# We've done the work of training, so let's save our weights.\n",
    "NN.saveWeights(NN)"
   ]
  },
  {
   "cell_type": "markdown",
   "metadata": {},
   "source": [
    "The loss decreases rapidly, but then slows. This means that the neural network has learned how to predict the grade based on the hours studied/slept. Don't lose the context of the overly simplified model and lack of data."
   ]
  },
  {
   "cell_type": "markdown",
   "metadata": {},
   "source": [
    "## Prediction\n",
    "To predict a new student grade using our trained ANN, just feed a scaled tensor into the forward() method of the model."
   ]
  },
  {
   "cell_type": "code",
   "execution_count": 8,
   "metadata": {},
   "outputs": [],
   "source": [
    "# Define a predict funciton to take care of the details\n",
    "#\n",
    "def predict(t): # Accept a tensor\n",
    "    scaled_t = torch.div(t, X_max) # Scale it the same as the training data\n",
    "    prediction = NN.forward(scaled_t) # predict by calling the forward function from the trained NN\n",
    "    return prediction.item() # Return the raw decimal value"
   ]
  },
  {
   "cell_type": "code",
   "execution_count": 9,
   "metadata": {},
   "outputs": [
    {
     "name": "stdout",
     "output_type": "stream",
     "text": [
      "Serious Nick's grade: 94.3%\n",
      "Smart Ryan's grade: 92.4%\n",
      "Dance Floor Darren's grade: 92.0%\n"
     ]
    }
   ],
   "source": [
    "# Nick is a serious student, he studies 3 hours and sleeps only 4 hours\n",
    "Nick = predict(torch.tensor(([3,4]), dtype=torch.float))\n",
    "print(\"Serious Nick's grade:\", \"{:.1%}\".format(Nick))\n",
    "#\n",
    "# Ryan is naturally pretty smart, doesn't study much, but he sleeps well [.5,8]\n",
    "Ryan = predict(torch.tensor(([.5,8]), dtype = torch.float))\n",
    "print(\"Smart Ryan's grade:\", \"{:.1%}\".format(Ryan))\n",
    "#\n",
    "# Darren is a poor student and serious partier [.1,.1]\n",
    "Darren =  predict(torch.tensor(([.1,.1]), dtype=torch.float))\n",
    "print(\"Dance Floor Darren's grade:\", \"{:.1%}\".format(Darren))"
   ]
  },
  {
   "cell_type": "markdown",
   "metadata": {
    "colab_type": "text",
    "id": "L9nBzkgdbjcA"
   },
   "source": [
    " That's it. Congratulations! You have just learned how to create and train a aritifical neural network from scratch using PyTorch. Remember, ANNs are the core of LLMs and AI."
   ]
  },
  {
   "cell_type": "markdown",
   "metadata": {
    "colab_type": "text",
    "id": "zcms4BCySKXj"
   },
   "source": [
    "## References:\n",
    "- [Elvis' Post](https://medium.com/dair-ai/a-simple-neural-network-from-scratch-with-pytorch-and-google-colab-c7f3830618e0)\n",
    "- [PyTorch nn. Modules](https://pytorch.org/tutorials/beginner/pytorch_with_examples.html#pytorch-custom-nn-modules)\n",
    "- [Build a Neural Network with Numpy](https://enlight.nyc/neural-network)\n"
   ]
  },
  {
   "cell_type": "code",
   "execution_count": null,
   "metadata": {},
   "outputs": [],
   "source": []
  }
 ],
 "metadata": {
  "colab": {
   "collapsed_sections": [],
   "include_colab_link": true,
   "name": "nn.ipynb",
   "provenance": []
  },
  "kernelspec": {
   "display_name": "Python 3 (ipykernel)",
   "language": "python",
   "name": "python3"
  },
  "language_info": {
   "codemirror_mode": {
    "name": "ipython",
    "version": 3
   },
   "file_extension": ".py",
   "mimetype": "text/x-python",
   "name": "python",
   "nbconvert_exporter": "python",
   "pygments_lexer": "ipython3",
   "version": "3.10.14"
  }
 },
 "nbformat": 4,
 "nbformat_minor": 4
}
