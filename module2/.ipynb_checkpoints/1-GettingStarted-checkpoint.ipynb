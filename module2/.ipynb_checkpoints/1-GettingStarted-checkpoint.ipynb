{
 "cells": [
  {
   "cell_type": "markdown",
   "id": "107a1d5d-d590-49f2-94ac-f79e7d40dae4",
   "metadata": {},
   "source": [
    "## Getting Started with Jupyter Notebooks and \n",
    "## Python for Business Data Analytics\n",
    "### Table of Contents\n",
    "1. [Introduction](#introduction)\n",
    "2. [Installing and importing modules](#modules)\n",
    "3. [Verify datatypes and expected output](#verify)\n",
    "4. [How to troubleshoot code and get help](#help)\n",
    "5. [Functions and Try-Except Structures](#functions)\n",
    "<!-- \n",
    "## Introduction <a name=\"introduction\"></a>\n",
    "Content for the introduction section.\n",
    "\n",
    "## Section One <a name=\"section-one\"></a>\n",
    "Content for the first section.\n",
    "\n",
    "## Section Two <a name=\"section-two\"></a>\n",
    "Content for the second section. -->"
   ]
  },
  {
   "cell_type": "markdown",
   "id": "7bcfe0b7-7d92-41b5-a707-33b1f457940d",
   "metadata": {},
   "source": [
    "## Introduction <a name=\"introduction\"></a>\n",
    "This notebook will guide you through the basics of using Jupyter notebooks and provide a quick review of common Python concepts.\n"
   ]
  },
  {
   "cell_type": "code",
   "execution_count": null,
   "id": "4a1baa31",
   "metadata": {},
   "outputs": [],
   "source": [
    "# Use the keyboard as much as possible\n",
    "#\n",
    "# To execute a cell, use the ctrl-enter (or shift-enter) keystroke (Windows). \n",
    "# (command-enter for MacOS?) This is the fastest way.\n",
    "# Do not use the Run button in the toolbar or the Run Cells from the Cell menu.\n",
    "lst = [1,2,'Three',{'Four':4},('Five','Six',7)]\n",
    "#\n",
    "# Viewing output:\n",
    "# If you want to see the result of your cell, either print() the thing you want to see:\n",
    "print('Using the print command:',lst)\n",
    "# or put the variable in the last line of the cell.\n",
    "lst"
   ]
  },
  {
   "cell_type": "code",
   "execution_count": null,
   "id": "6a9e0b53",
   "metadata": {},
   "outputs": [],
   "source": [
    "# Use the command mode keystrokes:\n",
    "# 'Esc' puts the cell into command mode (turns blue)\n",
    "# 'Enter' puts the cell into edit mode (turns green)\n",
    "# Try this sequence:\n",
    "# - hit the Esc key\n",
    "# - then hit the 'b' key\n",
    "# This inserts a cell below. Very fast and useful."
   ]
  },
  {
   "cell_type": "code",
   "execution_count": null,
   "id": "1ab46be7",
   "metadata": {},
   "outputs": [],
   "source": [
    "# Inesert above\n",
    "# use the key stroke: Esc - a\n",
    "# Inserts a cell above."
   ]
  },
  {
   "cell_type": "code",
   "execution_count": null,
   "id": "ba53a7ae",
   "metadata": {},
   "outputs": [],
   "source": [
    "# Delete a cell\n",
    "# Esc dd"
   ]
  },
  {
   "cell_type": "code",
   "execution_count": null,
   "id": "371f2208",
   "metadata": {},
   "outputs": [],
   "source": [
    "# Undo last action\n",
    "# Esc z"
   ]
  },
  {
   "cell_type": "code",
   "execution_count": null,
   "id": "25e31362-2490-46bf-af09-5229798f1130",
   "metadata": {},
   "outputs": [],
   "source": [
    "# Change cell type:\n",
    "# Esc m (markdown)\n",
    "# Esc y (code)\n",
    "#\n",
    "# Then hit enter to edit the cell."
   ]
  },
  {
   "cell_type": "code",
   "execution_count": null,
   "id": "65f805be",
   "metadata": {},
   "outputs": [],
   "source": [
    "# Comment and uncomment multiple lines:\n",
    "# Highlight the lines and push: Ctrl - /\n",
    "#\n",
    "# This is an embedded for loop:\n",
    "# for i in range(10):\n",
    "#     # For every i = 0,1,2,...9, do this    \n",
    "#     for j in range(2):\n",
    "#         # Print current i & 0, then i & 1\n",
    "#         print(i,j)"
   ]
  },
  {
   "cell_type": "code",
   "execution_count": null,
   "id": "d1a20e10",
   "metadata": {},
   "outputs": [],
   "source": [
    "# Restart the kernel and clear all outputs: Esc 0 0 (this is zero zero)\n",
    "# This is a fresh beginning for the notebook.\n",
    "# This variable will be gone until you rerun the cell that defines it.\n",
    "lst"
   ]
  },
  {
   "cell_type": "markdown",
   "id": "b016a6c1",
   "metadata": {},
   "source": [
    "## Instaling and Loading Modules <a name=\"modules\"></a>\n",
    "Most Python packages we will use are already installed and we can just import them. Sometimes, we have to install a package before we can use it."
   ]
  },
  {
   "cell_type": "code",
   "execution_count": null,
   "id": "941ea805",
   "metadata": {},
   "outputs": [],
   "source": [
    "# Checking Python kernel version\n",
    "from platform import python_version\n",
    "python_version()"
   ]
  },
  {
   "cell_type": "code",
   "execution_count": null,
   "id": "c14cf57e",
   "metadata": {},
   "outputs": [],
   "source": [
    "# If a module is installed, then we can just import it\n",
    "import pandas as pd\n",
    "# No error, so we are OK."
   ]
  },
  {
   "cell_type": "code",
   "execution_count": null,
   "id": "a7ab1703",
   "metadata": {},
   "outputs": [],
   "source": [
    "# Try to import something that isn't installed \n",
    "import pdftextract\n",
    "# Error:  This likely is not installed."
   ]
  },
  {
   "cell_type": "code",
   "execution_count": null,
   "id": "7a274ce2",
   "metadata": {},
   "outputs": [],
   "source": [
    "# Let's install it\n",
    "%pip install pdftextract\n",
    "# Now we can import it\n",
    "import pdftextract # no error\n",
    "# Get version information about pdftextract\n",
    "%pip show pdftextract"
   ]
  },
  {
   "cell_type": "markdown",
   "id": "ed1c827a",
   "metadata": {},
   "source": [
    "## Verify datatypes and expected outputs <a name=\"verify\"></a>\n",
    "Spend lots of time verifying the output from a cell is exactly what you expect.  \n",
    "Prove to yourself that you believe the output."
   ]
  },
  {
   "cell_type": "code",
   "execution_count": null,
   "id": "2d624b1d",
   "metadata": {},
   "outputs": [],
   "source": [
    "# Many problems arise from not understanding datatypes.\n",
    "# Make sure you know the type of every variable. \n",
    "# This often leads to fixing somethign that is broken.\n",
    "# I use the type() function a lot.\n",
    "df = pd.DataFrame(['1',2.0,-3],columns=['col_0'],index=['row1', 'row2', 'row3'])\n",
    "print(df)\n",
    "type(df)"
   ]
  },
  {
   "cell_type": "code",
   "execution_count": null,
   "id": "0ab29196",
   "metadata": {},
   "outputs": [],
   "source": [
    "# Append this DataFrame to the lst from above\n",
    "lst.append(df)\n",
    "# Now look at the type of each item\n",
    "for item in lst:\n",
    "    print('Print the item:',item,', Type of item:',type(item))"
   ]
  },
  {
   "cell_type": "markdown",
   "id": "6c8f548a-8db8-4299-b92b-13a1df84863c",
   "metadata": {},
   "source": [
    "## Functions and Try-Except structures <a name=\"functions\"></a>\n",
    "Sometimes it really helps to organize your code into functions.<BR>\n",
    "Additionally, using the Try-Except stucture can handle runtime errors or glitches in data."
   ]
  },
  {
   "cell_type": "code",
   "execution_count": null,
   "id": "8cf2d0ad-0f4d-41bd-a3d3-b6c75f2270b5",
   "metadata": {},
   "outputs": [],
   "source": [
    "# This cell defines the function. Once you execute this cell, \n",
    "# it will remain in memory ready to use.\n",
    "# Define a function that takes the first number to the power of the 2nd\n",
    "def power(x,y):\n",
    "    # Check out the try-except structure\n",
    "    try:\n",
    "        # Test the first variable for type = integer\n",
    "        if not isinstance(x,int):\n",
    "            return('Please give me integers')\n",
    "        else:\n",
    "        # Otherwise, do the math and return it\n",
    "            return(x**y)\n",
    "    # Here is where I catch an error if the top block doesn't work\n",
    "    except Exception as e:\n",
    "        # Print what the error was\n",
    "        return('Something went wrong:', e)"
   ]
  },
  {
   "cell_type": "code",
   "execution_count": null,
   "id": "639554d9-8c81-4ddf-b2ed-11179a1fb639",
   "metadata": {},
   "outputs": [],
   "source": [
    "# Test it: Notice the difference bewteen 2 and '2'\n",
    "print('Works great:', power(2,2)) # works great\n",
    "print('Catches first variable error:', power('2', 2)) # Works great\n",
    "print(power(2,'2')) # Catches the 2nd variable error, but code still executes with no errors"
   ]
  },
  {
   "cell_type": "markdown",
   "id": "6c6e907b",
   "metadata": {},
   "source": [
    "### End:\n",
    "Hopefully, that was a good review of Python and useful tips on using jupyter notebooks."
   ]
  }
 ],
 "metadata": {
  "kernelspec": {
   "display_name": "Python 3 (ipykernel)",
   "language": "python",
   "name": "python3"
  },
  "language_info": {
   "codemirror_mode": {
    "name": "ipython",
    "version": 3
   },
   "file_extension": ".py",
   "mimetype": "text/x-python",
   "name": "python",
   "nbconvert_exporter": "python",
   "pygments_lexer": "ipython3",
   "version": "3.10.13"
  }
 },
 "nbformat": 4,
 "nbformat_minor": 5
}
