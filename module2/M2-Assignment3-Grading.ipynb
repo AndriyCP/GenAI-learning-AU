{
 "cells": [
  {
   "cell_type": "markdown",
   "id": "7ab54ea4-b48e-45ec-a4dc-3a18abbd74d8",
   "metadata": {},
   "source": [
    "## AI Grading of Module 2, Assignment 3"
   ]
  },
  {
   "cell_type": "code",
   "execution_count": 2,
   "id": "e1fb94bb-76d9-4f70-abd0-84cf16566ec4",
   "metadata": {},
   "outputs": [],
   "source": [
    "# Configure Sagemaker Image\n",
    "# # Install dotenv\n",
    "# %pip install python-dotenv\n",
    "# # Upgrade langchain\n",
    "# %pip install --upgrade langchain\n",
    "# # Install anthropic support\n",
    "# %pip install langchain-anthropic\n",
    "# # Install openai support\n",
    "# %pip install langchain-openai\n",
    "# # Install langchain hub\n",
    "# %pip install langchainhub\n",
    "# # Uninstall pydantic\n",
    "# %pip uninstall pydantic -y\n",
    "# # Re install pydantic specific version of pydantic (original version ==1.10.14)\n",
    "# %pip install pydantic==1.10.14"
   ]
  },
  {
   "cell_type": "code",
   "execution_count": 3,
   "id": "3b4210ac-3577-443e-8bb0-28183a803d06",
   "metadata": {},
   "outputs": [],
   "source": [
    "from dotenv import load_dotenv\n",
    "import os\n",
    "import langchain\n",
    "import os\n",
    "import zipfile\n",
    "from bs4 import BeautifulSoup"
   ]
  },
  {
   "cell_type": "code",
   "execution_count": 4,
   "id": "37c5dce8-037b-4eeb-9736-5b8e40ad41ba",
   "metadata": {},
   "outputs": [],
   "source": [
    "# Load environment variables from .env file\n",
    "load_dotenv()\n",
    "# Now you can access the environment variables\n",
    "openai_api_key = os.getenv('OPENAI_API_KEY')\n",
    "anthropic_api_key = os.getenv('ANTHROPIC_API_KEY')"
   ]
  },
  {
   "cell_type": "markdown",
   "id": "59bf6cf4-9129-4746-8025-7561adef1f65",
   "metadata": {},
   "source": [
    "### Setup the prompt"
   ]
  },
  {
   "cell_type": "code",
   "execution_count": 6,
   "id": "3dffca62-3d36-44c5-8815-79a3d3e996f5",
   "metadata": {},
   "outputs": [],
   "source": [
    "# This is the description of the assignment for the students\n",
    "instructions = '''\n",
    "The instructional material so far in this class has included:\n",
    "    Prompt Engineering, The Golden Rule of Prompt Enginineering and large language model output evaluation\n",
    "    Using Python code to interact with large language models\n",
    "    Making direct API calls to LLMS using the requests Python package\n",
    "    Using HuggingFace open source models to perform specific NLP tasks.\n",
    "    Using prompt templates, large language Models and output parsers to create and execute workflow chains\n",
    "\n",
    "Your assignment is to consider these lessons and describe a project of you own design which implements one or more of these topics.\n",
    "\n",
    "You should pick a goal to achieve and descrete steps needed to achieve that goal.\n",
    "\n",
    "Suggestions:\n",
    "    Pick a goal that interests you.\n",
    "    Do some research on the type of data needed for your project which you can access and what format it takes.\n",
    "    Try to use one or more of the AI tools we've covered to achieve your goal, but your focus should be on achieving your goal, not on using the tools.\n",
    "\n",
    "Your task is to propose, describe and document steps needed to achieve your goal, but not implement it in Python.  \n",
    "\n",
    "Submitting Python code is optional.\n",
    "\n",
    "Please describe your project, including the steps you will take in the project.\n",
    "Think logicaly about your goal and the steps needed to progress from step one to the final step achieving your goal.\n",
    "'''"
   ]
  },
  {
   "cell_type": "code",
   "execution_count": 12,
   "id": "c3f03267-9c82-4a7c-9b56-2d8b42e7f03b",
   "metadata": {},
   "outputs": [],
   "source": [
    "# This is the grading criteria for the assignment\n",
    "grading_rubric = '''\n",
    "Evaluate the student's submission based on this list of prioritized criteria:\n",
    "1. Does the student fully complete the assignment description?\n",
    "2. Does the student state the goal clearly and unambiguously so that a classmate could understand?\n",
    "3. Does the student list steps to achieve the goal in the logical order that progresses from data gathering through achieving the goal?\n",
    "4. Does the student use one or more of the instructional topics covered in class?\n",
    "\n",
    "After evaluating these prioritized criteria, assign a point value according to this scale:\n",
    "\n",
    "0 points: did not submit the assignment\n",
    "1 point: Student submission only met 1 or 2 of the prioritized criteria.\n",
    "2 points: Student submission met 3 of the prioritized criteria, but the description was hard to understand.\n",
    "3 points: Student submission met 4 of the prioritized criteria and was moderately easy to understand.\n",
    "4 points: Student submission met all of the prioritized criteria, but didn't provide logical workflow steps to achieve the goal.\n",
    "5 points: Student submission fully addressed the prioritized criteria, was written very clearly, provided a logical set of steps to achieve the goal and incorporated all parts of the instructional topics covered in class.\n",
    "\n",
    "Use this format for your reponse. Please follow this format exactly:\n",
    "Start with the student's name on the first line.\n",
    "Next, give a very brief summary of the project, including the logical steps that were submitted.\n",
    "Next, on  separate line, give the score of 0-5.\n",
    "Next, explain any reasons the student did not get full credit.\n",
    "Finally, make suggestions on how the student's project can be improved to achieve their stated goal.\n",
    "\n",
    "'''"
   ]
  },
  {
   "cell_type": "code",
   "execution_count": 13,
   "id": "3cfdeff6-9f35-4826-9394-17d9b7f26062",
   "metadata": {},
   "outputs": [],
   "source": [
    "# I used this to test my prompt before I ran the loop on the whole class.\n",
    "# This is where I pasted the student's assignment submission\n",
    "data = '''\n",
    "\n",
    "'''"
   ]
  },
  {
   "cell_type": "code",
   "execution_count": 14,
   "id": "186d3920-ea31-496f-b101-f0d703023098",
   "metadata": {},
   "outputs": [
    {
     "data": {
      "text/plain": [
       "PromptInput(assignment=None, grading_criteria=None, student_submission=None)"
      ]
     },
     "execution_count": 14,
     "metadata": {},
     "output_type": "execute_result"
    }
   ],
   "source": [
    "# Use the ChatPromptTemplate\n",
    "#\n",
    "from langchain_core.prompts import ChatPromptTemplate\n",
    "\n",
    "template = ChatPromptTemplate.from_messages([\n",
    "    (\"system\", \"You are teaching assistant tasked with helping to grade and assignment. You are an expert in evaluating adherence to following directions.\"),\n",
    "    (\"human\", \"{assignment}\"),\n",
    "    (\"ai\", \"Yes, I fully understand the assignment now, please give me the grading criteria.\"),\n",
    "    (\"human\", \"{grading_criteria}\"),\n",
    "    (\"ai\", \"Yes, I fully understand the assignment and grading criteria now, please give me the student's submission and I will evaluate the submission according to the assignment description and grading criteria and give a response consistent with your instructions.\"),\n",
    "    (\"human\", \"{student_submission}\"),\n",
    "])\n",
    "# What do we need to provde to use it? \n",
    "template.input_schema()"
   ]
  },
  {
   "cell_type": "code",
   "execution_count": 15,
   "id": "5726fc5d-dabc-43d3-9523-f6321cdf0d9e",
   "metadata": {},
   "outputs": [],
   "source": [
    "# Test it out if you want to see an example prompt.\n",
    "# You must provide content on the data variable.\n",
    "#template.invoke({'assignment': instructions, 'grading_criteria': grading_rubric, 'student_submission':data})"
   ]
  },
  {
   "cell_type": "code",
   "execution_count": 16,
   "id": "6de461a9-7b5e-409c-962d-a6e8137f1c19",
   "metadata": {},
   "outputs": [],
   "source": [
    "# Create chain with this prompt, a model and a parser\n",
    "# ChatGPT model\n",
    "from langchain_openai import ChatOpenAI\n",
    "openai_llm = ChatOpenAI(model='gpt-3.5-turbo', api_key=openai_api_key, temperature = 0)\n",
    "# Could also use Claude here\n",
    "#from langchain_anthropic import ChatAnthropic\n",
    "#claude_llm = ChatAnthropic(model=\"claude-3-sonnet-20240229\",api_key=anthropic_api_key, temperature = 0)\n",
    "#\n",
    "# This parser takes the AIMessage reutrned form the LLM and converts it to a string\n",
    "from langchain_core.output_parsers import StrOutputParser\n",
    "output_parser = StrOutputParser()\n",
    "#\n",
    "# Create chain for OpenAI model\n",
    "chain = template | openai_llm | output_parser"
   ]
  },
  {
   "cell_type": "code",
   "execution_count": 20,
   "id": "bc4fe419-0de6-4d0f-8030-205bb04599a4",
   "metadata": {},
   "outputs": [],
   "source": [
    "# I used this to test it out before running the full loop on the class submissions\n",
    "#response = chain.invoke({'assignment': instructions, 'grading_criteria': grading_rubric, 'student_submission':data})"
   ]
  },
  {
   "cell_type": "code",
   "execution_count": 10,
   "id": "2f346b23-4c08-495c-b2b0-97fbdb8296af",
   "metadata": {},
   "outputs": [],
   "source": [
    "#print(response)"
   ]
  },
  {
   "cell_type": "markdown",
   "id": "ce9ee706-bc30-44fc-9681-3e37ca1efc76",
   "metadata": {},
   "source": [
    "### Load the Assignment #3 data submitted by the students"
   ]
  },
  {
   "cell_type": "code",
   "execution_count": 11,
   "id": "c46c0b7d-bebd-498d-a6d4-d22c7dd93702",
   "metadata": {},
   "outputs": [],
   "source": [
    "import zipfile\n",
    "\n",
    "# Extract Canvas downloaded zip file containing the students' submissions\n",
    "with zipfile.ZipFile('./submissions.zip', 'r') as zip_ref:\n",
    "    # Extract all the contents of the zip file to specified directory\n",
    "    zip_ref.extractall(\"./assignment3\")"
   ]
  },
  {
   "cell_type": "code",
   "execution_count": 18,
   "id": "3ba03310-3323-4b88-b0a3-134d6b987f1f",
   "metadata": {},
   "outputs": [],
   "source": [
    "# Get a list of filenames to evaluate, only those with .html extension are the submissions\n",
    "\n",
    "assignment3_filenames = [f for f in os.listdir('./assignment3') if f.endswith('.html')]\n",
    "# Iterate through the file names (used for testing\n",
    "#for fn in assignment3_filenames:\n",
    "    #print(fn)\n",
    "    #pass"
   ]
  },
  {
   "cell_type": "markdown",
   "id": "85e4df6c-94f9-4840-b249-098f73d6ef2e",
   "metadata": {},
   "source": [
    "### This is the loop that evaluates all the submissions and saves the response to a text file"
   ]
  },
  {
   "cell_type": "code",
   "execution_count": 19,
   "id": "54ac66c3-b98c-459f-b56d-e9eee3f8b73c",
   "metadata": {},
   "outputs": [
    {
     "name": "stdout",
     "output_type": "stream",
     "text": [
      "Filename: shahprit_47824_text.html\n",
      "User: shahprit\n",
      "Wrote file: assignment3/grades/ shahprit.txt\n",
      "Filename: mmoattarimehrpad_LATE_47276_text.html\n",
      "User: mmoattarimehrpad\n",
      "Wrote file: assignment3/grades/ mmoattarimehrpad.txt\n",
      "Filename: upadhyayapranav_100184_text.html\n",
      "User: upadhyayapranav\n",
      "Wrote file: assignment3/grades/ upadhyayapranav.txt\n",
      "Filename: kingseanpatrick_96812_text.html\n",
      "User: kingseanpatrick\n",
      "Wrote file: assignment3/grades/ kingseanpatrick.txt\n",
      "Filename: sakodakayleechiyoko_97056_text.html\n",
      "User: sakodakayleechiyoko\n",
      "Wrote file: assignment3/grades/ sakodakayleechiyoko.txt\n",
      "Filename: yamashitahinano_17223_text.html\n",
      "User: yamashitahinano\n",
      "Wrote file: assignment3/grades/ yamashitahinano.txt\n",
      "Filename: buckleykadenrand_10012_text.html\n",
      "User: buckleykadenrand\n",
      "Wrote file: assignment3/grades/ buckleykadenrand.txt\n",
      "Filename: chanted_21336_text.html\n",
      "User: chanted\n",
      "Wrote file: assignment3/grades/ chanted.txt\n",
      "Filename: sheehanolivermichael_26838_text.html\n",
      "User: sheehanolivermichael\n",
      "Wrote file: assignment3/grades/ sheehanolivermichael.txt\n",
      "Filename: allennick_41736_text.html\n",
      "User: allennick\n",
      "Wrote file: assignment3/grades/ allennick.txt\n",
      "Filename: chidambaramshreya_46106_text.html\n",
      "User: chidambaramshreya\n",
      "Wrote file: assignment3/grades/ chidambaramshreya.txt\n",
      "Filename: chouconnie_9008_text.html\n",
      "User: chouconnie\n",
      "Wrote file: assignment3/grades/ chouconnie.txt\n",
      "Filename: lonacsam_48502_text.html\n",
      "User: lonacsam\n",
      "Wrote file: assignment3/grades/ lonacsam.txt\n",
      "Filename: morriskelsey_95494_text.html\n",
      "User: morriskelsey\n",
      "Wrote file: assignment3/grades/ morriskelsey.txt\n",
      "Filename: vanakishreya_99063_text.html\n",
      "User: vanakishreya\n",
      "Wrote file: assignment3/grades/ vanakishreya.txt\n",
      "Filename: seahnicholasquanen_4786_text.html\n",
      "User: seahnicholasquanen\n",
      "Wrote file: assignment3/grades/ seahnicholasquanen.txt\n",
      "Filename: fernandezmayela_97199_text.html\n",
      "User: fernandezmayela\n",
      "Wrote file: assignment3/grades/ fernandezmayela.txt\n",
      "Filename: chintaviswadatta_96456_text.html\n",
      "User: chintaviswadatta\n",
      "Wrote file: assignment3/grades/ chintaviswadatta.txt\n",
      "Filename: liuaustin_36328_text.html\n",
      "User: liuaustin\n",
      "Wrote file: assignment3/grades/ liuaustin.txt\n",
      "Filename: kuangruojia_96992_text.html\n",
      "User: kuangruojia\n",
      "Wrote file: assignment3/grades/ kuangruojia.txt\n",
      "Filename: castroreyesfernando_41341_text.html\n",
      "User: castroreyesfernando\n",
      "Wrote file: assignment3/grades/ castroreyesfernando.txt\n",
      "Filename: gibsonmegangrace_97093_text.html\n",
      "User: gibsonmegangrace\n",
      "Wrote file: assignment3/grades/ gibsonmegangrace.txt\n",
      "Filename: albertsashtonc_21241_text.html\n",
      "User: albertsashtonc\n",
      "Wrote file: assignment3/grades/ albertsashtonc.txt\n",
      "Filename: taghaviashkanjason_41493_text.html\n",
      "User: taghaviashkanjason\n",
      "Wrote file: assignment3/grades/ taghaviashkanjason.txt\n",
      "Filename: schoenburgjacobedward_96926_text.html\n",
      "User: schoenburgjacobedward\n",
      "Wrote file: assignment3/grades/ schoenburgjacobedward.txt\n",
      "Filename: berryelizabethjoy_3773_text.html\n",
      "User: berryelizabethjoy\n",
      "Wrote file: assignment3/grades/ berryelizabethjoy.txt\n",
      "Filename: pietrocinibrogan_9181_text.html\n",
      "User: pietrocinibrogan\n",
      "Wrote file: assignment3/grades/ pietrocinibrogan.txt\n",
      "Filename: aaknesjakemichael_4905_text.html\n",
      "User: aaknesjakemichael\n",
      "Wrote file: assignment3/grades/ aaknesjakemichael.txt\n",
      "Filename: petersenparker_16864_text.html\n",
      "User: petersenparker\n",
      "Wrote file: assignment3/grades/ petersenparker.txt\n",
      "Filename: sobellbrianjames_67406_text.html\n",
      "User: sobellbrianjames\n",
      "Wrote file: assignment3/grades/ sobellbrianjames.txt\n",
      "Filename: lambjake_98078_text.html\n",
      "User: lambjake\n",
      "Wrote file: assignment3/grades/ lambjake.txt\n",
      "Filename: valverdeturnergabriel_9898_text.html\n",
      "User: valverdeturnergabriel\n",
      "Wrote file: assignment3/grades/ valverdeturnergabriel.txt\n",
      "Filename: thomanalex_96483_text.html\n",
      "User: thomanalex\n",
      "Wrote file: assignment3/grades/ thomanalex.txt\n",
      "Filename: narukanirbhaysingh_97923_text.html\n",
      "User: narukanirbhaysingh\n",
      "Wrote file: assignment3/grades/ narukanirbhaysingh.txt\n",
      "Filename: wierszokhanna_95993_text.html\n",
      "User: wierszokhanna\n",
      "Wrote file: assignment3/grades/ wierszokhanna.txt\n",
      "Filename: perezryancharles_96745_text.html\n",
      "User: perezryancharles\n",
      "Wrote file: assignment3/grades/ perezryancharles.txt\n",
      "Filename: waglekabirpushkar_31670_text.html\n",
      "User: waglekabirpushkar\n",
      "Wrote file: assignment3/grades/ waglekabirpushkar.txt\n",
      "Filename: nagpalkevinpatino_26426_text.html\n",
      "User: nagpalkevinpatino\n",
      "Wrote file: assignment3/grades/ nagpalkevinpatino.txt\n",
      "Filename: lamettemelissa_37261_text.html\n",
      "User: lamettemelissa\n",
      "Wrote file: assignment3/grades/ lamettemelissa.txt\n",
      "Filename: bovedavisedward_98704_text.html\n",
      "User: bovedavisedward\n",
      "Wrote file: assignment3/grades/ bovedavisedward.txt\n",
      "Filename: bomstamadeline_97888_text.html\n",
      "User: bomstamadeline\n",
      "Wrote file: assignment3/grades/ bomstamadeline.txt\n",
      "Filename: huangrichard_LATE_41070_text.html\n",
      "User: huangrichard\n",
      "Wrote file: assignment3/grades/ huangrichard.txt\n"
     ]
    }
   ],
   "source": [
    "for fn in assignment3_filenames:\n",
    "    #Open the HTML file and read its contents\n",
    "    with open('./assignment3/' + fn, 'r') as f:\n",
    "        print('Filename:', fn)\n",
    "        # extract just the user\n",
    "        user = fn.split(\"_\")[0]\n",
    "        print('User:', user)\n",
    "        # Read the entire raw html file\n",
    "        html_content = f.read()\n",
    "        # Create a new  BeautifulSoup HTML parser\n",
    "        soup = BeautifulSoup(html_content, 'html.parser')\n",
    "        # Extract just the text using the parser (strip all the HTML tags)\n",
    "        data = soup.get_text()\n",
    "        # Extract just the student's name in the first line\n",
    "        name = data.split(':')[1]\n",
    "        #print(name,user,data)\n",
    "        #print(data)\n",
    "        # Invoke the chain\n",
    "        response = chain.invoke({'assignment': instructions, 'grading_criteria': grading_rubric, 'student_submission':data})\n",
    "        # Save the response to a file.\n",
    "        new_fn = user + '.txt'\n",
    "        with open('assignment3/grades/' + new_fn, 'a') as file:\n",
    "            file.write(response)\n",
    "        print('Wrote file: assignment3/grades/', new_fn)"
   ]
  },
  {
   "cell_type": "code",
   "execution_count": null,
   "id": "38b50170-75ca-4c7a-8181-d04ac4d4b50d",
   "metadata": {},
   "outputs": [],
   "source": []
  },
  {
   "cell_type": "code",
   "execution_count": null,
   "id": "fc9ee45b-fa4b-4b2a-baba-889a61cb72c9",
   "metadata": {},
   "outputs": [],
   "source": []
  },
  {
   "cell_type": "code",
   "execution_count": null,
   "id": "49f3b3f1-f50d-41f7-8c73-0d17533c923a",
   "metadata": {},
   "outputs": [],
   "source": []
  },
  {
   "cell_type": "code",
   "execution_count": null,
   "id": "eb48c0ef-7baa-4c9e-a882-a3dcd0f3661f",
   "metadata": {},
   "outputs": [],
   "source": []
  }
 ],
 "metadata": {
  "kernelspec": {
   "display_name": "Python 3 (ipykernel)",
   "language": "python",
   "name": "python3"
  },
  "language_info": {
   "codemirror_mode": {
    "name": "ipython",
    "version": 3
   },
   "file_extension": ".py",
   "mimetype": "text/x-python",
   "name": "python",
   "nbconvert_exporter": "python",
   "pygments_lexer": "ipython3",
   "version": "3.10.14"
  }
 },
 "nbformat": 4,
 "nbformat_minor": 5
}
