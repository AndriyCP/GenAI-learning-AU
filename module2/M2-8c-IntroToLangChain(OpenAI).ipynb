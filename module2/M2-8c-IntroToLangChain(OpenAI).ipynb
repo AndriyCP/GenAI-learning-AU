{
 "cells": [
  {
   "cell_type": "markdown",
   "id": "7ab54ea4-b48e-45ec-a4dc-3a18abbd74d8",
   "metadata": {},
   "source": [
    "## Still under development"
   ]
  },
  {
   "cell_type": "code",
   "execution_count": null,
   "id": "145301f1-c3bd-4761-86fe-15c91efe0825",
   "metadata": {},
   "outputs": [],
   "source": [
    "#TBD\n",
    "#https://python.langchain.com/docs/get_started/quickstart/"
   ]
  },
  {
   "cell_type": "code",
   "execution_count": 2,
   "id": "401cb866-969f-4d42-a19d-08927ce81f7d",
   "metadata": {},
   "outputs": [],
   "source": [
    "# Need to test this on fresh start\n",
    "# # Upgrade langchain\n",
    "# %pip install --upgrade langchain\n",
    "# # Install OpenAI support\n",
    "#%pip install langchain-openai\n",
    "\n",
    "\n",
    "# # Uninstall pydantic\n",
    "# %pip uninstall pydantic -y\n",
    "# # Re install pydantic specific version of pydantic (original version ==1.10.14)\n",
    "# %pip install pydantic==1.10.14\n",
    "# # %pip show langchain-anthropic\n",
    "# # %pip show anthropic\n",
    "# # %pip show defusedxml\n",
    "# # %pip show langchain-core"
   ]
  },
  {
   "cell_type": "code",
   "execution_count": 3,
   "id": "3b4210ac-3577-443e-8bb0-28183a803d06",
   "metadata": {},
   "outputs": [
    {
     "name": "stdout",
     "output_type": "stream",
     "text": [
      "Requirement already satisfied: python-dotenv in /opt/conda/lib/python3.10/site-packages (1.0.1)\n",
      "Note: you may need to restart the kernel to use updated packages.\n"
     ]
    }
   ],
   "source": [
    "%pip install python-dotenv\n",
    "from dotenv import load_dotenv\n",
    "import os\n",
    "import langchain"
   ]
  },
  {
   "cell_type": "code",
   "execution_count": 4,
   "id": "37c5dce8-037b-4eeb-9736-5b8e40ad41ba",
   "metadata": {},
   "outputs": [],
   "source": [
    "# Load environment variables from .env file\n",
    "load_dotenv()\n",
    "# Now you can access the environment variables\n",
    "anthropic_api_key = os.getenv('ANTHROPIC_API_KEY')\n",
    "openai_api_key = os.getenv('OPENAI_API_KEY')\n",
    "langchain_api_key = os.getenv('LANGCHAIN_API_KEY')"
   ]
  },
  {
   "cell_type": "code",
   "execution_count": null,
   "id": "c37aa939-79c1-4fef-bd7f-e7f73a7cd6ac",
   "metadata": {},
   "outputs": [],
   "source": [
    "# https://python.langchain.com/docs/guides/development/pydantic_compatibility/\n",
    "# Uninstall pydantic\n",
    "# %pip uninstall pydantic -y\n",
    "# # Install specific version of pydantic (original version ==1.10.14)\n",
    "# %pip install pydantic==1.10.14\n",
    "# # Install langchain-anthropic\n",
    "#%pip install langchain-anthropic\n"
   ]
  },
  {
   "cell_type": "code",
   "execution_count": null,
   "id": "aab27e57-6620-4abd-b3d7-68edc414b196",
   "metadata": {},
   "outputs": [],
   "source": [
    "# I don't think I need this anymore\n",
    "#%pip uninstall langchain-anthropic -y\n",
    "#%pip install langchain-anthropic # current version 0.1.8\n",
    "#from langchain_anthropic import ChatAnthropic\n",
    "#%pip show pydantic # Installed version ==1.10.14, current version ==2.7.0\n",
    "#%pip show langchain-anthropic\n",
    "#%pip install --upgrade pydantic\n",
    "#%pip show langchain"
   ]
  },
  {
   "cell_type": "code",
   "execution_count": 6,
   "id": "8c91a94e-ae08-45fc-9c2c-c55ebf016db5",
   "metadata": {},
   "outputs": [],
   "source": [
    "from langchain_openai import ChatOpenAI\n",
    "\n",
    "llm = ChatOpenAI(api_key=openai_api_key)"
   ]
  },
  {
   "cell_type": "code",
   "execution_count": 7,
   "id": "37a1b391-a235-4698-9985-569430939691",
   "metadata": {},
   "outputs": [
    {
     "data": {
      "text/plain": [
       "AIMessage(content='Langsmith can help with testing in the following ways:\\n\\n1. Test automation: Langsmith can automate the testing process by writing scripts and tools that can automatically test code and provide feedback on the results.\\n\\n2. Test case generation: Langsmith can generate test cases based on the requirements and specifications of the software, ensuring comprehensive test coverage.\\n\\n3. Test data generation: Langsmith can generate test data to simulate real-world scenarios and edge cases, helping to uncover potential issues in the software.\\n\\n4. Performance testing: Langsmith can help with performance testing by simulating different load conditions and measuring the response times of the software under stress.\\n\\n5. Integration testing: Langsmith can assist with integration testing by testing the interaction between different components of the software to ensure they work together seamlessly.\\n\\nOverall, Langsmith can play a crucial role in improving the efficiency and effectiveness of the testing process, ultimately helping to deliver high-quality software products.', response_metadata={'token_usage': {'completion_tokens': 184, 'prompt_tokens': 15, 'total_tokens': 199}, 'model_name': 'gpt-3.5-turbo', 'system_fingerprint': 'fp_c2295e73ad', 'finish_reason': 'stop', 'logprobs': None}, id='run-576a83f7-c92b-45e0-9ebe-3e413da746e0-0')"
      ]
     },
     "execution_count": 7,
     "metadata": {},
     "output_type": "execute_result"
    }
   ],
   "source": [
    "llm.invoke(\"how can langsmith help with testing?\")"
   ]
  },
  {
   "cell_type": "code",
   "execution_count": null,
   "id": "3175b433-1219-430a-8648-f0eb719fed98",
   "metadata": {},
   "outputs": [],
   "source": [
    "# Now import\n",
    "#from langchain_anthropic import ChatAnthropic\n",
    "\n",
    "from langchain_core.prompts import ChatPromptTemplate\n",
    "from langchain_core.output_parsers import StrOutputParser"
   ]
  },
  {
   "cell_type": "code",
   "execution_count": 8,
   "id": "9d732dfc-b4bf-4848-b308-52842a5f1b7e",
   "metadata": {},
   "outputs": [],
   "source": [
    "from langchain_core.prompts import ChatPromptTemplate\n",
    "prompt = ChatPromptTemplate.from_messages([\n",
    "    (\"system\", \"You are world class technical documentation writer.\"),\n",
    "    (\"user\", \"{input}\")\n",
    "])"
   ]
  },
  {
   "cell_type": "code",
   "execution_count": 9,
   "id": "facf93b3-b099-49e4-8b5b-9676d7bf0b1e",
   "metadata": {},
   "outputs": [],
   "source": [
    "# Chain\n",
    "chain = prompt | llm "
   ]
  },
  {
   "cell_type": "code",
   "execution_count": 10,
   "id": "d18291c1-ffd5-4ca4-a9a4-d29c968bae2f",
   "metadata": {},
   "outputs": [],
   "source": [
    "# Invoke\n",
    "myInput= {\"input\": \"how can langsmith help with testing?\"}\n",
    "#response = chain.invoke({\"input\": \"how can langsmith help with testing?\"})\n",
    "response = chain.invoke(myInput)"
   ]
  },
  {
   "cell_type": "code",
   "execution_count": 11,
   "id": "e96a4172-fd4f-4ee7-9096-ef8cd764c16a",
   "metadata": {},
   "outputs": [
    {
     "name": "stdout",
     "output_type": "stream",
     "text": [
      "Langsmith can help with testing in several ways:\n",
      "\n",
      "1. Test Data Generation: Langsmith can generate realistic and diverse test data sets to ensure comprehensive test coverage.\n",
      "\n",
      "2. Test Case Generation: Langsmith can automatically generate test cases based on input specifications, helping to speed up the testing process.\n",
      "\n",
      "3. Test Automation: Langsmith can be integrated with testing frameworks to automate the execution of test cases, saving time and effort in manual testing.\n",
      "\n",
      "4. Test Result Analysis: Langsmith can analyze test results and provide insights into the test coverage, identifying areas that require further testing.\n",
      "\n",
      "5. Regression Testing: Langsmith can assist in regression testing by automatically re-running test cases to ensure that new code changes do not introduce bugs or issues.\n",
      "\n",
      "Overall, Langsmith can enhance the testing process by providing efficient and effective testing solutions, leading to improved software quality and reliability.\n"
     ]
    }
   ],
   "source": [
    "print(response.content)"
   ]
  },
  {
   "cell_type": "code",
   "execution_count": 12,
   "id": "8a6479f2-5fe4-484e-b920-77623b1f3590",
   "metadata": {},
   "outputs": [],
   "source": [
    "from langchain_core.output_parsers import StrOutputParser\n",
    "\n",
    "output_parser = StrOutputParser()"
   ]
  },
  {
   "cell_type": "code",
   "execution_count": 13,
   "id": "e1783eb1-1c9c-4f30-8a28-e309f2448392",
   "metadata": {},
   "outputs": [],
   "source": [
    "# Defimne the 3-step-chain\n",
    "chain = prompt | llm | output_parser"
   ]
  },
  {
   "cell_type": "code",
   "execution_count": 14,
   "id": "ba5e7ba3-a16c-4a84-8934-d675dc9ca44c",
   "metadata": {},
   "outputs": [],
   "source": [
    "# Now the response is the result of the 3-steps\n",
    "response = chain.invoke(myInput)"
   ]
  },
  {
   "cell_type": "code",
   "execution_count": 16,
   "id": "37e812a0-0329-4238-8d5a-4bc1d4acff8a",
   "metadata": {},
   "outputs": [
    {
     "name": "stdout",
     "output_type": "stream",
     "text": [
      "Langsmith can help with testing in various ways, including:\n",
      "\n",
      "1. Automated Testing: Langsmith can be used to generate test cases and test data automatically, helping to streamline the testing process and increase test coverage.\n",
      "\n",
      "2. Performance Testing: Langsmith can be used to simulate large volumes of data and traffic to test the performance of systems and applications under different scenarios.\n",
      "\n",
      "3. Security Testing: Langsmith can be used to generate security test cases to identify vulnerabilities in applications and systems.\n",
      "\n",
      "4. Regression Testing: Langsmith can help automate regression testing by generating test cases that can be run repeatedly to ensure that new code changes do not break existing functionality.\n",
      "\n",
      "5. Load Testing: Langsmith can be used to generate test scenarios to simulate high loads on applications and systems to test their scalability and performance under heavy usage.\n",
      "\n",
      "Overall, Langsmith can be a valuable tool in the testing process to improve efficiency, increase test coverage, and identify issues early in the development cycle.\n"
     ]
    }
   ],
   "source": [
    "print(response)"
   ]
  },
  {
   "cell_type": "code",
   "execution_count": null,
   "id": "ba941d7e-6d44-4018-8544-ae9e7b3a2ffa",
   "metadata": {},
   "outputs": [],
   "source": []
  }
 ],
 "metadata": {
  "kernelspec": {
   "display_name": "Python 3 (ipykernel)",
   "language": "python",
   "name": "python3"
  },
  "language_info": {
   "codemirror_mode": {
    "name": "ipython",
    "version": 3
   },
   "file_extension": ".py",
   "mimetype": "text/x-python",
   "name": "python",
   "nbconvert_exporter": "python",
   "pygments_lexer": "ipython3",
   "version": "3.10.14"
  }
 },
 "nbformat": 4,
 "nbformat_minor": 5
}
