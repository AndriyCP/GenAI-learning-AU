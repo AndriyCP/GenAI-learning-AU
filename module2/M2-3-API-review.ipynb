{
 "cells": [
  {
   "cell_type": "markdown",
   "id": "eb3cef23-84b8-4dd8-82bb-90a24aeb1bfa",
   "metadata": {},
   "source": [
    "## Review Application Programing Interfaces (APIs) and JavaScript Object Notation (JSON) format\n",
    "Understanding how APIs work is crucial for those learning about AI, as APIs provide the standardized mechanisms for accessing and integrating AI models and services into applications. Being able to effectively interact with APIs enables learners to explore different AI offerings, leverage AI frameworks and libraries, and incorporate AI capabilities into a wide range of projects, which is an increasingly valuable skill as AI becomes more pervasive across various domains.<P>\n",
    "\n",
    "Additionally, familiarity with JSON (JavaScript Object Notation) is essential for students learning about AI, as this lightweight data format is widely used for request/response payloads in AI APIs, configuration files in AI frameworks, and the representation of input/output data for AI models. Understanding the structure and syntax of JSON allows students to seamlessly interact with AI-related tools and services, parse and manipulate the data used in AI applications, and facilitate the integration of AI components into larger, distributed systems - all of which are crucial skills for AI practitioners working in real-world, web-based environments.<P>\n",
    "\n",
    "Technically, here are are using a REST API. The use of RESTful (Representational State Transfer) APIs is highly relevant for students learning about AI, as REST has become the de facto standard for modern web services and APIs, including those used in AI-powered applications. REST APIs follow standardized principles and conventions, such as the use of HTTP methods for CRUD operations on resources, a resource-oriented design that aligns well with data-centric AI tasks, and the use of flexible data formats like JSON - all of which enable AI practitioners to easily integrate AI capabilities into their applications by leveraging a vast ecosystem of data sources, services, and tools through well-documented, stateless, and scalable API interfaces.\n",
    "### Table of Contents\n",
    "1. [GET()](#get)\n",
    "2. [POST()](#post)\n",
    "3. [Assignment](#assignment)"
   ]
  },
  {
   "cell_type": "code",
   "execution_count": 1,
   "id": "31f7f885-9ee2-4810-95ff-9c6f85da456e",
   "metadata": {},
   "outputs": [],
   "source": [
    "#%pip install python-dotenv\n",
    "#from dotenv import load_dotenv\n",
    "#import os\n",
    "# Import the 2 packages we will use\n",
    "import requests\n",
    "import json"
   ]
  },
  {
   "cell_type": "markdown",
   "id": "1a105ab5-9dda-4b74-a733-d724dd160b54",
   "metadata": {},
   "source": [
    "## GET()<a name=\"get\"></a>\n",
    "The requests package is a popular library in Python for making HTTP requests to web servers. The get() and post() methods are two of the most commonly used functions provided by the requests library.\n",
    "\n",
    "The get() method is used to send an HTTP GET request to a specified URL. GET requests are typically used to retrieve data from a server, such as fetching a web page or an API response. The get() method returns a Response object, which contains the server's response, including the status code, headers, and the content of the response.\n",
    "\n",
    "`requests.get(url, params={}, args)`: <BR>\n",
    "This method sends a HTTP GET request to the specified URL. A GET request is used to retrieve data from a server. The params argument is an optional dictionary of query string arguments. The server responds by sending back the requested data. GET requests should only retrieve data and should have no other effect."
   ]
  },
  {
   "cell_type": "code",
   "execution_count": 2,
   "id": "eaeaded7-013c-4cba-a240-1dae9f2bcccc",
   "metadata": {},
   "outputs": [
    {
     "data": {
      "text/plain": [
       "{'login': 'octocat',\n",
       " 'id': 583231,\n",
       " 'node_id': 'MDQ6VXNlcjU4MzIzMQ==',\n",
       " 'avatar_url': 'https://avatars.githubusercontent.com/u/583231?v=4',\n",
       " 'gravatar_id': '',\n",
       " 'url': 'https://api.github.com/users/octocat',\n",
       " 'html_url': 'https://github.com/octocat',\n",
       " 'followers_url': 'https://api.github.com/users/octocat/followers',\n",
       " 'following_url': 'https://api.github.com/users/octocat/following{/other_user}',\n",
       " 'gists_url': 'https://api.github.com/users/octocat/gists{/gist_id}',\n",
       " 'starred_url': 'https://api.github.com/users/octocat/starred{/owner}{/repo}',\n",
       " 'subscriptions_url': 'https://api.github.com/users/octocat/subscriptions',\n",
       " 'organizations_url': 'https://api.github.com/users/octocat/orgs',\n",
       " 'repos_url': 'https://api.github.com/users/octocat/repos',\n",
       " 'events_url': 'https://api.github.com/users/octocat/events{/privacy}',\n",
       " 'received_events_url': 'https://api.github.com/users/octocat/received_events',\n",
       " 'type': 'User',\n",
       " 'site_admin': False,\n",
       " 'name': 'The Octocat',\n",
       " 'company': '@github',\n",
       " 'blog': 'https://github.blog',\n",
       " 'location': 'San Francisco',\n",
       " 'email': None,\n",
       " 'hireable': None,\n",
       " 'bio': None,\n",
       " 'twitter_username': None,\n",
       " 'public_repos': 8,\n",
       " 'public_gists': 8,\n",
       " 'followers': 13091,\n",
       " 'following': 9,\n",
       " 'created_at': '2011-01-25T18:44:36Z',\n",
       " 'updated_at': '2024-04-12T08:41:05Z'}"
      ]
     },
     "execution_count": 2,
     "metadata": {},
     "output_type": "execute_result"
    }
   ],
   "source": [
    "# example\n",
    "url = 'https://api.github.com/users/octocat'\n",
    "response = requests.get(url)\n",
    "# Look at the json return from the API in json format\n",
    "response.json()"
   ]
  },
  {
   "cell_type": "code",
   "execution_count": 3,
   "id": "0814de5a-0d6d-46c5-a8e9-bb6d68be088c",
   "metadata": {},
   "outputs": [
    {
     "name": "stdout",
     "output_type": "stream",
     "text": [
      "type : general\n",
      "setup : Why did the barber win the race?\n",
      "punchline : He took a short cut.\n",
      "id : 320\n",
      "\n",
      "Here's a random joke for you: Why did the barber win the race? He took a short cut.\n"
     ]
    }
   ],
   "source": [
    "# Let's use a real API\n",
    "url = 'https://official-joke-api.appspot.com/jokes/random'\n",
    "response = requests.get(url)\n",
    "\n",
    "# The .json() method converts the JSON response to a Python dictionary\n",
    "response_dict = response.json()\n",
    "\n",
    "# Iterate though the json object and print the keys & values\n",
    "for key in response_dict.keys():\n",
    "    print(key, ':',response_dict[key])\n",
    "\n",
    "# Format the output using just the json keys relevant to the joke\n",
    "print(f\"\\nHere's a random joke for you: {response_dict['setup']} {response_dict['punchline']}\")"
   ]
  },
  {
   "cell_type": "markdown",
   "id": "233de349-c5a6-4392-b085-2c23094bba76",
   "metadata": {},
   "source": [
    "## POST()<a name=\"post\"></a>\n",
    "The post() method, on the other hand, is used to send an HTTP POST request to a specified URL. POST requests are typically used to send data to a server, such as submitting a form or sending data to an API endpoint. The post() method also returns a Response object, which contains the server's response to the POST request. In this class, we will mostly use POST().<P>\n",
    "\n",
    "`requests.post(url, data={}, json={}, args)`:<BR>\n",
    "This method sends a HTTP POST request to the specified URL. A POST request is used to send data to a server to create a new resource. The data or json argument is a dictionary of data that you want to send to the server. The server responds by sending back data, often the details of the created resource."
   ]
  },
  {
   "cell_type": "code",
   "execution_count": 4,
   "id": "6716fe44-7cb2-415a-b9f2-0c9719d8970b",
   "metadata": {},
   "outputs": [
    {
     "name": "stdout",
     "output_type": "stream",
     "text": [
      "Here is the data I am sending...: {\"key1\": \"value1\", \"key2\": \"value2\"}\n",
      "The API call was successful.\n"
     ]
    }
   ],
   "source": [
    "# Example of POST()\n",
    "\n",
    "# Define the URL\n",
    "url = 'https://httpbin.org/post'\n",
    "\n",
    "# Define the headers\n",
    "headers = {\n",
    "    # If an API key is needed, put it here in the headers\n",
    "    # 'x-api-key': api_key,\n",
    "    'Content-Type': 'application/json',  # Inform the server about the type of the content\n",
    "    'Accept': 'application/json'  # Tell the server what we are expecting in the response\n",
    "}\n",
    "\n",
    "# Define the data you want to send\n",
    "data = {\n",
    "    'key1': 'value1',\n",
    "    'key2': 'value2'\n",
    "}\n",
    "\n",
    "# Convert the data to JSON format\n",
    "data_json = json.dumps(data) # Convert the dictionary to a json string 'dump string'\n",
    "print('Here is the data I am sending...:', data_json)\n",
    "\n",
    "# Send the POST request\n",
    "response = requests.post(url, headers=headers, data=data_json)\n",
    "\n",
    "# Handle the response\n",
    "if response.status_code == 200: # All went well\n",
    "    # Take action here\n",
    "    print('The API call was successful.')\n",
    "else:\n",
    "    print(f\"Error: {response.status_code} - {response.text}\")\n",
    "# I usually don't print the response in this cell. This cell is only for making the API call"
   ]
  },
  {
   "cell_type": "code",
   "execution_count": 5,
   "id": "df4f50eb-c7f2-4b04-bc79-1f6ccd39f1d1",
   "metadata": {},
   "outputs": [
    {
     "name": "stdout",
     "output_type": "stream",
     "text": [
      "args : {}\n",
      "data : {\"key1\": \"value1\", \"key2\": \"value2\"}\n",
      "files : {}\n",
      "form : {}\n",
      "headers : {'Accept': 'application/json', 'Accept-Encoding': 'gzip, deflate, br', 'Content-Length': '36', 'Content-Type': 'application/json', 'Host': 'httpbin.org', 'User-Agent': 'python-requests/2.31.0', 'X-Amzn-Trace-Id': 'Root=1-661be7e3-75bfd2364ead25ff688518c3'}\n",
      "json : {'key1': 'value1', 'key2': 'value2'}\n",
      "origin : 52.27.224.182\n",
      "url : https://httpbin.org/post\n"
     ]
    }
   ],
   "source": [
    "# Iterate though the response json object and print the keys & values\n",
    "for key in response.json().keys():\n",
    "    print(key, ':',response.json()[key])"
   ]
  },
  {
   "cell_type": "markdown",
   "id": "64f08099-72ee-46f8-b7a8-c8cecb801859",
   "metadata": {},
   "source": [
    "## Assignment<a name=\"assignment\"></a>\n",
    "Quickly, research and report 3 APIs that may be useful for you in the future. You don't need to implement and use them now."
   ]
  },
  {
   "cell_type": "code",
   "execution_count": 6,
   "id": "fde2b0f4-c88b-43d8-9815-bb4b714e5b90",
   "metadata": {},
   "outputs": [],
   "source": [
    "# Enter your 3 responses here."
   ]
  },
  {
   "cell_type": "code",
   "execution_count": null,
   "id": "31ea4dbb-6ca0-4646-82d5-aa5ed4944b52",
   "metadata": {},
   "outputs": [],
   "source": []
  }
 ],
 "metadata": {
  "kernelspec": {
   "display_name": "Python 3 (ipykernel)",
   "language": "python",
   "name": "python3"
  },
  "language_info": {
   "codemirror_mode": {
    "name": "ipython",
    "version": 3
   },
   "file_extension": ".py",
   "mimetype": "text/x-python",
   "name": "python",
   "nbconvert_exporter": "python",
   "pygments_lexer": "ipython3",
   "version": "3.10.14"
  }
 },
 "nbformat": 4,
 "nbformat_minor": 5
}
