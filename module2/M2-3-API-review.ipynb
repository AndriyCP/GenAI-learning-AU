{
 "cells": [
  {
   "cell_type": "code",
   "execution_count": null,
   "id": "d1ae266a-805e-4f87-8c44-72148b267e26",
   "metadata": {},
   "outputs": [],
   "source": [
    "# Review using APIs and json"
   ]
  },
  {
   "cell_type": "code",
   "execution_count": 1,
   "id": "31f7f885-9ee2-4810-95ff-9c6f85da456e",
   "metadata": {},
   "outputs": [],
   "source": [
    "#%pip install python-dotenv\n",
    "import requests\n",
    "import json\n",
    "import os\n",
    "from dotenv import load_dotenv\n"
   ]
  },
  {
   "cell_type": "markdown",
   "id": "1a105ab5-9dda-4b74-a733-d724dd160b54",
   "metadata": {},
   "source": [
    "### requests package review(?)\n",
    "The get() and post() methods in the Python requests package correspond to the HTTP GET and POST methods, respectively. Here's a brief explanation of each:"
   ]
  },
  {
   "cell_type": "markdown",
   "id": "1e131b96-c05f-49d5-b22e-c385ecd5bb6e",
   "metadata": {},
   "source": [
    "`requests.get(url, params={}, args): This method sends a HTTP GET request to the specified URL. A GET request is used to retrieve data from a server. The params argument is an optional dictionary of query string arguments. The server responds by sending back the requested data. GET requests should only retrieve data and should have no other effect.`"
   ]
  },
  {
   "cell_type": "code",
   "execution_count": 2,
   "id": "eaeaded7-013c-4cba-a240-1dae9f2bcccc",
   "metadata": {},
   "outputs": [
    {
     "data": {
      "text/plain": [
       "{'login': 'octocat',\n",
       " 'id': 583231,\n",
       " 'node_id': 'MDQ6VXNlcjU4MzIzMQ==',\n",
       " 'avatar_url': 'https://avatars.githubusercontent.com/u/583231?v=4',\n",
       " 'gravatar_id': '',\n",
       " 'url': 'https://api.github.com/users/octocat',\n",
       " 'html_url': 'https://github.com/octocat',\n",
       " 'followers_url': 'https://api.github.com/users/octocat/followers',\n",
       " 'following_url': 'https://api.github.com/users/octocat/following{/other_user}',\n",
       " 'gists_url': 'https://api.github.com/users/octocat/gists{/gist_id}',\n",
       " 'starred_url': 'https://api.github.com/users/octocat/starred{/owner}{/repo}',\n",
       " 'subscriptions_url': 'https://api.github.com/users/octocat/subscriptions',\n",
       " 'organizations_url': 'https://api.github.com/users/octocat/orgs',\n",
       " 'repos_url': 'https://api.github.com/users/octocat/repos',\n",
       " 'events_url': 'https://api.github.com/users/octocat/events{/privacy}',\n",
       " 'received_events_url': 'https://api.github.com/users/octocat/received_events',\n",
       " 'type': 'User',\n",
       " 'site_admin': False,\n",
       " 'name': 'The Octocat',\n",
       " 'company': '@github',\n",
       " 'blog': 'https://github.blog',\n",
       " 'location': 'San Francisco',\n",
       " 'email': None,\n",
       " 'hireable': None,\n",
       " 'bio': None,\n",
       " 'twitter_username': None,\n",
       " 'public_repos': 8,\n",
       " 'public_gists': 8,\n",
       " 'followers': 12997,\n",
       " 'following': 9,\n",
       " 'created_at': '2011-01-25T18:44:36Z',\n",
       " 'updated_at': '2024-04-03T13:59:27Z'}"
      ]
     },
     "execution_count": 2,
     "metadata": {},
     "output_type": "execute_result"
    }
   ],
   "source": [
    "# example\n",
    "url = 'https://api.github.com/users/octocat'\n",
    "response = requests.get(url)\n",
    "# Look at the json return from the API\n",
    "response.json()"
   ]
  },
  {
   "cell_type": "code",
   "execution_count": 5,
   "id": "0814de5a-0d6d-46c5-a8e9-bb6d68be088c",
   "metadata": {},
   "outputs": [
    {
     "name": "stdout",
     "output_type": "stream",
     "text": [
      "type : general\n",
      "setup : How do you know if there’s an elephant under your bed?\n",
      "punchline : Your head hits the ceiling!\n",
      "id : 127\n",
      "\n",
      "Here's a random joke for you: How do you know if there’s an elephant under your bed? Your head hits the ceiling!\n"
     ]
    }
   ],
   "source": [
    "# Let's use a real API\n",
    "url = 'https://official-joke-api.appspot.com/jokes/random'\n",
    "response = requests.get(url)\n",
    "\n",
    "# The .json() method converts the JSON response to a Python dictionary\n",
    "response_dict = response.json()\n",
    "\n",
    "# Iterate though the json object and print the keys & values\n",
    "for key in response_dict.keys():\n",
    "    print(key, ':',response_dict[key])\n",
    "\n",
    "# Format the output\n",
    "print(f\"\\nHere's a random joke for you: {response_dict['setup']} {response_dict['punchline']}\")"
   ]
  },
  {
   "cell_type": "markdown",
   "id": "233de349-c5a6-4392-b085-2c23094bba76",
   "metadata": {},
   "source": [
    "### Post method"
   ]
  },
  {
   "cell_type": "markdown",
   "id": "107cced3-04ca-47bd-b956-2506927a91b7",
   "metadata": {},
   "source": [
    "`requests.post(url, data={}, json={}, args)`:<BR>\n",
    "This method sends a HTTP POST request to the specified URL. A POST request is used to send data to a server to create a new resource. The data or json argument is a dictionary of data that you want to send to the server. The server responds by sending back data, often the details of the created resource.`"
   ]
  },
  {
   "cell_type": "code",
   "execution_count": 8,
   "id": "6716fe44-7cb2-415a-b9f2-0c9719d8970b",
   "metadata": {},
   "outputs": [
    {
     "name": "stdout",
     "output_type": "stream",
     "text": [
      "Here is the data I am sending...: {\"key1\": \"value1\", \"key2\": \"value2\"}\n",
      "The API call was successful.\n"
     ]
    }
   ],
   "source": [
    "# Example\n",
    "\n",
    "# Define the URL\n",
    "url = 'https://httpbin.org/post'\n",
    "\n",
    "# Define the headers\n",
    "headers = {\n",
    "    # If an API key is needed, put it here in the headers\n",
    "    'Content-Type': 'application/json',  # Inform the server about the type of the content\n",
    "    'Accept': 'application/json'  # Tell the server what we are expecting in the response\n",
    "}\n",
    "\n",
    "# Define the data you want to send\n",
    "data = {\n",
    "    'key1': 'value1',\n",
    "    'key2': 'value2'\n",
    "}\n",
    "\n",
    "# Convert the data to JSON format\n",
    "data_json = json.dumps(data)\n",
    "print('Here is the data I am sending...:', data_json)\n",
    "\n",
    "# Send the POST request\n",
    "response = requests.post(url, headers=headers, data=data_json)\n",
    "\n",
    "# Handle the response\n",
    "if response.status_code == 200: # All went well\n",
    "    # Take action here\n",
    "    print('The API call was successful.')\n",
    "else:\n",
    "    print(f\"Error: {response.status_code} - {response.text}\")\n",
    "# I usually don't print the response in this cell. This cell is only for making the API call"
   ]
  },
  {
   "cell_type": "code",
   "execution_count": 9,
   "id": "df4f50eb-c7f2-4b04-bc79-1f6ccd39f1d1",
   "metadata": {},
   "outputs": [
    {
     "name": "stdout",
     "output_type": "stream",
     "text": [
      "args : {}\n",
      "data : {\"key1\": \"value1\", \"key2\": \"value2\"}\n",
      "files : {}\n",
      "form : {}\n",
      "headers : {'Accept': 'application/json', 'Accept-Encoding': 'gzip, deflate, br', 'Content-Length': '36', 'Content-Type': 'application/json', 'Host': 'httpbin.org', 'User-Agent': 'python-requests/2.31.0', 'X-Amzn-Trace-Id': 'Root=1-6612b83b-32b04093043b00cd2e1accef'}\n",
      "json : {'key1': 'value1', 'key2': 'value2'}\n",
      "origin : 54.203.17.143\n",
      "url : https://httpbin.org/post\n"
     ]
    }
   ],
   "source": [
    "# Iterate though the json object and print the keys & values\n",
    "for key in response.json().keys():\n",
    "    print(key, ':',response.json()[key])"
   ]
  },
  {
   "cell_type": "code",
   "execution_count": 23,
   "id": "298d0355-eb37-41e1-9bc7-f13bbe9e64d8",
   "metadata": {},
   "outputs": [],
   "source": [
    "# Give assignment\n",
    "#Research and report 3 APIs that may be useful for you in the future"
   ]
  },
  {
   "cell_type": "code",
   "execution_count": null,
   "id": "fde2b0f4-c88b-43d8-9815-bb4b714e5b90",
   "metadata": {},
   "outputs": [],
   "source": []
  }
 ],
 "metadata": {
  "kernelspec": {
   "display_name": "Python 3 (ipykernel)",
   "language": "python",
   "name": "python3"
  },
  "language_info": {
   "codemirror_mode": {
    "name": "ipython",
    "version": 3
   },
   "file_extension": ".py",
   "mimetype": "text/x-python",
   "name": "python",
   "nbconvert_exporter": "python",
   "pygments_lexer": "ipython3",
   "version": "3.10.13"
  }
 },
 "nbformat": 4,
 "nbformat_minor": 5
}
