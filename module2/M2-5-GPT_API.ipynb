{
 "cells": [
  {
   "cell_type": "code",
   "execution_count": 1,
   "id": "d1ae266a-805e-4f87-8c44-72148b267e26",
   "metadata": {},
   "outputs": [],
   "source": [
    "# Chat GPT. Need to finish. 4/14/24\n",
    "# Need to include multiple responsed."
   ]
  },
  {
   "cell_type": "code",
   "execution_count": 2,
   "id": "31f7f885-9ee2-4810-95ff-9c6f85da456e",
   "metadata": {},
   "outputs": [
    {
     "name": "stdout",
     "output_type": "stream",
     "text": [
      "Collecting python-dotenv\n",
      "  Using cached python_dotenv-1.0.1-py3-none-any.whl.metadata (23 kB)\n",
      "Using cached python_dotenv-1.0.1-py3-none-any.whl (19 kB)\n",
      "Installing collected packages: python-dotenv\n",
      "Successfully installed python-dotenv-1.0.1\n",
      "Note: you may need to restart the kernel to use updated packages.\n"
     ]
    }
   ],
   "source": [
    "%pip install python-dotenv\n",
    "import requests\n",
    "import json\n",
    "import os\n",
    "from dotenv import load_dotenv\n"
   ]
  },
  {
   "cell_type": "markdown",
   "id": "d850aba9-fb98-4f07-a039-c3260edcece1",
   "metadata": {},
   "source": [
    "### OpenAI API\n",
    "https://platform.openai.com/docs/quickstart?context=python<BR>\n",
    "https://platform.openai.com/docs/api-reference/chat"
   ]
  },
  {
   "cell_type": "markdown",
   "id": "30712831-2b1a-46ca-b4f5-c63aea7d8c12",
   "metadata": {},
   "source": [
    "Store API key:\n",
    "- Get key\n",
    "- In terminal, edit the existing file: nano .env\n",
    "- Add: OPENAI_API_KEY=your_key\n",
    "- Save (ctl-o), Exit (ctl-x)"
   ]
  },
  {
   "cell_type": "code",
   "execution_count": 3,
   "id": "ce74efc3-5f13-4486-b4fb-9fae3fe55e11",
   "metadata": {},
   "outputs": [],
   "source": [
    "# Load environment variables from .env file\n",
    "load_dotenv()\n",
    "# Now you can access the environment variable\n",
    "api_key = os.getenv('OPENAI_API_KEY')\n",
    "#api_key"
   ]
  },
  {
   "cell_type": "markdown",
   "id": "86fc85cf-7502-4afd-80b2-d7d391a692c0",
   "metadata": {},
   "source": [
    "#### Simple"
   ]
  },
  {
   "cell_type": "code",
   "execution_count": 4,
   "id": "38deb48e-c33d-4346-9ed8-b10700de087f",
   "metadata": {},
   "outputs": [
    {
     "name": "stdout",
     "output_type": "stream",
     "text": [
      "Artificial intelligence (AI) is a rapidly growing field that is revolutionizing the way we live, work, and interact with technology. From virtual assistants like Siri and Alexa to self-driving cars and advanced medical diagnostics, AI is transforming industries and pushing the boundaries of what is possible.\n",
      "\n",
      "At its core, AI refers to the ability of machines to perform tasks that typically require human intelligence. This includes things like learning, problem-solving, and decision-making. AI systems are designed to analyze data, recognize patterns, and make predictions based on that information.\n",
      "\n",
      "One of the key advantages of AI is its ability to process and analyze vast amounts of data at incredible speeds. This enables AI systems to identify trends and insights that may not be immediately apparent to humans. For example, in the healthcare industry, AI-powered diagnostic tools can quickly analyze medical images and provide accurate diagnoses, leading to faster treatment and better outcomes for patients.\n",
      "\n",
      "AI is also being used to improve customer service and streamline business operations. Chatbots and virtual assistants can provide instant support to customers, while AI-powered algorithms can optimize processes and reduce costs for companies. In the finance industry, AI is being used to detect fraud, predict market trends, and manage investment portfolios more effectively.\n",
      "\n",
      "However, as AI becomes more advanced and integrated into our daily lives, there are also concerns about its impact on jobs, privacy, and ethics. Some worry that AI will replace human workers in certain industries, while others are concerned about the potential for bias and discrimination in AI algorithms.\n",
      "\n",
      "Despite these challenges, the potential benefits of AI are vast. By harnessing the power of artificial intelligence, we can improve healthcare outcomes, enhance customer experiences, and drive innovation in ways we never thought possible. As AI continues to evolve and expand, it is important for us to consider the implications and ensure that we are using this technology responsibly and ethically.\n",
      "\n",
      "In conclusion, artificial intelligence has the potential to revolutionize our world and transform the way we live and work. By harnessing the power of AI, we can unlock new possibilities and drive progress in ways we never thought possible. As we continue to explore the capabilities of artificial intelligence, it is important to approach this technology with caution and consideration for its impact on society.\n"
     ]
    }
   ],
   "source": [
    "# Set the API endpoint and request data\n",
    "url = \"https://api.openai.com/v1/chat/completions\"\n",
    "headers = {\n",
    "    \"Content-Type\": \"application/json\",\n",
    "    \"Authorization\": f\"Bearer {api_key}\"\n",
    "}\n",
    "data = {\n",
    "     \"model\": \"gpt-3.5-turbo\",\n",
    "     \"messages\": [{\"role\": \"user\", \"content\": \"Write a blog post about artificial intelligence.\"}],\n",
    "      #\"prompt\": \"Say this is a test!\",\n",
    "      \"temperature\": 0.7\n",
    "   }\n",
    "\n",
    "# Make the API request\n",
    "response = requests.post(url, headers=headers, json=data)\n",
    "\n",
    "# Check the response\n",
    "if response.status_code == 200:\n",
    "    generated_text = response.json()['choices'][0]['message']['content']\n",
    "    print(generated_text)\n",
    "else:\n",
    "    print(f\"Error: {response.status_code} - {response.text}\")"
   ]
  },
  {
   "cell_type": "code",
   "execution_count": 5,
   "id": "2742ce0c-7367-4ee0-acaf-9c55a12e944e",
   "metadata": {},
   "outputs": [
    {
     "name": "stdout",
     "output_type": "stream",
     "text": [
      "Artificial intelligence (AI) is a rapidly growing field that is revolutionizing the way we live, work, and interact with technology. From virtual assistants like Siri and Alexa to self-driving cars and advanced medical diagnostics, AI is transforming industries and pushing the boundaries of what is possible.\n",
      "\n",
      "At its core, AI refers to the ability of machines to perform tasks that typically require human intelligence. This includes things like learning, problem-solving, and decision-making. AI systems are designed to analyze data, recognize patterns, and make predictions based on that information.\n",
      "\n",
      "One of the key advantages of AI is its ability to process and analyze vast amounts of data at incredible speeds. This enables AI systems to identify trends and insights that may not be immediately apparent to humans. For example, in the healthcare industry, AI-powered diagnostic tools can quickly analyze medical images and provide accurate diagnoses, leading to faster treatment and better outcomes for patients.\n",
      "\n",
      "AI is also being used to improve customer service and streamline business operations. Chatbots and virtual assistants can provide instant support to customers, while AI-powered algorithms can optimize processes and reduce costs for companies. In the finance industry, AI is being used to detect fraud, predict market trends, and manage investment portfolios more effectively.\n",
      "\n",
      "However, as AI becomes more advanced and integrated into our daily lives, there are also concerns about its impact on jobs, privacy, and ethics. Some worry that AI will replace human workers in certain industries, while others are concerned about the potential for bias and discrimination in AI algorithms.\n",
      "\n",
      "Despite these challenges, the potential benefits of AI are vast. By harnessing the power of artificial intelligence, we can improve healthcare outcomes, enhance customer experiences, and drive innovation in ways we never thought possible. As AI continues to evolve and expand, it is important for us to consider the implications and ensure that we are using this technology responsibly and ethically.\n",
      "\n",
      "In conclusion, artificial intelligence has the potential to revolutionize our world and transform the way we live and work. By harnessing the power of AI, we can unlock new possibilities and drive progress in ways we never thought possible. As we continue to explore the capabilities of artificial intelligence, it is important to approach this technology with caution and consideration for its impact on society.\n"
     ]
    }
   ],
   "source": [
    "print(response.json()['choices'][0]['message']['content'])\n"
   ]
  },
  {
   "cell_type": "code",
   "execution_count": null,
   "id": "d5a09efc-d6c4-448b-a6fb-6f187d79ebd5",
   "metadata": {},
   "outputs": [],
   "source": []
  },
  {
   "cell_type": "code",
   "execution_count": 6,
   "id": "1593543a-6084-4085-87af-97d22053643d",
   "metadata": {},
   "outputs": [
    {
     "name": "stdout",
     "output_type": "stream",
     "text": [
      "The 2020 World Series was played at Globe Life Field in Arlington, Texas.\n"
     ]
    }
   ],
   "source": [
    "messages=[\n",
    "    {\"role\": \"system\", \"content\": \"You are a helpful assistant.\"},\n",
    "    {\"role\": \"user\", \"content\": \"Who won the world series in 2020?\"},\n",
    "    {\"role\": \"assistant\", \"content\": \"The Los Angeles Dodgers won the World Series in 2020.\"},\n",
    "    {\"role\": \"user\", \"content\": \"Where was it played?\"}\n",
    "  ]\n",
    "data = {\n",
    "     \"model\": \"gpt-3.5-turbo\",\n",
    "     \"messages\": messages,\n",
    "      \"temperature\": 0.7\n",
    "   }\n",
    "\n",
    "# Make the API request\n",
    "response = requests.post(url, headers=headers, json=data)\n",
    "\n",
    "# Check the response\n",
    "if response.status_code == 200:\n",
    "    generated_text = response.json()['choices'][0]['message']['content']\n",
    "    print(generated_text)\n",
    "else:\n",
    "    print(f\"Error: {response.status_code} - {response.text}\")"
   ]
  },
  {
   "cell_type": "code",
   "execution_count": 7,
   "id": "22013fe4-1523-4836-9106-afb79a1f2f91",
   "metadata": {},
   "outputs": [
    {
     "data": {
      "text/plain": [
       "{'id': 'chatcmpl-9DahP3epz00p5ugYdnFS4Ka4wcj8a',\n",
       " 'object': 'chat.completion',\n",
       " 'created': 1713026363,\n",
       " 'model': 'gpt-3.5-turbo-0125',\n",
       " 'choices': [{'index': 0,\n",
       "   'message': {'role': 'assistant',\n",
       "    'content': 'The 2020 World Series was played at Globe Life Field in Arlington, Texas.'},\n",
       "   'logprobs': None,\n",
       "   'finish_reason': 'stop'}],\n",
       " 'usage': {'prompt_tokens': 53, 'completion_tokens': 17, 'total_tokens': 70},\n",
       " 'system_fingerprint': 'fp_c2295e73ad'}"
      ]
     },
     "execution_count": 7,
     "metadata": {},
     "output_type": "execute_result"
    }
   ],
   "source": [
    "response.json()"
   ]
  },
  {
   "cell_type": "code",
   "execution_count": null,
   "id": "d53304df-ba15-49e5-9b51-6bb77d6646b0",
   "metadata": {},
   "outputs": [],
   "source": []
  },
  {
   "cell_type": "code",
   "execution_count": null,
   "id": "3084c4e0-8975-44fb-8c16-9963afe4c536",
   "metadata": {},
   "outputs": [],
   "source": []
  },
  {
   "cell_type": "code",
   "execution_count": null,
   "id": "98998bb1-8412-4e72-99c3-6b136dd1a96c",
   "metadata": {},
   "outputs": [],
   "source": []
  },
  {
   "cell_type": "code",
   "execution_count": null,
   "id": "d051f517-bcac-4c18-96c5-0850abef7574",
   "metadata": {},
   "outputs": [],
   "source": []
  },
  {
   "cell_type": "code",
   "execution_count": null,
   "id": "77f07947-8fe0-4ff9-9492-d5b80ab71cde",
   "metadata": {},
   "outputs": [],
   "source": []
  },
  {
   "cell_type": "code",
   "execution_count": null,
   "id": "8fa8dba5-94de-49a4-9f66-90be53d04288",
   "metadata": {},
   "outputs": [],
   "source": [
    "# Define the data\n",
    "data = {\n",
    "    #'model': 'claude-3-opus-20240229', # Choose the model\n",
    "    'model': 'claude-3-sonnet-20240229',\n",
    "    'max_tokens': 1024,\n",
    "    'messages': [\n",
    "        {'role': 'user', 'content': 'Write a blog post about artificial intelligence.'}\n",
    "    ]\n",
    "}"
   ]
  },
  {
   "cell_type": "code",
   "execution_count": null,
   "id": "16c31299-abcb-4dee-9ca6-51e54f3d6304",
   "metadata": {},
   "outputs": [],
   "source": [
    "# Make the POST request\n",
    "response = requests.post('https://api.anthropic.com/v1/messages', headers=headers, data=json.dumps(data))\n",
    "# Extract just the generated text from the json object\n",
    "txt = response.json()['content'][0]['text']"
   ]
  },
  {
   "cell_type": "code",
   "execution_count": null,
   "id": "f6a43b64-72e8-4872-b655-7e64a59d95fd",
   "metadata": {},
   "outputs": [],
   "source": [
    "# Evaulate the text only \n",
    "print(txt)"
   ]
  },
  {
   "cell_type": "code",
   "execution_count": null,
   "id": "395cf782-805a-4bcc-96fa-83a31bf8d5e0",
   "metadata": {},
   "outputs": [],
   "source": [
    "# Look closer at the entire response\n",
    "response.json()"
   ]
  },
  {
   "cell_type": "markdown",
   "id": "593f9c82-19f8-4603-a913-83b436f0dfbc",
   "metadata": {},
   "source": [
    "### Other parameters\n",
    "- Multiple conversational turns\n",
    "- max_tokens\n",
    "- stop_sequences\n",
    "- system\n",
    "- temperature"
   ]
  },
  {
   "cell_type": "code",
   "execution_count": null,
   "id": "b0c7408b-3e24-4959-8260-c8ad7c6e47ab",
   "metadata": {},
   "outputs": [],
   "source": [
    "# Multiple conversational turns\n",
    "# Define the data\n",
    "data = {\n",
    "    #'model': 'claude-3-opus-20240229',\n",
    "    'model': 'claude-3-sonnet-20240229',\n",
    "    'max_tokens': 1024,\n",
    "    'messages': [\n",
    "  {\"role\": \"user\", \"content\": \"I have an AI question, are you ready?\"},\n",
    "  {\"role\": \"assistant\", \"content\": \"Hi, I'm Claude. Yes, please ask me anything about AI.\"},\n",
    "  #{\"role\": \"user\", \"content\": \"Can you explain LLMs in plain English?\"},\n",
    "  {\"role\": \"user\", \"content\": \"Can you explain Artificial Neural Networks plain English?\"},\n",
    "]\n",
    "}\n",
    "# Make the POST request\n",
    "response = requests.post('https://api.anthropic.com/v1/messages', headers=headers, data=json.dumps(data))\n",
    "# Extract just the generated text\n",
    "txt = response.json()['content'][0]['text']"
   ]
  },
  {
   "cell_type": "code",
   "execution_count": null,
   "id": "691492f3-55f1-409a-9c75-2f359e36f4ba",
   "metadata": {},
   "outputs": [],
   "source": [
    "print(txt)"
   ]
  },
  {
   "cell_type": "code",
   "execution_count": null,
   "id": "fde2b0f4-c88b-43d8-9815-bb4b714e5b90",
   "metadata": {},
   "outputs": [],
   "source": [
    "# Max tokens\n",
    "# Define the data\n",
    "data = {\n",
    "    #'model': 'claude-3-opus-20240229',\n",
    "    'model': 'claude-3-sonnet-20240229',\n",
    "    'max_tokens': 100, # short, interrupted response\n",
    "    'messages': [\n",
    "  {\"role\": \"user\", \"content\": \"I have an AI question, are you ready?\"},\n",
    "  {\"role\": \"assistant\", \"content\": \"Hi, I'm Claude. Yes, please ask me anything about AI.\"},\n",
    "  #{\"role\": \"user\", \"content\": \"Can you explain LLMs in plain English?\"},\n",
    "  {\"role\": \"user\", \"content\": \"Can you explain Artificial Neural Networks plain English?\"},\n",
    "]\n",
    "}\n",
    "# Make the POST request\n",
    "response = requests.post('https://api.anthropic.com/v1/messages', headers=headers, data=json.dumps(data))\n",
    "# Extract just the generated text\n",
    "txt = response.json()['content'][0]['text']"
   ]
  },
  {
   "cell_type": "code",
   "execution_count": null,
   "id": "6f5f3bd7-6482-4c75-97c8-ea71165d873b",
   "metadata": {},
   "outputs": [],
   "source": [
    "print(txt)"
   ]
  },
  {
   "cell_type": "code",
   "execution_count": null,
   "id": "4db458f2-1f63-4b3b-a5ca-80fec4be95b3",
   "metadata": {},
   "outputs": [],
   "source": [
    "# stop_sequences\n",
    "# Look a the last resopnse\n",
    "response.json()"
   ]
  },
  {
   "cell_type": "code",
   "execution_count": null,
   "id": "9a1db2a9-2892-404e-b6b8-673649d51b3e",
   "metadata": {},
   "outputs": [],
   "source": [
    "# User a stop sequence\n",
    "# Define the data\n",
    "data = {\n",
    "    #'model': 'claude-3-opus-20240229',\n",
    "    'model': 'claude-3-sonnet-20240229',\n",
    "    'max_tokens': 100, # short, interrupted response\n",
    "    'stop_sequences':['neural'],\n",
    "    'messages': [\n",
    "  {\"role\": \"user\", \"content\": \"I have an AI question, are you ready?\"},\n",
    "  {\"role\": \"assistant\", \"content\": \"Hi, I'm Claude. Yes, please ask me anything about AI.\"},\n",
    "  #{\"role\": \"user\", \"content\": \"Can you explain LLMs in plain English?\"},\n",
    "  {\"role\": \"user\", \"content\": \"Can you explain Artificial Neural Networks plain English?\"},\n",
    "]\n",
    "}\n",
    "# Make the POST request\n",
    "response = requests.post('https://api.anthropic.com/v1/messages', headers=headers, data=json.dumps(data))\n",
    "# Extract just the generated text\n",
    "txt = response.json()['content'][0]['text']"
   ]
  },
  {
   "cell_type": "code",
   "execution_count": null,
   "id": "4c544fa9-037c-4285-b4b9-dd63f18ff5e2",
   "metadata": {},
   "outputs": [],
   "source": [
    "print(txt)"
   ]
  },
  {
   "cell_type": "code",
   "execution_count": null,
   "id": "acfb5b28-6b4a-4b63-a3d3-3bc3f16f0dd2",
   "metadata": {},
   "outputs": [],
   "source": [
    "response.json()"
   ]
  },
  {
   "cell_type": "code",
   "execution_count": null,
   "id": "c8006ace-2467-4037-9aa1-2fb66e968777",
   "metadata": {},
   "outputs": [],
   "source": []
  },
  {
   "cell_type": "code",
   "execution_count": null,
   "id": "1d697be7-940d-40fe-ba72-23660542e31b",
   "metadata": {},
   "outputs": [],
   "source": [
    "# system prompt\n",
    "data = {\n",
    "    #'model': 'claude-3-opus-20240229',\n",
    "    'model': 'claude-3-sonnet-20240229',\n",
    "    'max_tokens': 1024, \n",
    "    'system': \"Respond only as a sports broadcaster.\",\n",
    "    'messages': [\n",
    "  {\"role\": \"user\", \"content\": \"I have an AI question, are you ready?\"},\n",
    "  {\"role\": \"assistant\", \"content\": \"Hi, I'm Claude. Yes, please ask me anything about AI.\"},\n",
    "  #{\"role\": \"user\", \"content\": \"Can you explain LLMs in plain English?\"},\n",
    "  {\"role\": \"user\", \"content\": \"Can you explain Artificial Neural Network?\"},\n",
    "]\n",
    "}\n",
    "# Make the POST request\n",
    "response = requests.post('https://api.anthropic.com/v1/messages', headers=headers, data=json.dumps(data))\n",
    "# Extract just the generated text\n",
    "txt = response.json()['content'][0]['text']"
   ]
  },
  {
   "cell_type": "code",
   "execution_count": null,
   "id": "604142f4-60c5-4e24-9ae1-1b7143b719b6",
   "metadata": {},
   "outputs": [],
   "source": [
    "print(txt)"
   ]
  },
  {
   "cell_type": "code",
   "execution_count": null,
   "id": "409fc32a-6831-4503-bcdd-72b1384ed1fb",
   "metadata": {},
   "outputs": [],
   "source": [
    "# Temperature\n",
    "data = {\n",
    "    #'model': 'claude-3-opus-20240229',\n",
    "    'model': 'claude-3-sonnet-20240229',\n",
    "    'max_tokens': 1024, \n",
    "    #'system': \"Respond only as a sports broadcaster.\",\n",
    "    'temperature':.05,\n",
    "    'messages': [\n",
    "  {\"role\": \"user\", \"content\": \"I have an AI question, are you ready?\"},\n",
    "  {\"role\": \"assistant\", \"content\": \"Hi, I'm Claude. Yes, please ask me anything about AI.\"},\n",
    "  #{\"role\": \"user\", \"content\": \"Can you explain LLMs in plain English?\"},\n",
    "  {\"role\": \"user\", \"content\": \"Can you explain Artificial Neural Network?\"},\n",
    "]\n",
    "}\n",
    "# Make the POST request\n",
    "response = requests.post('https://api.anthropic.com/v1/messages', headers=headers, data=json.dumps(data))\n",
    "# Extract just the generated text\n",
    "txt = response.json()['content'][0]['text']"
   ]
  },
  {
   "cell_type": "code",
   "execution_count": null,
   "id": "8361585a-2772-49b7-864f-7e558c908354",
   "metadata": {},
   "outputs": [],
   "source": [
    "print(txt)"
   ]
  },
  {
   "cell_type": "code",
   "execution_count": null,
   "id": "65bb32de-abc1-45e6-a952-dc0e1e9903f1",
   "metadata": {},
   "outputs": [],
   "source": [
    "response.json()"
   ]
  },
  {
   "cell_type": "code",
   "execution_count": null,
   "id": "59deaf9b-a52b-478a-a449-cadd47bf7d9d",
   "metadata": {},
   "outputs": [],
   "source": []
  }
 ],
 "metadata": {
  "kernelspec": {
   "display_name": "Python 3 (ipykernel)",
   "language": "python",
   "name": "python3"
  },
  "language_info": {
   "codemirror_mode": {
    "name": "ipython",
    "version": 3
   },
   "file_extension": ".py",
   "mimetype": "text/x-python",
   "name": "python",
   "nbconvert_exporter": "python",
   "pygments_lexer": "ipython3",
   "version": "3.10.14"
  }
 },
 "nbformat": 4,
 "nbformat_minor": 5
}
