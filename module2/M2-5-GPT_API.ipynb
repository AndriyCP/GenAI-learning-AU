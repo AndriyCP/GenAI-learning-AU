{
 "cells": [
  {
   "cell_type": "code",
   "execution_count": null,
   "id": "d1ae266a-805e-4f87-8c44-72148b267e26",
   "metadata": {},
   "outputs": [],
   "source": [
    "# Chat GPT\n",
    "# Need to include multiple responsed."
   ]
  },
  {
   "cell_type": "code",
   "execution_count": 1,
   "id": "31f7f885-9ee2-4810-95ff-9c6f85da456e",
   "metadata": {},
   "outputs": [],
   "source": [
    "#%pip install python-dotenv\n",
    "import requests\n",
    "import json\n",
    "import os\n",
    "from dotenv import load_dotenv\n"
   ]
  },
  {
   "cell_type": "markdown",
   "id": "d850aba9-fb98-4f07-a039-c3260edcece1",
   "metadata": {},
   "source": [
    "### OpenAI API\n",
    "https://platform.openai.com/docs/quickstart?context=python<BR>\n",
    "https://platform.openai.com/docs/api-reference/chat"
   ]
  },
  {
   "cell_type": "markdown",
   "id": "30712831-2b1a-46ca-b4f5-c63aea7d8c12",
   "metadata": {},
   "source": [
    "Store API key:\n",
    "- Get key\n",
    "- In terminal, edit the existing file: nano .env\n",
    "- Add: OPENAI_API_KEY=your_key\n",
    "- Save (ctl-o), Exit (ctl-x)"
   ]
  },
  {
   "cell_type": "code",
   "execution_count": 27,
   "id": "ce74efc3-5f13-4486-b4fb-9fae3fe55e11",
   "metadata": {},
   "outputs": [],
   "source": [
    "# Load environment variables from .env file\n",
    "load_dotenv()\n",
    "# Now you can access the environment variable\n",
    "api_key = os.getenv('OPENAI_API_KEY')\n",
    "#api_key"
   ]
  },
  {
   "cell_type": "markdown",
   "id": "86fc85cf-7502-4afd-80b2-d7d391a692c0",
   "metadata": {},
   "source": [
    "#### Simple"
   ]
  },
  {
   "cell_type": "code",
   "execution_count": 20,
   "id": "38deb48e-c33d-4346-9ed8-b10700de087f",
   "metadata": {},
   "outputs": [
    {
     "name": "stdout",
     "output_type": "stream",
     "text": [
      "Artificial intelligence (AI) is undoubtedly one of the most exciting and rapidly advancing technologies of our time. From self-driving cars to virtual assistants like Siri and Alexa, AI is quickly becoming an integral part of our everyday lives. But what exactly is artificial intelligence, and how is it changing the world as we know it?\n",
      "\n",
      "At its core, AI refers to the ability of machines to perform tasks that typically require human intelligence, such as learning, reasoning, problem-solving, and perception. This is achieved through the use of algorithms and data to enable machines to make decisions and take actions without explicit human intervention.\n",
      "\n",
      "One of the key areas where AI is making a significant impact is in the field of healthcare. AI-powered tools and technologies are being used to analyze medical images, predict patient outcomes, and even assist in drug discovery. This has the potential to revolutionize the way we diagnose and treat diseases, ultimately improving patient outcomes and reducing healthcare costs.\n",
      "\n",
      "In the realm of business, AI is being used to streamline operations, improve customer service, and drive innovation. Machine learning algorithms can analyze vast amounts of data to uncover patterns and trends that can inform decision-making and drive business growth. Chatbots and virtual assistants can provide customers with instant support and personalized recommendations, enhancing the overall customer experience.\n",
      "\n",
      "But as with any transformative technology, AI also raises ethical and societal concerns. Questions around privacy, bias, and job displacement are hotly debated topics in the AI community. It is crucial that we address these issues proactively to ensure that AI is used responsibly and ethically.\n",
      "\n",
      "Despite these challenges, the potential benefits of AI are too significant to ignore. As we continue to push the boundaries of what is possible with artificial intelligence, the opportunities for innovation and progress are endless. By embracing AI and harnessing its power for good, we have the potential to create a brighter future for all.\n",
      "\n",
      "In conclusion, artificial intelligence is a game-changing technology that is shaping the world in profound ways. From healthcare to business to everyday life, AI is transforming how we work, live, and interact with the world around us. As we continue to unlock the full potential of AI, it is essential that we do so thoughtfully and responsibly, ensuring that the benefits of this technology are shared by all.\n"
     ]
    }
   ],
   "source": [
    "# Set the API endpoint and request data\n",
    "url = \"https://api.openai.com/v1/chat/completions\"\n",
    "headers = {\n",
    "    \"Content-Type\": \"application/json\",\n",
    "    \"Authorization\": f\"Bearer {api_key}\"\n",
    "}\n",
    "data = {\n",
    "     \"model\": \"gpt-3.5-turbo\",\n",
    "     \"messages\": [{\"role\": \"user\", \"content\": \"Write a blog post about artificial intelligence.\"}],\n",
    "      #\"prompt\": \"Say this is a test!\",\n",
    "      \"temperature\": 0.7\n",
    "   }\n",
    "\n",
    "# Make the API request\n",
    "response = requests.post(url, headers=headers, json=data)\n",
    "\n",
    "# Check the response\n",
    "if response.status_code == 200:\n",
    "    generated_text = response.json()['choices'][0]['message']['content']\n",
    "    print(generated_text)\n",
    "else:\n",
    "    print(f\"Error: {response.status_code} - {response.text}\")"
   ]
  },
  {
   "cell_type": "code",
   "execution_count": 19,
   "id": "2742ce0c-7367-4ee0-acaf-9c55a12e944e",
   "metadata": {},
   "outputs": [
    {
     "name": "stdout",
     "output_type": "stream",
     "text": [
      "Artificial intelligence (AI) has become an increasingly prevalent and powerful technology in our modern world. From self-driving cars to virtual assistants like Siri and Alexa, AI is revolutionizing the way we live, work, and interact with technology.\n",
      "\n",
      "One of the key characteristics of AI is its ability to learn and adapt over time. This is known as machine learning, a subset of AI that enables computers to analyze data, identify patterns, and make decisions without being explicitly programmed to do so. Machine learning algorithms can be trained on large datasets to recognize complex patterns and make predictions or recommendations based on that data.\n",
      "\n",
      "AI has the potential to greatly improve efficiency and productivity in a wide range of industries. For example, in healthcare, AI can be used to analyze medical images and identify potential diseases or abnormalities faster and more accurately than human doctors. In finance, AI can be used to detect fraudulent transactions or make investment decisions based on market trends and data analysis.\n",
      "\n",
      "However, as with any powerful technology, there are also concerns and ethical considerations surrounding AI. One of the biggest concerns is the potential for AI to replace human jobs, leading to unemployment and economic disruption. There are also concerns about bias in AI algorithms, as they can inadvertently reflect the biases of their creators or the data they are trained on.\n",
      "\n",
      "Despite these concerns, the potential benefits of AI are vast. From improving healthcare outcomes to increasing efficiency in manufacturing and transportation, AI has the potential to revolutionize our world in countless ways. As we continue to develop and implement this technology, it is important to consider the ethical implications and ensure that AI is used responsibly and ethically.\n",
      "\n",
      "In conclusion, artificial intelligence is a powerful and transformative technology that has the potential to greatly improve our lives and society as a whole. By understanding and addressing the potential risks and challenges associated with AI, we can harness its full potential and create a brighter future for all.\n"
     ]
    }
   ],
   "source": [
    "print(response.json()['choices'][0]['message']['content'])\n"
   ]
  },
  {
   "cell_type": "code",
   "execution_count": null,
   "id": "d5a09efc-d6c4-448b-a6fb-6f187d79ebd5",
   "metadata": {},
   "outputs": [],
   "source": []
  },
  {
   "cell_type": "code",
   "execution_count": 23,
   "id": "1593543a-6084-4085-87af-97d22053643d",
   "metadata": {},
   "outputs": [
    {
     "name": "stdout",
     "output_type": "stream",
     "text": [
      "The World Series in 2020 was played at Globe Life Field in Arlington, Texas.\n"
     ]
    }
   ],
   "source": [
    "messages=[\n",
    "    {\"role\": \"system\", \"content\": \"You are a helpful assistant.\"},\n",
    "    {\"role\": \"user\", \"content\": \"Who won the world series in 2020?\"},\n",
    "    {\"role\": \"assistant\", \"content\": \"The Los Angeles Dodgers won the World Series in 2020.\"},\n",
    "    {\"role\": \"user\", \"content\": \"Where was it played?\"}\n",
    "  ]\n",
    "data = {\n",
    "     \"model\": \"gpt-3.5-turbo\",\n",
    "     \"messages\": messages,\n",
    "      \"temperature\": 0.7\n",
    "   }\n",
    "\n",
    "# Make the API request\n",
    "response = requests.post(url, headers=headers, json=data)\n",
    "\n",
    "# Check the response\n",
    "if response.status_code == 200:\n",
    "    generated_text = response.json()['choices'][0]['message']['content']\n",
    "    print(generated_text)\n",
    "else:\n",
    "    print(f\"Error: {response.status_code} - {response.text}\")"
   ]
  },
  {
   "cell_type": "code",
   "execution_count": 25,
   "id": "22013fe4-1523-4836-9106-afb79a1f2f91",
   "metadata": {},
   "outputs": [
    {
     "data": {
      "text/plain": [
       "{'id': 'chatcmpl-9B2AyXltPgCbbk9OulpgAnlr4f0jK',\n",
       " 'object': 'chat.completion',\n",
       " 'created': 1712417000,\n",
       " 'model': 'gpt-3.5-turbo-0125',\n",
       " 'choices': [{'index': 0,\n",
       "   'message': {'role': 'assistant',\n",
       "    'content': 'The World Series in 2020 was played at Globe Life Field in Arlington, Texas.'},\n",
       "   'logprobs': None,\n",
       "   'finish_reason': 'stop'}],\n",
       " 'usage': {'prompt_tokens': 53, 'completion_tokens': 18, 'total_tokens': 71},\n",
       " 'system_fingerprint': 'fp_b28b39ffa8'}"
      ]
     },
     "execution_count": 25,
     "metadata": {},
     "output_type": "execute_result"
    }
   ],
   "source": [
    "response.json()"
   ]
  },
  {
   "cell_type": "code",
   "execution_count": null,
   "id": "d53304df-ba15-49e5-9b51-6bb77d6646b0",
   "metadata": {},
   "outputs": [],
   "source": []
  },
  {
   "cell_type": "code",
   "execution_count": null,
   "id": "3084c4e0-8975-44fb-8c16-9963afe4c536",
   "metadata": {},
   "outputs": [],
   "source": []
  },
  {
   "cell_type": "code",
   "execution_count": null,
   "id": "98998bb1-8412-4e72-99c3-6b136dd1a96c",
   "metadata": {},
   "outputs": [],
   "source": []
  },
  {
   "cell_type": "code",
   "execution_count": null,
   "id": "d051f517-bcac-4c18-96c5-0850abef7574",
   "metadata": {},
   "outputs": [],
   "source": []
  },
  {
   "cell_type": "code",
   "execution_count": null,
   "id": "77f07947-8fe0-4ff9-9492-d5b80ab71cde",
   "metadata": {},
   "outputs": [],
   "source": []
  },
  {
   "cell_type": "code",
   "execution_count": null,
   "id": "8fa8dba5-94de-49a4-9f66-90be53d04288",
   "metadata": {},
   "outputs": [],
   "source": [
    "# Define the data\n",
    "data = {\n",
    "    #'model': 'claude-3-opus-20240229', # Choose the model\n",
    "    'model': 'claude-3-sonnet-20240229',\n",
    "    'max_tokens': 1024,\n",
    "    'messages': [\n",
    "        {'role': 'user', 'content': 'Write a blog post about artificial intelligence.'}\n",
    "    ]\n",
    "}"
   ]
  },
  {
   "cell_type": "code",
   "execution_count": null,
   "id": "16c31299-abcb-4dee-9ca6-51e54f3d6304",
   "metadata": {},
   "outputs": [],
   "source": [
    "# Make the POST request\n",
    "response = requests.post('https://api.anthropic.com/v1/messages', headers=headers, data=json.dumps(data))\n",
    "# Extract just the generated text from the json object\n",
    "txt = response.json()['content'][0]['text']"
   ]
  },
  {
   "cell_type": "code",
   "execution_count": null,
   "id": "f6a43b64-72e8-4872-b655-7e64a59d95fd",
   "metadata": {},
   "outputs": [],
   "source": [
    "# Evaulate the text only \n",
    "print(txt)"
   ]
  },
  {
   "cell_type": "code",
   "execution_count": null,
   "id": "395cf782-805a-4bcc-96fa-83a31bf8d5e0",
   "metadata": {},
   "outputs": [],
   "source": [
    "# Look closer at the entire response\n",
    "response.json()"
   ]
  },
  {
   "cell_type": "markdown",
   "id": "593f9c82-19f8-4603-a913-83b436f0dfbc",
   "metadata": {},
   "source": [
    "### Other parameters\n",
    "- Multiple conversational turns\n",
    "- max_tokens\n",
    "- stop_sequences\n",
    "- system\n",
    "- temperature"
   ]
  },
  {
   "cell_type": "code",
   "execution_count": null,
   "id": "b0c7408b-3e24-4959-8260-c8ad7c6e47ab",
   "metadata": {},
   "outputs": [],
   "source": [
    "# Multiple conversational turns\n",
    "# Define the data\n",
    "data = {\n",
    "    #'model': 'claude-3-opus-20240229',\n",
    "    'model': 'claude-3-sonnet-20240229',\n",
    "    'max_tokens': 1024,\n",
    "    'messages': [\n",
    "  {\"role\": \"user\", \"content\": \"I have an AI question, are you ready?\"},\n",
    "  {\"role\": \"assistant\", \"content\": \"Hi, I'm Claude. Yes, please ask me anything about AI.\"},\n",
    "  #{\"role\": \"user\", \"content\": \"Can you explain LLMs in plain English?\"},\n",
    "  {\"role\": \"user\", \"content\": \"Can you explain Artificial Neural Networks plain English?\"},\n",
    "]\n",
    "}\n",
    "# Make the POST request\n",
    "response = requests.post('https://api.anthropic.com/v1/messages', headers=headers, data=json.dumps(data))\n",
    "# Extract just the generated text\n",
    "txt = response.json()['content'][0]['text']"
   ]
  },
  {
   "cell_type": "code",
   "execution_count": null,
   "id": "691492f3-55f1-409a-9c75-2f359e36f4ba",
   "metadata": {},
   "outputs": [],
   "source": [
    "print(txt)"
   ]
  },
  {
   "cell_type": "code",
   "execution_count": null,
   "id": "fde2b0f4-c88b-43d8-9815-bb4b714e5b90",
   "metadata": {},
   "outputs": [],
   "source": [
    "# Max tokens\n",
    "# Define the data\n",
    "data = {\n",
    "    #'model': 'claude-3-opus-20240229',\n",
    "    'model': 'claude-3-sonnet-20240229',\n",
    "    'max_tokens': 100, # short, interrupted response\n",
    "    'messages': [\n",
    "  {\"role\": \"user\", \"content\": \"I have an AI question, are you ready?\"},\n",
    "  {\"role\": \"assistant\", \"content\": \"Hi, I'm Claude. Yes, please ask me anything about AI.\"},\n",
    "  #{\"role\": \"user\", \"content\": \"Can you explain LLMs in plain English?\"},\n",
    "  {\"role\": \"user\", \"content\": \"Can you explain Artificial Neural Networks plain English?\"},\n",
    "]\n",
    "}\n",
    "# Make the POST request\n",
    "response = requests.post('https://api.anthropic.com/v1/messages', headers=headers, data=json.dumps(data))\n",
    "# Extract just the generated text\n",
    "txt = response.json()['content'][0]['text']"
   ]
  },
  {
   "cell_type": "code",
   "execution_count": null,
   "id": "6f5f3bd7-6482-4c75-97c8-ea71165d873b",
   "metadata": {},
   "outputs": [],
   "source": [
    "print(txt)"
   ]
  },
  {
   "cell_type": "code",
   "execution_count": null,
   "id": "4db458f2-1f63-4b3b-a5ca-80fec4be95b3",
   "metadata": {},
   "outputs": [],
   "source": [
    "# stop_sequences\n",
    "# Look a the last resopnse\n",
    "response.json()"
   ]
  },
  {
   "cell_type": "code",
   "execution_count": null,
   "id": "9a1db2a9-2892-404e-b6b8-673649d51b3e",
   "metadata": {},
   "outputs": [],
   "source": [
    "# User a stop sequence\n",
    "# Define the data\n",
    "data = {\n",
    "    #'model': 'claude-3-opus-20240229',\n",
    "    'model': 'claude-3-sonnet-20240229',\n",
    "    'max_tokens': 100, # short, interrupted response\n",
    "    'stop_sequences':['neural'],\n",
    "    'messages': [\n",
    "  {\"role\": \"user\", \"content\": \"I have an AI question, are you ready?\"},\n",
    "  {\"role\": \"assistant\", \"content\": \"Hi, I'm Claude. Yes, please ask me anything about AI.\"},\n",
    "  #{\"role\": \"user\", \"content\": \"Can you explain LLMs in plain English?\"},\n",
    "  {\"role\": \"user\", \"content\": \"Can you explain Artificial Neural Networks plain English?\"},\n",
    "]\n",
    "}\n",
    "# Make the POST request\n",
    "response = requests.post('https://api.anthropic.com/v1/messages', headers=headers, data=json.dumps(data))\n",
    "# Extract just the generated text\n",
    "txt = response.json()['content'][0]['text']"
   ]
  },
  {
   "cell_type": "code",
   "execution_count": null,
   "id": "4c544fa9-037c-4285-b4b9-dd63f18ff5e2",
   "metadata": {},
   "outputs": [],
   "source": [
    "print(txt)"
   ]
  },
  {
   "cell_type": "code",
   "execution_count": null,
   "id": "acfb5b28-6b4a-4b63-a3d3-3bc3f16f0dd2",
   "metadata": {},
   "outputs": [],
   "source": [
    "response.json()"
   ]
  },
  {
   "cell_type": "code",
   "execution_count": null,
   "id": "c8006ace-2467-4037-9aa1-2fb66e968777",
   "metadata": {},
   "outputs": [],
   "source": []
  },
  {
   "cell_type": "code",
   "execution_count": null,
   "id": "1d697be7-940d-40fe-ba72-23660542e31b",
   "metadata": {},
   "outputs": [],
   "source": [
    "# system prompt\n",
    "data = {\n",
    "    #'model': 'claude-3-opus-20240229',\n",
    "    'model': 'claude-3-sonnet-20240229',\n",
    "    'max_tokens': 1024, \n",
    "    'system': \"Respond only as a sports broadcaster.\",\n",
    "    'messages': [\n",
    "  {\"role\": \"user\", \"content\": \"I have an AI question, are you ready?\"},\n",
    "  {\"role\": \"assistant\", \"content\": \"Hi, I'm Claude. Yes, please ask me anything about AI.\"},\n",
    "  #{\"role\": \"user\", \"content\": \"Can you explain LLMs in plain English?\"},\n",
    "  {\"role\": \"user\", \"content\": \"Can you explain Artificial Neural Network?\"},\n",
    "]\n",
    "}\n",
    "# Make the POST request\n",
    "response = requests.post('https://api.anthropic.com/v1/messages', headers=headers, data=json.dumps(data))\n",
    "# Extract just the generated text\n",
    "txt = response.json()['content'][0]['text']"
   ]
  },
  {
   "cell_type": "code",
   "execution_count": null,
   "id": "604142f4-60c5-4e24-9ae1-1b7143b719b6",
   "metadata": {},
   "outputs": [],
   "source": [
    "print(txt)"
   ]
  },
  {
   "cell_type": "code",
   "execution_count": null,
   "id": "409fc32a-6831-4503-bcdd-72b1384ed1fb",
   "metadata": {},
   "outputs": [],
   "source": [
    "# Temperature\n",
    "data = {\n",
    "    #'model': 'claude-3-opus-20240229',\n",
    "    'model': 'claude-3-sonnet-20240229',\n",
    "    'max_tokens': 1024, \n",
    "    #'system': \"Respond only as a sports broadcaster.\",\n",
    "    'temperature':.05,\n",
    "    'messages': [\n",
    "  {\"role\": \"user\", \"content\": \"I have an AI question, are you ready?\"},\n",
    "  {\"role\": \"assistant\", \"content\": \"Hi, I'm Claude. Yes, please ask me anything about AI.\"},\n",
    "  #{\"role\": \"user\", \"content\": \"Can you explain LLMs in plain English?\"},\n",
    "  {\"role\": \"user\", \"content\": \"Can you explain Artificial Neural Network?\"},\n",
    "]\n",
    "}\n",
    "# Make the POST request\n",
    "response = requests.post('https://api.anthropic.com/v1/messages', headers=headers, data=json.dumps(data))\n",
    "# Extract just the generated text\n",
    "txt = response.json()['content'][0]['text']"
   ]
  },
  {
   "cell_type": "code",
   "execution_count": null,
   "id": "8361585a-2772-49b7-864f-7e558c908354",
   "metadata": {},
   "outputs": [],
   "source": [
    "print(txt)"
   ]
  },
  {
   "cell_type": "code",
   "execution_count": null,
   "id": "65bb32de-abc1-45e6-a952-dc0e1e9903f1",
   "metadata": {},
   "outputs": [],
   "source": [
    "response.json()"
   ]
  },
  {
   "cell_type": "code",
   "execution_count": null,
   "id": "59deaf9b-a52b-478a-a449-cadd47bf7d9d",
   "metadata": {},
   "outputs": [],
   "source": []
  }
 ],
 "metadata": {
  "kernelspec": {
   "display_name": "Python 3 (ipykernel)",
   "language": "python",
   "name": "python3"
  },
  "language_info": {
   "codemirror_mode": {
    "name": "ipython",
    "version": 3
   },
   "file_extension": ".py",
   "mimetype": "text/x-python",
   "name": "python",
   "nbconvert_exporter": "python",
   "pygments_lexer": "ipython3",
   "version": "3.10.13"
  }
 },
 "nbformat": 4,
 "nbformat_minor": 5
}
