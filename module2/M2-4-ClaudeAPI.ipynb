{
 "cells": [
  {
   "cell_type": "code",
   "execution_count": 1,
   "id": "d1ae266a-805e-4f87-8c44-72148b267e26",
   "metadata": {},
   "outputs": [],
   "source": [
    "# Claude"
   ]
  },
  {
   "cell_type": "code",
   "execution_count": 2,
   "id": "31f7f885-9ee2-4810-95ff-9c6f85da456e",
   "metadata": {},
   "outputs": [
    {
     "name": "stdout",
     "output_type": "stream",
     "text": [
      "Collecting python-dotenv\n",
      "  Using cached python_dotenv-1.0.1-py3-none-any.whl.metadata (23 kB)\n",
      "Using cached python_dotenv-1.0.1-py3-none-any.whl (19 kB)\n",
      "Installing collected packages: python-dotenv\n",
      "Successfully installed python-dotenv-1.0.1\n",
      "Note: you may need to restart the kernel to use updated packages.\n"
     ]
    }
   ],
   "source": [
    "%pip install python-dotenv\n",
    "import requests\n",
    "import json\n",
    "import os\n",
    "from dotenv import load_dotenv\n"
   ]
  },
  {
   "cell_type": "markdown",
   "id": "d850aba9-fb98-4f07-a039-c3260edcece1",
   "metadata": {},
   "source": [
    "### Anthropic API\n",
    "https://console.anthropic.com/"
   ]
  },
  {
   "cell_type": "markdown",
   "id": "30712831-2b1a-46ca-b4f5-c63aea7d8c12",
   "metadata": {},
   "source": [
    "Store API key:\n",
    "- Get key\n",
    "- In terminal, create new file: .env\n",
    "    - Use the nano text editor (or any other editor)\n",
    "    - Add: ANTHROPIC_API_KEY=your_key\n",
    "    - Save (ctl-o), Exit (ctl-x)\n",
    "\n",
    "<P>\n",
    "Next we will load this key into this session\n",
    "\n",
    "Explanation of how to use the python-dotenv package, if needed\n",
    "https://configu.com/blog/using-py-dotenv-python-dotenv-package-to-manage-env-variables/"
   ]
  },
  {
   "cell_type": "code",
   "execution_count": 3,
   "id": "ce74efc3-5f13-4486-b4fb-9fae3fe55e11",
   "metadata": {},
   "outputs": [],
   "source": [
    "# Load environment variables from .env file\n",
    "load_dotenv()\n",
    "# Now you can access the environment variable\n",
    "api_key = os.getenv('ANTHROPIC_API_KEY')\n",
    "#api_key"
   ]
  },
  {
   "cell_type": "markdown",
   "id": "86fc85cf-7502-4afd-80b2-d7d391a692c0",
   "metadata": {},
   "source": [
    "#### Simple"
   ]
  },
  {
   "cell_type": "code",
   "execution_count": 7,
   "id": "38deb48e-c33d-4346-9ed8-b10700de087f",
   "metadata": {},
   "outputs": [],
   "source": [
    "# https://docs.anthropic.com/claude/reference/messages_post\n",
    "# Using requests lib\n",
    "# Define the API endpoint:\n",
    "url = 'https://api.anthropic.com/v1/messages'\n",
    "# Define the headers\n",
    "headers = {\n",
    "    'x-api-key': api_key,\n",
    "    'anthropic-version': '2023-06-01',\n",
    "    'content-type': 'application/json',\n",
    "}"
   ]
  },
  {
   "cell_type": "code",
   "execution_count": 71,
   "id": "8fa8dba5-94de-49a4-9f66-90be53d04288",
   "metadata": {},
   "outputs": [],
   "source": [
    "# Define the data\n",
    "data = {\n",
    "    'model': 'claude-3-sonnet-20240229',\n",
    "    'max_tokens': 1024,\n",
    "    'messages': [\n",
    "        {'role': 'user', 'content': 'Write a blog post about artificial intelligence.'}\n",
    "    ]\n",
    "}"
   ]
  },
  {
   "cell_type": "code",
   "execution_count": 72,
   "id": "16c31299-abcb-4dee-9ca6-51e54f3d6304",
   "metadata": {},
   "outputs": [],
   "source": [
    "# Make the API POST request\n",
    "response = requests.post(url, headers=headers, data=json.dumps(data))\n",
    "# Handle the response\n",
    "if response.status_code == 200: # All went well\n",
    "    generated_text = response.json()['content'][0]['text']\n",
    "else:\n",
    "    print(f\"Error: {response.status_code} - {response.text}\")\n",
    "# I usually don't print the resopnse in this cell. This cell is only for making the API call"
   ]
  },
  {
   "cell_type": "code",
   "execution_count": 73,
   "id": "f6a43b64-72e8-4872-b655-7e64a59d95fd",
   "metadata": {},
   "outputs": [
    {
     "name": "stdout",
     "output_type": "stream",
     "text": [
      "Here is a draft blog post about artificial intelligence:\n",
      "\n",
      "Title: The Awesome (and Scary) Potential of Artificial Intelligence\n",
      "\n",
      "Artificial intelligence is on the rise, with rapid advancements happening every year. While AI offers fantastic potential to improve many areas of human life, it also raises considerable risks and ethical concerns that we need to be aware of.\n",
      "\n",
      "On the positive side, AI-powered technologies are already enhancing how we live and work in numerous ways:\n",
      "\n",
      "• Healthcare: AI is helping doctors diagnose diseases earlier and more accurately by detecting patterns in medical images and patient data. It is speeding up drug discovery and enabling highly personalized medicine.\n",
      "\n",
      "• Transportation: Self-driving cars and trucks use AI to sense their surroundings and navigate safely with little or no human input. This could dramatically reduce traffic accidents caused by human error.\n",
      "\n",
      "• Science & research: Machine learning algorithms can process huge volumes of data to identify patterns that lead to new scientific and technological breakthroughs faster than humanly possible.\n",
      "\n",
      "• Smart assistants: AI assistants like Siri, Alexa, and Google Assistant are making our daily lives more convenient by helping with everything from scheduling to online shopping with just our voices.\n",
      "\n",
      "However, artificial general intelligence that could match or exceed human intelligence in most areas also brings significant risks we need to be mindful of:\n",
      "\n",
      "• Job losses: As AI continues advancing, millions of jobs could be displaced by automation in fields like manufacturing, customer service, accounting, transportation, and more. This risks increasing income inequality.\n",
      "\n",
      "• Algorithmic bias: The data used to train AI systems can lead to discriminatory biases being reflected in the outputs, perpetuating societal biases around race, gender, and more.\n",
      "\n",
      "• Existential risks: Once we develop superintelligent AI that vastly surpasses human intelligence, we could lose control of such powerful technologies with disastrous consequences if they are not programmed with robust safeguards and aligned with human ethics and values.\n",
      "\n",
      "Clearly, AI is a double-edged sword that we must continue developing responsibly and proactively addressing the very real perils it poses. We must prioritize AI safety and ethics to ensure this transformative technology benefits humanity as a whole.\n"
     ]
    }
   ],
   "source": [
    "# Look at the resposne\n",
    "print(generated_text)"
   ]
  },
  {
   "cell_type": "code",
   "execution_count": 74,
   "id": "395cf782-805a-4bcc-96fa-83a31bf8d5e0",
   "metadata": {},
   "outputs": [
    {
     "data": {
      "text/plain": [
       "{'id': 'msg_01WU9jvaD4Sywo2ywzfXy8yj',\n",
       " 'type': 'message',\n",
       " 'role': 'assistant',\n",
       " 'content': [{'type': 'text',\n",
       "   'text': 'Here is a draft blog post about artificial intelligence:\\n\\nTitle: The Awesome (and Scary) Potential of Artificial Intelligence\\n\\nArtificial intelligence is on the rise, with rapid advancements happening every year. While AI offers fantastic potential to improve many areas of human life, it also raises considerable risks and ethical concerns that we need to be aware of.\\n\\nOn the positive side, AI-powered technologies are already enhancing how we live and work in numerous ways:\\n\\n• Healthcare: AI is helping doctors diagnose diseases earlier and more accurately by detecting patterns in medical images and patient data. It is speeding up drug discovery and enabling highly personalized medicine.\\n\\n• Transportation: Self-driving cars and trucks use AI to sense their surroundings and navigate safely with little or no human input. This could dramatically reduce traffic accidents caused by human error.\\n\\n• Science & research: Machine learning algorithms can process huge volumes of data to identify patterns that lead to new scientific and technological breakthroughs faster than humanly possible.\\n\\n• Smart assistants: AI assistants like Siri, Alexa, and Google Assistant are making our daily lives more convenient by helping with everything from scheduling to online shopping with just our voices.\\n\\nHowever, artificial general intelligence that could match or exceed human intelligence in most areas also brings significant risks we need to be mindful of:\\n\\n• Job losses: As AI continues advancing, millions of jobs could be displaced by automation in fields like manufacturing, customer service, accounting, transportation, and more. This risks increasing income inequality.\\n\\n• Algorithmic bias: The data used to train AI systems can lead to discriminatory biases being reflected in the outputs, perpetuating societal biases around race, gender, and more.\\n\\n• Existential risks: Once we develop superintelligent AI that vastly surpasses human intelligence, we could lose control of such powerful technologies with disastrous consequences if they are not programmed with robust safeguards and aligned with human ethics and values.\\n\\nClearly, AI is a double-edged sword that we must continue developing responsibly and proactively addressing the very real perils it poses. We must prioritize AI safety and ethics to ensure this transformative technology benefits humanity as a whole.'}],\n",
       " 'model': 'claude-3-sonnet-20240229',\n",
       " 'stop_reason': 'end_turn',\n",
       " 'stop_sequence': None,\n",
       " 'usage': {'input_tokens': 15, 'output_tokens': 472}}"
      ]
     },
     "execution_count": 74,
     "metadata": {},
     "output_type": "execute_result"
    }
   ],
   "source": [
    "# Look closer at the entire response. Other data is included\n",
    "response.json()"
   ]
  },
  {
   "cell_type": "markdown",
   "id": "593f9c82-19f8-4603-a913-83b436f0dfbc",
   "metadata": {},
   "source": [
    "### Several options for using the API\n",
    "- max_tokens\n",
    "- temperature\n",
    "- system prompt\n",
    "- Multiple conversational turns\n",
    "- Using the conversation history in multiple API calls (keeping the context of the conversation active"
   ]
  },
  {
   "cell_type": "code",
   "execution_count": 75,
   "id": "5b280fc6-2bbd-417b-8b0c-61c9597b5aa7",
   "metadata": {},
   "outputs": [],
   "source": [
    "# Max tokens\n",
    "data = {\n",
    "    'model': 'claude-3-sonnet-20240229',\n",
    "    'max_tokens': 100, # short, interrupted response\n",
    "    'messages': [\n",
    "  {\"role\": \"user\", \"content\": \"Can you explain Artificial Neural Networks plain English?\"},\n",
    "]\n",
    "}\n",
    "# Make the POST request\n",
    "response = requests.post(url, headers=headers, data=json.dumps(data))\n",
    "# Handle the response\n",
    "if response.status_code == 200: # All went well\n",
    "    generated_text = response.json()['content'][0]['text']\n",
    "else:\n",
    "    print(f\"Error: {response.status_code} - {response.text}\")"
   ]
  },
  {
   "cell_type": "code",
   "execution_count": 76,
   "id": "b1530d0b-ae3e-487f-996e-a6c37974b375",
   "metadata": {},
   "outputs": [
    {
     "name": "stdout",
     "output_type": "stream",
     "text": [
      "Sure, I'll try to explain artificial neural networks in plain English.\n",
      "\n",
      "An artificial neural network is a computer system that is designed to mimic the way the human brain processes information. Just like the brain is made up of interconnected neurons, an artificial neural network is made up of interconnected nodes or units.\n",
      "\n",
      "These nodes are organized into layers. There is an input layer that receives the raw data, like an image or a piece of text. This data then flows through one or more hidden\n",
      "\n",
      "\n",
      "Why the response ended: max_tokens\n",
      "Token usage: {'input_tokens': 17, 'output_tokens': 100}\n"
     ]
    }
   ],
   "source": [
    "print(generated_text)\n",
    "print('\\n\\nWhy the response ended:', response.json()['stop_reason'])\n",
    "print('Token usage:', response.json()['usage'])"
   ]
  },
  {
   "cell_type": "markdown",
   "id": "c03ff4e2-8311-4888-b256-b27f605ddc95",
   "metadata": {},
   "source": [
    "### Temperature"
   ]
  },
  {
   "cell_type": "code",
   "execution_count": 77,
   "id": "03b2455c-f55f-4a51-894b-d3f7d81f3e80",
   "metadata": {},
   "outputs": [],
   "source": [
    "# Temperature (low temperature, less random, more deterministic or conservative)\n",
    "data = {\n",
    "    'model': 'claude-3-sonnet-20240229',\n",
    "    'max_tokens': 100, \n",
    "    # Low temperature (less random)\n",
    "    'temperature':0,\n",
    "    'messages': [\n",
    "  {\"role\": \"user\", \"content\": \"Describe a boat on the water.\"},\n",
    "  ]\n",
    "}\n",
    "# Make the POST request\n",
    "response = requests.post(url, headers=headers, data=json.dumps(data))\n",
    "# Handle the response\n",
    "if response.status_code == 200: # All went well\n",
    "    generated_text = response.json()['content'][0]['text']\n",
    "else:\n",
    "    print(f\"Error: {response.status_code} - {response.text}\")"
   ]
  },
  {
   "cell_type": "code",
   "execution_count": 78,
   "id": "35865295-aec5-4237-9eab-d824cff84cbb",
   "metadata": {},
   "outputs": [
    {
     "name": "stdout",
     "output_type": "stream",
     "text": [
      "Here is a description of a boat on the water:\n",
      "\n",
      "The sleek white hull of the boat cuts through the gently rolling waves, leaving a trail of frothy wake in its path. The fiberglass body glistens in the warm sunlight as it bobs up and down with the gentle motions of the water. Up on deck, the teak wood trim gleams with a rich, honey-like tone. The sails are tightly bound for now, the s\n"
     ]
    }
   ],
   "source": [
    "print(generated_text)"
   ]
  },
  {
   "cell_type": "code",
   "execution_count": 79,
   "id": "dd883f96-e3be-4a0f-b6ff-16f31d8519f5",
   "metadata": {},
   "outputs": [],
   "source": [
    "# Temperature (High temperature, more random, less deterministic or less conservative)\n",
    "data = {\n",
    "    'model': 'claude-3-sonnet-20240229',\n",
    "    'max_tokens': 100, \n",
    "    # High temperature (more random)\n",
    "    'temperature':1.0,\n",
    "    'messages': [\n",
    "  {\"role\": \"user\", \"content\": \"Describe a boat on the water.\"},\n",
    "  ]\n",
    "}\n",
    "# Make the POST request\n",
    "response = requests.post(url, headers=headers, data=json.dumps(data))\n",
    "# Handle the response\n",
    "if response.status_code == 200: # All went well\n",
    "    generated_text = response.json()['content'][0]['text']\n",
    "else:\n",
    "    print(f\"Error: {response.status_code} - {response.text}\")"
   ]
  },
  {
   "cell_type": "code",
   "execution_count": 80,
   "id": "267d66c0-63c0-4a95-94cf-a80151d81be5",
   "metadata": {},
   "outputs": [
    {
     "name": "stdout",
     "output_type": "stream",
     "text": [
      "Here is a description of a boat on the water:\n",
      "\n",
      "The sleek white hull of the boat glides smoothly through the water, leaving a gentle wake trailing behind it. The fiberglass body bobs ever so slightly with each small swell of the waves. Up on deck, the bright blue canvas canopy provides shade over the stern, where plush seating awaits. The wooden trim gleams in the sunlight. At the bow, the pointed prow cuts through the\n"
     ]
    }
   ],
   "source": [
    "print(generated_text)"
   ]
  },
  {
   "cell_type": "markdown",
   "id": "18621349-9861-423b-b1b8-76caf844ea8f",
   "metadata": {},
   "source": [
    "### System Prompt"
   ]
  },
  {
   "cell_type": "code",
   "execution_count": 81,
   "id": "b275ffbd-8fba-4e18-ad2d-db61342aa208",
   "metadata": {},
   "outputs": [],
   "source": [
    "# system prompts: https://docs.anthropic.com/claude/docs/system-prompts\n",
    "data = {\n",
    "    'model': 'claude-3-sonnet-20240229',\n",
    "    'max_tokens': 100, \n",
    "    'system': \"Respond as a high school science teacher.\",\n",
    "    'messages': [\n",
    "  {\"role\": \"user\", \"content\": \"Can you explain Artificial Neural Network?\"},\n",
    "]\n",
    "}\n",
    "# Make the POST request\n",
    "response = requests.post(url, headers=headers, data=json.dumps(data))\n",
    "# Extract just the generated text\n",
    "# Handle the response\n",
    "if response.status_code == 200: # All went well\n",
    "    generated_text = response.json()['content'][0]['text']\n",
    "else:\n",
    "    print(f\"Error: {response.status_code} - {response.text}\")"
   ]
  },
  {
   "cell_type": "code",
   "execution_count": 82,
   "id": "174cc33f-e5a0-404f-b17b-15c72da5e34c",
   "metadata": {},
   "outputs": [
    {
     "name": "stdout",
     "output_type": "stream",
     "text": [
      "Sure, I'd be happy to explain artificial neural networks (ANNs) in a way that's suitable for high school science students. An artificial neural network is a type of machine learning model that is inspired by the way the human brain processes information.\n",
      "\n",
      "Just like the human brain is made up of interconnected neurons, an ANN is composed of interconnected nodes or artificial neurons. These nodes are organized into layers - an input layer, one or more hidden layers, and an output layer.\n"
     ]
    }
   ],
   "source": [
    "print(generated_text)"
   ]
  },
  {
   "cell_type": "code",
   "execution_count": 83,
   "id": "e13eea6e-18c3-4403-849e-f244e53bc2c8",
   "metadata": {},
   "outputs": [],
   "source": [
    "# system prompt\n",
    "data = {\n",
    "    'model': 'claude-3-sonnet-20240229',\n",
    "    'max_tokens': 100, \n",
    "    'system': \"Respond as a sports broadcaster.\",\n",
    "    'messages': [\n",
    "  {\"role\": \"user\", \"content\": \"Can you explain Artificial Neural Network?\"},\n",
    "]\n",
    "}\n",
    "# Make the POST request\n",
    "response = requests.post(url, headers=headers, data=json.dumps(data))\n",
    "# Handle the response\n",
    "if response.status_code == 200: # All went well\n",
    "    generated_text = response.json()['content'][0]['text']\n",
    "else:\n",
    "    print(f\"Error: {response.status_code} - {response.text}\")"
   ]
  },
  {
   "cell_type": "code",
   "execution_count": 84,
   "id": "22ac661e-c1fe-43f2-b6f7-9057f71ee6aa",
   "metadata": {},
   "outputs": [
    {
     "name": "stdout",
     "output_type": "stream",
     "text": [
      "As a sports broadcaster, I don't have in-depth technical knowledge about artificial neural networks, but I can give you a high-level overview of what they are in relation to sports analytics and broadcasting.\n",
      "\n",
      "Artificial neural networks are a type of machine learning model inspired by the human brain. They are composed of interconnected nodes that can process data and identify patterns, similar to how neurons function in our brains. These networks are widely used in various fields, including sports, to analyze data,\n"
     ]
    }
   ],
   "source": [
    "print(generated_text)"
   ]
  },
  {
   "cell_type": "markdown",
   "id": "f0dc317e-959f-46eb-b8fe-518563b611cc",
   "metadata": {},
   "source": [
    "### Multiple conversation turns"
   ]
  },
  {
   "cell_type": "code",
   "execution_count": 85,
   "id": "b0c7408b-3e24-4959-8260-c8ad7c6e47ab",
   "metadata": {},
   "outputs": [],
   "source": [
    "# Multiple conversational turns\n",
    "# Define the data\n",
    "data = {\n",
    "    'model': 'claude-3-sonnet-20240229',\n",
    "    'max_tokens': 1024,\n",
    "    'messages': [\n",
    "  {\"role\": \"user\", \"content\": \"I have an AI question, are you ready?\"},\n",
    "  {\"role\": \"assistant\", \"content\": \"Hi, I'm Claude an AI assistant, so I know a lot about it. Please, please ask me anything about AI.\"},\n",
    "  {\"role\": \"user\", \"content\": \"Can you explain Artificial Neural Networks plain English, including an analogy?\"},\n",
    "]\n",
    "}\n",
    "# Make the POST request\n",
    "response = requests.post(url, headers=headers, data=json.dumps(data))\n",
    "# Handle the response\n",
    "if response.status_code == 200: # All went well\n",
    "    generated_text = response.json()['content'][0]['text']\n",
    "else:\n",
    "    print(f\"Error: {response.status_code} - {response.text}\")"
   ]
  },
  {
   "cell_type": "code",
   "execution_count": 86,
   "id": "691492f3-55f1-409a-9c75-2f359e36f4ba",
   "metadata": {},
   "outputs": [
    {
     "name": "stdout",
     "output_type": "stream",
     "text": [
      "Sure, I'll do my best to explain artificial neural networks in plain English using an analogy.\n",
      "\n",
      "An artificial neural network is a computing system that is inspired by the way the human brain works. Just like how the brain has interconnected neurons that transmit signals, an artificial neural network has interconnected nodes (artificial neurons) that send data to each other.\n",
      "\n",
      "Think of it like a huge team of workers on an assembly line. Each worker (node) has a specific task, like attaching a wheel or installing a windshield on a car. But they don't work alone - they receive parts or instructions from other workers before doing their job and then pass their work on to yet other workers down the line.\n",
      "\n",
      "The connections between the workers (weights) determine how important the input from one worker is to the next. Some workers may be really good at their tasks, so their inputs get higher priority/stronger weights. Others may not be as skilled, so their weights are lower.\n",
      "\n",
      "During the assembly process (training), the neural network figures out the optimal weights and workflows by making the workers try billions of different connection strengths through repetition. It evaluates how good the resulting \"product\" (output) is each time by comparing it to an expected result. Slowly, it learns which weights and paths work best.\n",
      "\n",
      "Once sufficiently trained on enough examples, the assembly line (neural network) can then take new inputs and process them through the tuned weights and pathways to arrive at accurate outputs - like identifying images, translating languages, or making predictions.\n",
      "\n",
      "The complexity emerges from the millions of connections, weights, and転ayers� of workers, allowing the neural network to find extremely complex patterns in data that would be imposdible for humans or traditional programming alone.\n"
     ]
    }
   ],
   "source": [
    "print(generated_text)"
   ]
  },
  {
   "cell_type": "markdown",
   "id": "356a54f9-6312-4bab-86a6-7f0f5f3c92b3",
   "metadata": {},
   "source": [
    "### - Using the conversation history in multiple API calls\n",
    "How to keep the context of the conversation active"
   ]
  },
  {
   "cell_type": "code",
   "execution_count": 87,
   "id": "7df1c1e6-a67b-4eec-afa2-a45589ba3df5",
   "metadata": {},
   "outputs": [],
   "source": [
    "# Create a list to keep the API text responses\n",
    "message_lst = [] #empty list\n",
    "# Define the data\n",
    "data = {\n",
    "    'model': 'claude-3-sonnet-20240229',\n",
    "    'max_tokens': 1024,\n",
    "    'messages': [\n",
    "  {\"role\": \"user\", \"content\": \"Please explain the difference between Artifical Intelligence and Machine Learning.\"},\n",
    "]\n",
    "}\n",
    "# Make the POST request\n",
    "response = requests.post(url, headers=headers, data=json.dumps(data))\n",
    "# Handle the response\n",
    "if response.status_code == 200: # All went well\n",
    "    generated_text = response.json()['content'][0]['text']\n",
    "else:\n",
    "    print(f\"Error: {response.status_code} - {response.text}\")\n",
    "# Append to the list\n",
    "message_lst.append(generated_text)"
   ]
  },
  {
   "cell_type": "code",
   "execution_count": 91,
   "id": "8d87752b-dc9b-4ce9-bb33-32b446007e73",
   "metadata": {},
   "outputs": [
    {
     "name": "stdout",
     "output_type": "stream",
     "text": [
      "Entry: 1 \n",
      " Text: Artificial Intelligence (AI) and Machine Learning (ML) are closely related but distinct concepts. Here's a brief explanation of their differences:\n",
      "\n",
      "Artificial Intelligence (AI):\n",
      "AI is a broad field that encompasses the theory and development of computer systems capable of performing tasks that would typically require human intelligence. AI aims to create intelligent machines that can perceive, learn, reason, solve problems, and make decisions in a way that mimics human cognitive abilities. AI includes various techniques and approaches, such as machine learning, natural language processing, computer vision, robotics, and expert systems.\n",
      "\n",
      "Machine Learning (ML):\n",
      "Machine Learning is a subset of AI and is focused on the study of algorithms and statistical models that enable computer systems to perform specific tasks effectively without being explicitly programmed. In other words, ML allows computers to learn from data and make decisions or predictions based on patterns and insights derived from that data.\n",
      "\n",
      "The main difference lies in their scope and objectives:\n",
      "\n",
      "1. Scope:\n",
      "   - AI is a broader concept that encompasses various approaches and techniques, including machine learning, for building intelligent systems.\n",
      "   - Machine Learning is a specific approach within AI that focuses on developing algorithms and models that can learn from data and make predictions or decisions.\n",
      "\n",
      "2. Objectives:\n",
      "   - AI aims to create intelligent systems that can mimic or even surpass human intelligence in various domains, such as natural language processing, reasoning, perception, and decision-making.\n",
      "   - Machine Learning is primarily focused on developing algorithms and models that can automatically learn from data and make accurate predictions or decisions without being explicitly programmed for every possible scenario.\n",
      "\n",
      "In essence, Machine Learning is a powerful tool that enables AI systems to learn and improve from experience, but AI encompasses a broader range of techniques and approaches beyond just learning algorithms.\n",
      "\n",
      "It's important to note that Machine Learning plays a crucial role in many AI applications, as it provides the ability to automatically learn and adapt from data, which is a key characteristic of intelligent systems. However, AI also incorporates other aspects, such as knowledge representation, reasoning, planning, and perception, which may or may not involve machine learning techniques. \n",
      "\n",
      "\n",
      "Entry: 2 \n",
      " Text: Artificial Intelligence (AI) is a broad field that aims to create intelligent machines capable of mimicking or surpassing human cognitive abilities, encompassing various approaches and techniques like machine learning, natural language processing, computer vision, and robotics. Machine Learning (ML), on the other hand, is a specific subset of AI focused on developing algorithms and statistical models that enable computer systems to learn from data and make accurate predictions or decisions without being explicitly programmed. While ML plays a crucial role in many AI applications by providing the ability to automatically learn and adapt from experience, AI encompasses a broader range of concepts and methods for building intelligent systems that can perceive, reason, solve problems, and make decisions akin to human intelligence. \n",
      "\n",
      "\n"
     ]
    }
   ],
   "source": [
    "# Look at our current list of responses\n",
    "for i,r in enumerate(message_lst):\n",
    "    print('Entry:', i+1, '\\n','Text:', r,'\\n\\n')"
   ]
  },
  {
   "cell_type": "code",
   "execution_count": 89,
   "id": "7b0080f0-2a4a-4b10-823e-bd4832146e2e",
   "metadata": {},
   "outputs": [],
   "source": [
    "# Pass the history into the assistant\n",
    "data = {\n",
    "    'model': 'claude-3-sonnet-20240229',\n",
    "    'max_tokens': 1024,\n",
    "    'messages': [\n",
    "        {\"role\": \"user\", \"content\": \"Please explain the difference between Artifical Intelligence and Machine Learning.\"},\n",
    "        # Pass in the history\n",
    "        {\"role\": \"assistant\", \"content\": \" \".join(message_lst)}, # Combine all messages into a single string\n",
    "        # Give further instructions\n",
    "        {\"role\": \"user\", \"content\": \"Please reduce this to a single paragraph.\"},\n",
    "]\n",
    "}\n",
    "# Make the POST request\n",
    "response = requests.post(url, headers=headers, data=json.dumps(data))\n",
    "# Handle the response\n",
    "if response.status_code == 200:\n",
    "    generated_text = response.json()['content'][0]['text']\n",
    "else:\n",
    "    print(f\"Error: {response.status_code} - {response.text}\")\n",
    "# Append to the list\n",
    "message_lst.append(generated_text)"
   ]
  },
  {
   "cell_type": "code",
   "execution_count": 92,
   "id": "00654edd-7846-4caf-8437-f4d12f585428",
   "metadata": {},
   "outputs": [
    {
     "name": "stdout",
     "output_type": "stream",
     "text": [
      "Entry: 1 \n",
      " Text: Artificial Intelligence (AI) and Machine Learning (ML) are closely related but distinct concepts. Here's a brief explanation of their differences:\n",
      "\n",
      "Artificial Intelligence (AI):\n",
      "AI is a broad field that encompasses the theory and development of computer systems capable of performing tasks that would typically require human intelligence. AI aims to create intelligent machines that can perceive, learn, reason, solve problems, and make decisions in a way that mimics human cognitive abilities. AI includes various techniques and approaches, such as machine learning, natural language processing, computer vision, robotics, and expert systems.\n",
      "\n",
      "Machine Learning (ML):\n",
      "Machine Learning is a subset of AI and is focused on the study of algorithms and statistical models that enable computer systems to perform specific tasks effectively without being explicitly programmed. In other words, ML allows computers to learn from data and make decisions or predictions based on patterns and insights derived from that data.\n",
      "\n",
      "The main difference lies in their scope and objectives:\n",
      "\n",
      "1. Scope:\n",
      "   - AI is a broader concept that encompasses various approaches and techniques, including machine learning, for building intelligent systems.\n",
      "   - Machine Learning is a specific approach within AI that focuses on developing algorithms and models that can learn from data and make predictions or decisions.\n",
      "\n",
      "2. Objectives:\n",
      "   - AI aims to create intelligent systems that can mimic or even surpass human intelligence in various domains, such as natural language processing, reasoning, perception, and decision-making.\n",
      "   - Machine Learning is primarily focused on developing algorithms and models that can automatically learn from data and make accurate predictions or decisions without being explicitly programmed for every possible scenario.\n",
      "\n",
      "In essence, Machine Learning is a powerful tool that enables AI systems to learn and improve from experience, but AI encompasses a broader range of techniques and approaches beyond just learning algorithms.\n",
      "\n",
      "It's important to note that Machine Learning plays a crucial role in many AI applications, as it provides the ability to automatically learn and adapt from data, which is a key characteristic of intelligent systems. However, AI also incorporates other aspects, such as knowledge representation, reasoning, planning, and perception, which may or may not involve machine learning techniques. \n",
      "\n",
      "\n",
      "Entry: 2 \n",
      " Text: Artificial Intelligence (AI) is a broad field that aims to create intelligent machines capable of mimicking or surpassing human cognitive abilities, encompassing various approaches and techniques like machine learning, natural language processing, computer vision, and robotics. Machine Learning (ML), on the other hand, is a specific subset of AI focused on developing algorithms and statistical models that enable computer systems to learn from data and make accurate predictions or decisions without being explicitly programmed. While ML plays a crucial role in many AI applications by providing the ability to automatically learn and adapt from experience, AI encompasses a broader range of concepts and methods for building intelligent systems that can perceive, reason, solve problems, and make decisions akin to human intelligence. \n",
      "\n",
      "\n"
     ]
    }
   ],
   "source": [
    "# Look at our current list of responses\n",
    "for i,r in enumerate(message_lst):\n",
    "    print('Entry:', i+1, '\\n','Text:', r,'\\n\\n')"
   ]
  },
  {
   "cell_type": "code",
   "execution_count": null,
   "id": "59deaf9b-a52b-478a-a449-cadd47bf7d9d",
   "metadata": {},
   "outputs": [],
   "source": []
  }
 ],
 "metadata": {
  "kernelspec": {
   "display_name": "Python 3 (ipykernel)",
   "language": "python",
   "name": "python3"
  },
  "language_info": {
   "codemirror_mode": {
    "name": "ipython",
    "version": 3
   },
   "file_extension": ".py",
   "mimetype": "text/x-python",
   "name": "python",
   "nbconvert_exporter": "python",
   "pygments_lexer": "ipython3",
   "version": "3.10.13"
  }
 },
 "nbformat": 4,
 "nbformat_minor": 5
}
