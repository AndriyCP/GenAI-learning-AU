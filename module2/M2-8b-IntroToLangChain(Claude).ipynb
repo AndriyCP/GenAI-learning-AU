{
 "cells": [
  {
   "cell_type": "code",
   "execution_count": null,
   "id": "145301f1-c3bd-4761-86fe-15c91efe0825",
   "metadata": {},
   "outputs": [],
   "source": [
    "#TBD\n",
    "#https://python.langchain.com/docs/get_started/quickstart/"
   ]
  },
  {
   "cell_type": "code",
   "execution_count": 2,
   "id": "401cb866-969f-4d42-a19d-08927ce81f7d",
   "metadata": {},
   "outputs": [],
   "source": [
    "# #%pip install python-dotenv\n",
    "# # Upgrade langchain\n",
    "# %pip install --upgrade langchain\n",
    "# # Install anthropic support\n",
    "# %pip install langchain-anthropic\n",
    "# # Uninstall pydantic\n",
    "# %pip uninstall pydantic -y\n",
    "# # Re install pydantic specific version of pydantic (original version ==1.10.14)\n",
    "# %pip install pydantic==1.10.14\n",
    "# # %pip show langchain-anthropic\n",
    "# # %pip show anthropic\n",
    "# # %pip show defusedxml\n",
    "# # %pip show langchain-core"
   ]
  },
  {
   "cell_type": "code",
   "execution_count": 1,
   "id": "3b4210ac-3577-443e-8bb0-28183a803d06",
   "metadata": {},
   "outputs": [],
   "source": [
    "#%pip install python-dotenv\n",
    "from dotenv import load_dotenv\n",
    "import os\n",
    "import langchain"
   ]
  },
  {
   "cell_type": "code",
   "execution_count": 2,
   "id": "37c5dce8-037b-4eeb-9736-5b8e40ad41ba",
   "metadata": {},
   "outputs": [],
   "source": [
    "# Load environment variables from .env file\n",
    "load_dotenv()\n",
    "# Now you can access the environment variables\n",
    "anthropic_api_key = os.getenv('ANTHROPIC_API_KEY')\n",
    "openai_api_key = os.getenv('OPENAI_API_KEY')\n",
    "langchain_api_key = os.getenv('LANGCHAIN_API_KEY')"
   ]
  },
  {
   "cell_type": "code",
   "execution_count": null,
   "id": "c37aa939-79c1-4fef-bd7f-e7f73a7cd6ac",
   "metadata": {},
   "outputs": [],
   "source": [
    "# https://python.langchain.com/docs/guides/development/pydantic_compatibility/\n",
    "# Uninstall pydantic\n",
    "# %pip uninstall pydantic -y\n",
    "# # Install specific version of pydantic (original version ==1.10.14)\n",
    "# %pip install pydantic==1.10.14\n",
    "# # Install langchain-anthropic\n",
    "#%pip install langchain-anthropic\n"
   ]
  },
  {
   "cell_type": "code",
   "execution_count": 6,
   "id": "aab27e57-6620-4abd-b3d7-68edc414b196",
   "metadata": {},
   "outputs": [],
   "source": [
    "# I don't think I need this anymore\n",
    "#%pip uninstall langchain-anthropic -y\n",
    "#%pip install langchain-anthropic # current version 0.1.8\n",
    "#from langchain_anthropic import ChatAnthropic\n",
    "#%pip show pydantic # Installed version ==1.10.14, current version ==2.7.0\n",
    "#%pip show langchain-anthropic\n",
    "#%pip install --upgrade pydantic\n",
    "#%pip show langchain"
   ]
  },
  {
   "cell_type": "code",
   "execution_count": 3,
   "id": "3175b433-1219-430a-8648-f0eb719fed98",
   "metadata": {},
   "outputs": [],
   "source": [
    "# Now import\n",
    "from langchain_anthropic import ChatAnthropic\n",
    "from langchain_core.prompts import ChatPromptTemplate\n",
    "from langchain_core.output_parsers import StrOutputParser"
   ]
  },
  {
   "cell_type": "code",
   "execution_count": 4,
   "id": "0b441f0e-554e-4a2c-b896-daff1ef7ed08",
   "metadata": {},
   "outputs": [],
   "source": [
    "llm = ChatAnthropic(model=\"claude-3-sonnet-20240229\",\n",
    "                    api_key=anthropic_api_key,\n",
    "                    temperature=0.2,\n",
    "                    max_tokens=1024)"
   ]
  },
  {
   "cell_type": "code",
   "execution_count": 5,
   "id": "fa273440-134c-4cb9-b7f9-e5e75450964d",
   "metadata": {},
   "outputs": [
    {
     "name": "stdout",
     "output_type": "stream",
     "text": [
      "<class 'langchain_core.messages.ai.AIMessage'>\n"
     ]
    }
   ],
   "source": [
    "response = llm.invoke(\"how can langsmith help with testing?\")\n",
    "print(type(response))"
   ]
  },
  {
   "cell_type": "code",
   "execution_count": 6,
   "id": "1d40477c-8003-492f-a4b8-501977219dec",
   "metadata": {},
   "outputs": [
    {
     "name": "stdout",
     "output_type": "stream",
     "text": [
      "<class 'langchain_core.messages.ai.AIMessage'>\n"
     ]
    },
    {
     "data": {
      "text/plain": [
       "AIMessage(content=\"Langsmith can help with testing in several ways:\\n\\n1. **Test Case Generation**: Langsmith can be used to automatically generate test cases based on the requirements or specifications of the software being tested. It can analyze the code and generate test cases that cover different scenarios, edge cases, and boundary conditions.\\n\\n2. **Test Data Generation**: Langsmith can be used to generate realistic and diverse test data for testing purposes. This can include generating data for databases, files, or other input sources required by the software under test.\\n\\n3. **Test Automation**: Langsmith can be used to write and maintain automated test scripts. Its natural language understanding capabilities can help translate test requirements or scenarios into executable test scripts, reducing the effort required for manual test script creation.\\n\\n4. **Test Reporting**: Langsmith can assist in generating human-readable test reports by analyzing and summarizing the test results. It can highlight important findings, failures, and areas that require attention, making it easier for testers and stakeholders to understand the testing outcomes.\\n\\n5. **Test Documentation**: Langsmith can help in creating and maintaining test documentation, such as test plans, test cases, and test strategies. It can generate documentation based on the existing code, requirements, and test artifacts, ensuring that the documentation remains up-to-date and consistent.\\n\\n6. **Test Review and Analysis**: Langsmith can be used to review and analyze existing test cases, test data, and test scripts. It can identify potential issues, suggest improvements, and provide recommendations for better test coverage or more efficient testing approaches.\\n\\n7. **Test Maintenance**: As the software evolves, Langsmith can assist in updating and maintaining the test suite. It can analyze code changes and suggest updates to the corresponding test cases, ensuring that the tests remain relevant and effective.\\n\\nIt's important to note that while Langsmith can be a powerful tool for testing, it should be used in conjunction with human expertise and judgment. Testing is a critical aspect of software development, and human oversight and validation are still necessary to ensure the quality and reliability of the software.\", response_metadata={'id': 'msg_01QFmAQqLr1BXRReGFXJdn2F', 'model': 'claude-3-sonnet-20240229', 'stop_reason': 'end_turn', 'stop_sequence': None, 'usage': {'input_tokens': 15, 'output_tokens': 439}}, id='run-57d7b517-212d-4dce-abec-665fe3a9d28d-0')"
      ]
     },
     "execution_count": 6,
     "metadata": {},
     "output_type": "execute_result"
    }
   ],
   "source": [
    "# Check out the type:\n",
    "print(type(response))\n",
    "# Show the raw contents\n",
    "response"
   ]
  },
  {
   "cell_type": "code",
   "execution_count": 7,
   "id": "9ae7abe9-ea46-460b-b07b-269289078ff3",
   "metadata": {},
   "outputs": [
    {
     "name": "stdout",
     "output_type": "stream",
     "text": [
      "Langsmith can help with testing in several ways:\n",
      "\n",
      "1. **Test Case Generation**: Langsmith can be used to automatically generate test cases based on the requirements or specifications of the software being tested. It can analyze the code and generate test cases that cover different scenarios, edge cases, and boundary conditions.\n",
      "\n",
      "2. **Test Data Generation**: Langsmith can be used to generate realistic and diverse test data for testing purposes. This can include generating data for databases, files, or other input sources required by the software under test.\n",
      "\n",
      "3. **Test Automation**: Langsmith can be used to write and maintain automated test scripts. Its natural language understanding capabilities can help translate test requirements or scenarios into executable test scripts, reducing the effort required for manual test script creation.\n",
      "\n",
      "4. **Test Reporting**: Langsmith can assist in generating human-readable test reports by analyzing and summarizing the test results. It can highlight important findings, failures, and areas that require attention, making it easier for testers and stakeholders to understand the testing outcomes.\n",
      "\n",
      "5. **Test Documentation**: Langsmith can help in creating and maintaining test documentation, such as test plans, test cases, and test strategies. It can generate documentation based on the existing code, requirements, and test artifacts, ensuring that the documentation remains up-to-date and consistent.\n",
      "\n",
      "6. **Test Review and Analysis**: Langsmith can be used to review and analyze existing test cases, test data, and test scripts. It can identify potential issues, suggest improvements, and provide recommendations for better test coverage or more efficient testing approaches.\n",
      "\n",
      "7. **Test Maintenance**: As the software evolves, Langsmith can assist in updating and maintaining the test suite. It can analyze code changes and suggest updates to the corresponding test cases, ensuring that the tests remain relevant and effective.\n",
      "\n",
      "It's important to note that while Langsmith can be a powerful tool for testing, it should be used in conjunction with human expertise and judgment. Testing is a critical aspect of software development, and human oversight and validation are still necessary to ensure the quality and reliability of the software.\n"
     ]
    }
   ],
   "source": [
    "# Inside this object, I can get to the content, but I have to know where to look\n",
    "print(response.content)"
   ]
  },
  {
   "cell_type": "code",
   "execution_count": 8,
   "id": "9d732dfc-b4bf-4848-b308-52842a5f1b7e",
   "metadata": {},
   "outputs": [],
   "source": [
    "from langchain_core.prompts import ChatPromptTemplate\n",
    "prompt = ChatPromptTemplate.from_messages([\n",
    "    (\"system\", \"You are world class technical documentation writer.\"),\n",
    "    (\"user\", \"{input}\")\n",
    "])"
   ]
  },
  {
   "cell_type": "code",
   "execution_count": 9,
   "id": "facf93b3-b099-49e4-8b5b-9676d7bf0b1e",
   "metadata": {},
   "outputs": [],
   "source": [
    "# Chain\n",
    "chain = prompt | llm "
   ]
  },
  {
   "cell_type": "code",
   "execution_count": 10,
   "id": "d18291c1-ffd5-4ca4-a9a4-d29c968bae2f",
   "metadata": {},
   "outputs": [],
   "source": [
    "# Invoke\n",
    "myInput= {\"input\": \"how can langsmith help with testing?\"}\n",
    "#response = chain.invoke({\"input\": \"how can langsmith help with testing?\"})\n",
    "response = chain.invoke(myInput)"
   ]
  },
  {
   "cell_type": "code",
   "execution_count": 11,
   "id": "e96a4172-fd4f-4ee7-9096-ef8cd764c16a",
   "metadata": {},
   "outputs": [
    {
     "name": "stdout",
     "output_type": "stream",
     "text": [
      "Langsmith can be a valuable tool for testing software applications and systems. Here are some ways Langsmith can assist with testing:\n",
      "\n",
      "1. **Test Case Generation**: Langsmith's natural language processing capabilities can be used to generate test cases from requirements documents, user stories, or other textual descriptions of the system's expected behavior. This can help automate the process of creating comprehensive test suites.\n",
      "\n",
      "2. **Test Data Generation**: Langsmith can analyze the application's data requirements and generate realistic test data, including edge cases and boundary conditions. This can be particularly useful for testing data-intensive applications or scenarios where manually creating test data is time-consuming or error-prone.\n",
      "\n",
      "3. **Test Automation**: Langsmith can be integrated with testing frameworks and tools to automate the execution of test cases. By understanding natural language instructions, Langsmith can translate high-level test scenarios into executable test scripts or code.\n",
      "\n",
      "4. **Test Reporting**: Langsmith can analyze test execution logs and generate human-readable reports summarizing the test results, highlighting failures, and providing insights into the root causes of issues. This can help streamline the testing process and improve communication among team members.\n",
      "\n",
      "5. **Test Maintenance**: As requirements or the application under test evolve, Langsmith can assist in updating and maintaining test cases and test data. By understanding the changes in natural language, Langsmith can suggest modifications to the existing test suite, reducing the effort required for manual updates.\n",
      "\n",
      "6. **Exploratory Testing**: Langsmith's natural language understanding capabilities can be leveraged for exploratory testing, where testers can describe test scenarios or use cases in natural language, and Langsmith can guide the testing process by suggesting relevant test steps or paths to explore.\n",
      "\n",
      "7. **Test Prioritization**: Langsmith can analyze the test suite, requirements, and historical data to prioritize test cases based on factors such as risk, complexity, or coverage. This can help optimize testing efforts and ensure that critical areas of the application are thoroughly tested.\n",
      "\n",
      "It's important to note that while Langsmith can be a powerful tool for testing, it should be used in conjunction with human expertise and domain knowledge. Testing is a complex process that requires critical thinking, creativity, and a deep understanding of the application and its requirements.\n"
     ]
    }
   ],
   "source": [
    "print(response.content)"
   ]
  },
  {
   "cell_type": "code",
   "execution_count": 12,
   "id": "8a6479f2-5fe4-484e-b920-77623b1f3590",
   "metadata": {},
   "outputs": [],
   "source": [
    "from langchain_core.output_parsers import StrOutputParser\n",
    "\n",
    "output_parser = StrOutputParser()"
   ]
  },
  {
   "cell_type": "code",
   "execution_count": 13,
   "id": "e1783eb1-1c9c-4f30-8a28-e309f2448392",
   "metadata": {},
   "outputs": [],
   "source": [
    "# Defimne the 3-step-chain\n",
    "chain = prompt | llm | output_parser"
   ]
  },
  {
   "cell_type": "code",
   "execution_count": 14,
   "id": "ba5e7ba3-a16c-4a84-8934-d675dc9ca44c",
   "metadata": {},
   "outputs": [],
   "source": [
    "# Now the response is the result of the 3-steps\n",
    "response = chain.invoke(myInput)"
   ]
  },
  {
   "cell_type": "code",
   "execution_count": 15,
   "id": "37e812a0-0329-4238-8d5a-4bc1d4acff8a",
   "metadata": {},
   "outputs": [
    {
     "name": "stdout",
     "output_type": "stream",
     "text": [
      "LangSmith can be a valuable tool for testing in several ways:\n",
      "\n",
      "1. **Test Case Generation**: LangSmith can be used to generate test cases automatically based on the requirements or specifications provided. It can analyze the input and generate a comprehensive set of test cases, covering various scenarios and edge cases.\n",
      "\n",
      "2. **Test Data Generation**: LangSmith can generate realistic and diverse test data for testing purposes. This can be particularly useful when testing with large datasets or when dealing with complex data structures.\n",
      "\n",
      "3. **Test Script Generation**: LangSmith can generate test scripts in various programming languages, such as Python, Java, or JavaScript. These scripts can be used to automate the testing process, reducing the need for manual testing and increasing efficiency.\n",
      "\n",
      "4. **Natural Language Test Case Description**: LangSmith can understand natural language descriptions of test cases and convert them into executable test scripts or test case specifications. This can be helpful when working with non-technical stakeholders or when translating requirements into testable scenarios.\n",
      "\n",
      "5. **Test Report Generation**: LangSmith can generate human-readable test reports based on the test results. These reports can provide detailed information about the tests executed, the results obtained, and any issues or failures encountered.\n",
      "\n",
      "6. **Test Maintenance**: LangSmith can assist in maintaining and updating test cases and scripts as the requirements or codebase evolves. It can analyze changes and suggest updates to the test suite, ensuring that the tests remain relevant and effective.\n",
      "\n",
      "7. **Test Automation Framework Integration**: LangSmith can be integrated with various test automation frameworks, such as Selenium, Appium, or Pytest, to enhance the testing capabilities and provide a more comprehensive testing solution.\n",
      "\n",
      "To effectively utilize LangSmith for testing, it is important to provide clear and accurate requirements, specifications, or existing test cases as input. Additionally, domain knowledge and expertise in testing practices are still necessary to ensure the quality and effectiveness of the generated test artifacts.\n"
     ]
    }
   ],
   "source": [
    "print(response)"
   ]
  },
  {
   "cell_type": "code",
   "execution_count": null,
   "id": "5f384316-9aec-4a55-ac31-cf806c2ce901",
   "metadata": {},
   "outputs": [],
   "source": []
  }
 ],
 "metadata": {
  "kernelspec": {
   "display_name": "Python 3 (ipykernel)",
   "language": "python",
   "name": "python3"
  },
  "language_info": {
   "codemirror_mode": {
    "name": "ipython",
    "version": 3
   },
   "file_extension": ".py",
   "mimetype": "text/x-python",
   "name": "python",
   "nbconvert_exporter": "python",
   "pygments_lexer": "ipython3",
   "version": "3.10.14"
  }
 },
 "nbformat": 4,
 "nbformat_minor": 5
}
