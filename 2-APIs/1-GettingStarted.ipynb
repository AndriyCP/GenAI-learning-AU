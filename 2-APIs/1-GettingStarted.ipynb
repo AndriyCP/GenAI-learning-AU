{
 "cells": [
  {
   "cell_type": "markdown",
   "id": "107a1d5d-d590-49f2-94ac-f79e7d40dae4",
   "metadata": {},
   "source": [
    "## Getting Started with Jupyter Notebooks and Python for Business Data Analytics\n",
    "### Table of Contents\n",
    "1. [Introduction](#introduction)\n",
    "2. [Installing and importing modules](#modules)\n",
    "3. [Verify datatypes and expected output](#verify)\n",
    "4. [How to troubleshoot code and get help](#help)\n",
    "5. [Functions and Try-Except Structures](#functions)\n",
    "<!-- \n",
    "## Introduction <a name=\"introduction\"></a>\n",
    "Content for the introduction section.\n",
    "\n",
    "## Section One <a name=\"section-one\"></a>\n",
    "Content for the first section.\n",
    "\n",
    "## Section Two <a name=\"section-two\"></a>\n",
    "Content for the second section. -->"
   ]
  },
  {
   "cell_type": "markdown",
   "id": "7bcfe0b7-7d92-41b5-a707-33b1f457940d",
   "metadata": {},
   "source": [
    "## Introduction <a name=\"introduction\"></a>\n",
    "This notebook will guide you through the basics of using Jupyter notebooks and provide a quick review of common Python concepts.\n"
   ]
  },
  {
   "cell_type": "code",
   "execution_count": 1,
   "id": "4a1baa31",
   "metadata": {},
   "outputs": [
    {
     "name": "stdout",
     "output_type": "stream",
     "text": [
      "Using the print command: [1, 2, 'Three', {'Four': 4}, ('Five', 'Six', 7)]\n"
     ]
    },
    {
     "data": {
      "text/plain": [
       "[1, 2, 'Three', {'Four': 4}, ('Five', 'Six', 7)]"
      ]
     },
     "execution_count": 1,
     "metadata": {},
     "output_type": "execute_result"
    }
   ],
   "source": [
    "# Use the keyboard as much as possible\n",
    "#\n",
    "# To execute a cell, use the ctrl-enter (or shift-enter) keystroke (Windows). \n",
    "# (command-enter for MacOS?) This is the fastest way.\n",
    "# Do not use the Run button in the toolbar or the Run Cells from the Cell menu.\n",
    "lst = [1,2,'Three',{'Four':4},('Five','Six',7)]\n",
    "#\n",
    "# Viewing output:\n",
    "# If you want to see the result of your cell, either print() the thing you want to see:\n",
    "print('Using the print command:',lst)\n",
    "# or put the variable in the last line of the cell.\n",
    "lst"
   ]
  },
  {
   "cell_type": "code",
   "execution_count": 2,
   "id": "6a9e0b53",
   "metadata": {},
   "outputs": [],
   "source": [
    "# Use the command mode keystrokes:\n",
    "# 'Esc' puts the cell into command mode (turns blue)\n",
    "# 'Enter' puts the cell into edit mode (turns green)\n",
    "# Try this sequence:\n",
    "# - hit the Esc key\n",
    "# - then hit the 'b' key\n",
    "# This inserts a cell below. Very fast and useful."
   ]
  },
  {
   "cell_type": "code",
   "execution_count": 3,
   "id": "1ab46be7",
   "metadata": {},
   "outputs": [],
   "source": [
    "# Inesert above\n",
    "# use the key stroke: Esc - a\n",
    "# Inserts a cell above."
   ]
  },
  {
   "cell_type": "code",
   "execution_count": 4,
   "id": "ba53a7ae",
   "metadata": {},
   "outputs": [],
   "source": [
    "# Delete a cell\n",
    "# Esc dd"
   ]
  },
  {
   "cell_type": "code",
   "execution_count": 5,
   "id": "371f2208",
   "metadata": {},
   "outputs": [],
   "source": [
    "# Undo last action\n",
    "# Esc z"
   ]
  },
  {
   "cell_type": "code",
   "execution_count": 6,
   "id": "25e31362-2490-46bf-af09-5229798f1130",
   "metadata": {},
   "outputs": [],
   "source": [
    "# Change cell type:\n",
    "# Esc m (markdown)\n",
    "# Esc y (code)\n",
    "#\n",
    "# Then hit enter to edit the cell."
   ]
  },
  {
   "cell_type": "code",
   "execution_count": 7,
   "id": "65f805be",
   "metadata": {},
   "outputs": [],
   "source": [
    "# Comment and uncomment multiple lines:\n",
    "# Highlight the lines and push: Ctrl - /\n",
    "#\n",
    "# This is an embedded for loop:\n",
    "# for i in range(10):\n",
    "#     # For every i = 0,1,2,...9, do this    \n",
    "#     for j in range(2):\n",
    "#         # Print current i & 0, then i & 1\n",
    "#         print(i,j)"
   ]
  },
  {
   "cell_type": "code",
   "execution_count": 8,
   "id": "d1a20e10",
   "metadata": {},
   "outputs": [
    {
     "data": {
      "text/plain": [
       "[1, 2, 'Three', {'Four': 4}, ('Five', 'Six', 7)]"
      ]
     },
     "execution_count": 8,
     "metadata": {},
     "output_type": "execute_result"
    }
   ],
   "source": [
    "# Restart the kernel and clear all outputs: Esc 0 0 (this is zero zero)\n",
    "# This is a fresh beginning for the notebook.\n",
    "# This variable will be gone until you rerun the cell that defines it.\n",
    "lst"
   ]
  },
  {
   "cell_type": "markdown",
   "id": "b016a6c1",
   "metadata": {},
   "source": [
    "## Instaling and Loading Modules <a name=\"modules\"></a>\n",
    "Most Python packages we will use are already installed and we can just import them. Sometimes, we have to install a package before we can use it."
   ]
  },
  {
   "cell_type": "code",
   "execution_count": 9,
   "id": "941ea805",
   "metadata": {},
   "outputs": [
    {
     "data": {
      "text/plain": [
       "'3.10.14'"
      ]
     },
     "execution_count": 9,
     "metadata": {},
     "output_type": "execute_result"
    }
   ],
   "source": [
    "# Checking Python kernel version\n",
    "from platform import python_version\n",
    "python_version()"
   ]
  },
  {
   "cell_type": "code",
   "execution_count": 10,
   "id": "c14cf57e",
   "metadata": {},
   "outputs": [],
   "source": [
    "# If a module is installed, then we can just import it\n",
    "import pandas as pd\n",
    "# No error, so we are OK."
   ]
  },
  {
   "cell_type": "code",
   "execution_count": 11,
   "id": "a7ab1703",
   "metadata": {},
   "outputs": [
    {
     "ename": "ModuleNotFoundError",
     "evalue": "No module named 'pdftextract'",
     "output_type": "error",
     "traceback": [
      "\u001b[0;31m---------------------------------------------------------------------------\u001b[0m",
      "\u001b[0;31mModuleNotFoundError\u001b[0m                       Traceback (most recent call last)",
      "Cell \u001b[0;32mIn[11], line 2\u001b[0m\n\u001b[1;32m      1\u001b[0m \u001b[38;5;66;03m# Try to import something that isn't installed \u001b[39;00m\n\u001b[0;32m----> 2\u001b[0m \u001b[38;5;28;01mimport\u001b[39;00m \u001b[38;5;21;01mpdftextract\u001b[39;00m\n\u001b[1;32m      3\u001b[0m \u001b[38;5;66;03m# Error:  This likely is not installed.\u001b[39;00m\n",
      "\u001b[0;31mModuleNotFoundError\u001b[0m: No module named 'pdftextract'"
     ]
    }
   ],
   "source": [
    "# Try to import something that isn't installed \n",
    "import pdftextract\n",
    "# Error:  This likely is not installed."
   ]
  },
  {
   "cell_type": "code",
   "execution_count": 12,
   "id": "7a274ce2",
   "metadata": {},
   "outputs": [
    {
     "name": "stdout",
     "output_type": "stream",
     "text": [
      "Collecting pdftextract\n",
      "  Downloading pdftextract-0.0.5-py3-none-any.whl.metadata (3.5 kB)\n",
      "Downloading pdftextract-0.0.5-py3-none-any.whl (1.4 MB)\n",
      "\u001b[2K   \u001b[90m━━━━━━━━━━━━━━━━━━━━━━━━━━━━━━━━━━━━━━━━\u001b[0m \u001b[32m1.4/1.4 MB\u001b[0m \u001b[31m13.3 MB/s\u001b[0m eta \u001b[36m0:00:00\u001b[0ma \u001b[36m0:00:01\u001b[0m\n",
      "\u001b[?25hInstalling collected packages: pdftextract\n",
      "Successfully installed pdftextract-0.0.5\n",
      "Note: you may need to restart the kernel to use updated packages.\n",
      "This plataform is not currently supported, check 'support.txt' file for\n",
      "            information on how to run this class on other platforms.\n",
      "Name: pdftextract\n",
      "Version: 0.0.5\n",
      "Summary: a very fast and efficient text and image pdf extractor.\n",
      "Home-page: https://github.com/Bnilss/pdftextract\n",
      "Author: Iliass Benali\n",
      "Author-email: iliassben97@gmail.com\n",
      "License: UNKNOWN\n",
      "Location: /opt/conda/lib/python3.10/site-packages\n",
      "Requires: \n",
      "Required-by: \n",
      "Note: you may need to restart the kernel to use updated packages.\n"
     ]
    }
   ],
   "source": [
    "# Let's install it\n",
    "%pip install pdftextract\n",
    "# Now we can import it\n",
    "import pdftextract # no error\n",
    "# Get version information about pdftextract\n",
    "%pip show pdftextract"
   ]
  },
  {
   "cell_type": "markdown",
   "id": "ed1c827a",
   "metadata": {},
   "source": [
    "## Verify datatypes and expected outputs <a name=\"verify\"></a>\n",
    "Spend lots of time verifying the output from a cell is exactly what you expect.  \n",
    "Prove to yourself that you believe the output."
   ]
  },
  {
   "cell_type": "code",
   "execution_count": 13,
   "id": "2d624b1d",
   "metadata": {},
   "outputs": [
    {
     "name": "stdout",
     "output_type": "stream",
     "text": [
      "     col_0\n",
      "row1     1\n",
      "row2   2.0\n",
      "row3    -3\n"
     ]
    },
    {
     "data": {
      "text/plain": [
       "pandas.core.frame.DataFrame"
      ]
     },
     "execution_count": 13,
     "metadata": {},
     "output_type": "execute_result"
    }
   ],
   "source": [
    "# Many problems arise from not understanding datatypes.\n",
    "# Make sure you know the type of every variable. \n",
    "# This often leads to fixing somethign that is broken.\n",
    "# I use the type() function a lot.\n",
    "df = pd.DataFrame(['1',2.0,-3],columns=['col_0'],index=['row1', 'row2', 'row3'])\n",
    "print(df)\n",
    "type(df)"
   ]
  },
  {
   "cell_type": "code",
   "execution_count": 14,
   "id": "0ab29196",
   "metadata": {},
   "outputs": [
    {
     "name": "stdout",
     "output_type": "stream",
     "text": [
      "Print the item: 1 , Type of item: <class 'int'>\n",
      "Print the item: 2 , Type of item: <class 'int'>\n",
      "Print the item: Three , Type of item: <class 'str'>\n",
      "Print the item: {'Four': 4} , Type of item: <class 'dict'>\n",
      "Print the item: ('Five', 'Six', 7) , Type of item: <class 'tuple'>\n",
      "Print the item:      col_0\n",
      "row1     1\n",
      "row2   2.0\n",
      "row3    -3 , Type of item: <class 'pandas.core.frame.DataFrame'>\n"
     ]
    }
   ],
   "source": [
    "# Append this DataFrame to the lst from above\n",
    "lst.append(df)\n",
    "# Now look at the type of each item\n",
    "for item in lst:\n",
    "    print('Print the item:',item,', Type of item:',type(item))"
   ]
  },
  {
   "cell_type": "markdown",
   "id": "6c8f548a-8db8-4299-b92b-13a1df84863c",
   "metadata": {},
   "source": [
    "## Functions and Try-Except structures <a name=\"functions\"></a>\n",
    "Sometimes it really helps to organize your code into functions.<BR>\n",
    "Additionally, using the Try-Except stucture can handle runtime errors or glitches in data."
   ]
  },
  {
   "cell_type": "code",
   "execution_count": 15,
   "id": "8cf2d0ad-0f4d-41bd-a3d3-b6c75f2270b5",
   "metadata": {},
   "outputs": [],
   "source": [
    "# This cell defines the function. Once you execute this cell, \n",
    "# it will remain in memory ready to use.\n",
    "# Define a function that takes the first number to the power of the 2nd\n",
    "def power(x,y):\n",
    "    # Check out the try-except structure\n",
    "    try:\n",
    "        # Test the first variable for type = integer\n",
    "        if not isinstance(x,int):\n",
    "            return('Please give me integers')\n",
    "        else:\n",
    "        # Otherwise, do the math and return it\n",
    "            return(x**y)\n",
    "    # Here is where I catch an error if the top block doesn't work\n",
    "    except Exception as e:\n",
    "        # Print what the error was\n",
    "        return('Something went wrong:', e)"
   ]
  },
  {
   "cell_type": "code",
   "execution_count": 16,
   "id": "639554d9-8c81-4ddf-b2ed-11179a1fb639",
   "metadata": {},
   "outputs": [
    {
     "name": "stdout",
     "output_type": "stream",
     "text": [
      "Works great: 4\n",
      "Catches first variable error: Please give me integers\n",
      "('Something went wrong:', TypeError(\"unsupported operand type(s) for ** or pow(): 'int' and 'str'\"))\n"
     ]
    }
   ],
   "source": [
    "# Test it: Notice the difference bewteen 2 and '2'\n",
    "print('Works great:', power(2,2)) # works great\n",
    "print('Catches first variable error:', power('2', 2)) # Works great\n",
    "print(power(2,'2')) # Catches the 2nd variable error, but code still executes with no errors"
   ]
  },
  {
   "cell_type": "markdown",
   "id": "6c6e907b",
   "metadata": {},
   "source": [
    "### End:\n",
    "Hopefully, that was a good review of Python and useful tips on using jupyter notebooks."
   ]
  }
 ],
 "metadata": {
  "kernelspec": {
   "display_name": "Python 3 (ipykernel)",
   "language": "python",
   "name": "python3"
  },
  "language_info": {
   "codemirror_mode": {
    "name": "ipython",
    "version": 3
   },
   "file_extension": ".py",
   "mimetype": "text/x-python",
   "name": "python",
   "nbconvert_exporter": "python",
   "pygments_lexer": "ipython3",
   "version": "3.10.14"
  }
 },
 "nbformat": 4,
 "nbformat_minor": 5
}
